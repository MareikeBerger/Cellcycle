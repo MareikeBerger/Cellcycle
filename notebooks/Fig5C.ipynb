{
 "cells": [
  {
   "cell_type": "code",
   "execution_count": 1,
   "metadata": {},
   "outputs": [],
   "source": [
    "import numpy as np\n",
    "import pandas as pd\n",
    "import os\n",
    "from glob import glob\n",
    "from pprint import pprint\n",
    "import json\n",
    "import seaborn as sns\n",
    "import matplotlib.pyplot as plt\n",
    "from matplotlib.collections import LineCollection\n",
    "from matplotlib.colors import ListedColormap, BoundaryNorm\n",
    "import matplotlib.pyplot as plt\n",
    "\n",
    "import cellcycle.PlottingTools as plottingTools\n",
    "from cellcycle.ParameterSet import ParameterSet\n",
    "import cellcycle.DataStorage as dataStorage\n",
    "import cellcycle.DataAnalysis as dataAnalysis\n",
    "import cellcycle.MakeDataframe as makeDataframe"
   ]
  },
  {
   "cell_type": "code",
   "execution_count": 2,
   "metadata": {},
   "outputs": [],
   "source": [
    "file_path = '/home/berger/Documents/Arbeit/PhD/data/UltrasensitivityCombined/NatCom/fig_5/variance_lipids'\n",
    "parameter_path = os.path.join(file_path, 'parameter_set.csv')"
   ]
  },
  {
   "cell_type": "code",
   "execution_count": 3,
   "metadata": {},
   "outputs": [],
   "source": [
    "pinkish_red = (247 / 255, 109 / 255, 109 / 255)\n",
    "green = (0 / 255, 133 / 255, 86 / 255)\n",
    "dark_blue = (36 / 255, 49 / 255, 94 / 255)\n",
    "light_blue = (168 / 255, 209 / 255, 231 / 255)\n",
    "blue = (55 / 255, 71 / 255, 133 / 255)\n",
    "yellow = (247 / 255, 233 / 255, 160 / 255)"
   ]
  },
  {
   "cell_type": "code",
   "execution_count": 4,
   "metadata": {},
   "outputs": [],
   "source": [
    "v_init_exp = 0.28\n",
    "std_exp = 0.05"
   ]
  },
  {
   "cell_type": "code",
   "execution_count": 5,
   "metadata": {},
   "outputs": [
    {
     "name": "stdout",
     "output_type": "stream",
     "text": [
      "['/home/berger/Documents/Arbeit/PhD/data/UltrasensitivityCombined/NatCom/fig_5/variance_lipids/variances_models_1000.pdf',\n",
      " '/home/berger/Documents/Arbeit/PhD/data/UltrasensitivityCombined/NatCom/fig_5/variance_lipids/titration_longer',\n",
      " '/home/berger/Documents/Arbeit/PhD/data/UltrasensitivityCombined/NatCom/fig_5/variance_lipids/variances_models.pdf',\n",
      " '/home/berger/Documents/Arbeit/PhD/data/UltrasensitivityCombined/NatCom/fig_5/variance_lipids/variances_models_combined_short.pdf',\n",
      " '/home/berger/Documents/Arbeit/PhD/data/UltrasensitivityCombined/NatCom/fig_5/variance_lipids/switch_titration_lipid_noise_longer_5000',\n",
      " '/home/berger/Documents/Arbeit/PhD/data/UltrasensitivityCombined/NatCom/fig_5/variance_lipids/variances_models_5000_not_expl.pdf',\n",
      " '/home/berger/Documents/Arbeit/PhD/data/UltrasensitivityCombined/NatCom/fig_5/variance_lipids/switch_lipid_noise_5000',\n",
      " '/home/berger/Documents/Arbeit/PhD/data/UltrasensitivityCombined/NatCom/fig_5/variance_lipids/Fig_3C_poster.pdf',\n",
      " '/home/berger/Documents/Arbeit/PhD/data/UltrasensitivityCombined/NatCom/fig_5/variance_lipids/variances_models_5000_expl.pdf',\n",
      " '/home/berger/Documents/Arbeit/PhD/data/UltrasensitivityCombined/NatCom/fig_5/variance_lipids/variances_models_lipids_shorter.pdf']\n"
     ]
    },
    {
     "data": {
      "text/plain": [
       "0                             titration_longer\n",
       "1                             titration_longer\n",
       "2                             titration_longer\n",
       "3                             titration_longer\n",
       "4                             titration_longer\n",
       "5                             titration_longer\n",
       "6                             titration_longer\n",
       "7                             titration_longer\n",
       "8                             titration_longer\n",
       "9                             titration_longer\n",
       "10    switch_titration_lipid_noise_longer_5000\n",
       "11    switch_titration_lipid_noise_longer_5000\n",
       "12    switch_titration_lipid_noise_longer_5000\n",
       "13    switch_titration_lipid_noise_longer_5000\n",
       "14    switch_titration_lipid_noise_longer_5000\n",
       "15    switch_titration_lipid_noise_longer_5000\n",
       "16    switch_titration_lipid_noise_longer_5000\n",
       "17    switch_titration_lipid_noise_longer_5000\n",
       "18    switch_titration_lipid_noise_longer_5000\n",
       "19    switch_titration_lipid_noise_longer_5000\n",
       "20                     switch_lipid_noise_5000\n",
       "21                     switch_lipid_noise_5000\n",
       "22                     switch_lipid_noise_5000\n",
       "23                     switch_lipid_noise_5000\n",
       "24                     switch_lipid_noise_5000\n",
       "25                     switch_lipid_noise_5000\n",
       "26                     switch_lipid_noise_5000\n",
       "27                     switch_lipid_noise_5000\n",
       "28                     switch_lipid_noise_5000\n",
       "29                     switch_lipid_noise_5000\n",
       "Name: simu_name, dtype: object"
      ]
     },
     "execution_count": 5,
     "metadata": {},
     "output_type": "execute_result"
    }
   ],
   "source": [
    "data_frame = makeDataframe.make_dataframe(file_path)\n",
    "data_frame = makeDataframe.add_average_values_to_df(data_frame)\n",
    "data_frame = makeDataframe.add_theoretical_init_reg_concentrations_to_df(data_frame)\n",
    "data_frame.simu_name"
   ]
  },
  {
   "cell_type": "markdown",
   "metadata": {},
   "source": [
    "# Calculate initiation volume theoretically"
   ]
  },
  {
   "cell_type": "code",
   "execution_count": 6,
   "metadata": {},
   "outputs": [
    {
     "data": {
      "text/plain": [
       "0     0.265696\n",
       "1     0.136597\n",
       "2     0.134348\n",
       "3     0.233117\n",
       "4     0.091350\n",
       "5     0.092456\n",
       "6     0.138529\n",
       "7     0.131882\n",
       "8     0.243730\n",
       "9     0.254661\n",
       "10    0.355387\n",
       "11    0.371575\n",
       "12    0.353764\n",
       "13    0.343136\n",
       "14    0.339438\n",
       "15    0.321106\n",
       "16    0.377229\n",
       "17    0.321859\n",
       "18    0.342749\n",
       "19    0.340982\n",
       "20    0.368600\n",
       "21    0.321736\n",
       "22    0.346649\n",
       "23    0.298596\n",
       "24    0.567696\n",
       "25    0.718709\n",
       "26    0.355382\n",
       "27    0.501154\n",
       "28    0.265919\n",
       "29    0.300277\n",
       "Name: v_init_per_n_ori, dtype: float64"
      ]
     },
     "execution_count": 6,
     "metadata": {},
     "output_type": "execute_result"
    }
   ],
   "source": [
    "def calculate_v_initi_no_overlap_switch_time_varying(df):\n",
    "    try:\n",
    "#         print(df.production_rate_dars1)\n",
    "        production_rate_dars1 = df.production_rate_dars1\n",
    "    except:\n",
    "        production_rate_dars1 = 0\n",
    "    return df.destruction_rate_datA / df.production_rate_lipids * df.frac_init * \\\n",
    "           (df.michaelis_const_prod + (1 - df.frac_init) * df.total_conc) / \\\n",
    "           ((1 - df.frac_init) * (df.michaelis_const_destr + df.frac_init * df.total_conc))-((production_rate_dars1+ df.production_rate_dars2)/df.production_rate_lipids)\n",
    "\n",
    "def calculate_v_initi_overlap_switch_time_varying(df):\n",
    "    try:\n",
    "#         print(df.production_rate_dars1)\n",
    "        production_rate_dars1 = df.production_rate_dars1\n",
    "    except:\n",
    "        production_rate_dars1 = 0\n",
    "    return (df.destruction_rate_datA + df.high_rate_datA + df.destruction_rate_rida) / df.production_rate_lipids * df.frac_init * \\\n",
    "           (df.michaelis_const_prod + (1 - df.frac_init) * df.total_conc) / \\\n",
    "           ((1 - df.frac_init) * (df.michaelis_const_destr + df.frac_init * df.total_conc))- \\\n",
    "           ((production_rate_dars1 + df.production_rate_dars2 + df.high_rate_dars2)/df.production_rate_lipids)\n",
    "\n",
    "data_frame[\"v_init_per_n_ori_th_no_time_varying\"] = data_frame.apply(lambda row: calculate_v_initi_no_overlap_switch_time_varying(row), axis=1)\n",
    "data_frame[\"v_init_per_n_ori_th_o_time_varying\"] = data_frame.apply(lambda row: calculate_v_initi_no_overlap_switch_time_varying(row), axis=1)\n",
    "data_frame.v_init_per_n_ori"
   ]
  },
  {
   "cell_type": "code",
   "execution_count": 7,
   "metadata": {},
   "outputs": [],
   "source": [
    "def calculate_v_init_switch_synthesis(df):\n",
    "    if df.include_synthesis==0:\n",
    "        return df.destruction_rate_datA / df.production_rate_lipids * df.frac_init * \\\n",
    "               (df.michaelis_const_prod + (1 - df.frac_init) * df.total_conc) / \\\n",
    "               ((1 - df.frac_init) * (df.michaelis_const_destr + df.frac_init * df.total_conc))\n",
    "    else:\n",
    "        return (df.destruction_rate_datA/df.total_conc) * \\\n",
    "                df.frac_init / (df.michaelis_const_destr/df.total_conc+ df.frac_init) * \\\n",
    "                (df.michaelis_const_prod / df.total_conc + 1 - df.frac_init) / \\\n",
    "                ((1- df.frac_init) * \\\n",
    "                (df.production_rate_lipids/df.total_conc + df.rate_growth * (df.michaelis_const_prod / df.total_conc + 1 - df.frac_init)))\n",
    "    \n",
    "data_frame[\"v_init_per_n_ori_synthesis\"] = data_frame.apply(lambda row: calculate_v_init_switch_synthesis(row), axis=1)\n"
   ]
  },
  {
   "cell_type": "markdown",
   "metadata": {},
   "source": [
    "# Calculate CV"
   ]
  },
  {
   "cell_type": "code",
   "execution_count": 8,
   "metadata": {},
   "outputs": [
    {
     "name": "stdout",
     "output_type": "stream",
     "text": [
      "titration_longer\n",
      "switch_titration_lipid_noise_longer_5000\n",
      "switch_lipid_noise_5000\n"
     ]
    }
   ],
   "source": [
    "for simu_name in data_frame.simu_name.unique():\n",
    "    simu_df = data_frame[data_frame[\"simu_name\"] == simu_name]\n",
    "    print(simu_name)\n",
    "    data_frame.loc[data_frame['simu_name'] == simu_name, 'mean_v_init_per_n_ori'] = np.mean(simu_df[\"v_init_per_n_ori\"])\n",
    "    data_frame.loc[data_frame['simu_name'] == simu_name, 'stdd_v_init_per_n_ori'] = np.std(simu_df[\"v_init_per_n_ori\"])\n",
    "    data_frame.loc[data_frame['simu_name'] == simu_name, 'cv_v_init_per_n_ori'] = np.std(simu_df[\"v_init_per_n_ori\"])/np.mean(simu_df[\"v_init_per_n_ori\"])"
   ]
  },
  {
   "cell_type": "markdown",
   "metadata": {},
   "source": [
    "# Calculate variance at different growth rates"
   ]
  },
  {
   "cell_type": "code",
   "execution_count": 9,
   "metadata": {},
   "outputs": [],
   "source": [
    "def return_array_of_initiation_volumes(filepath_h5):\n",
    "    data_frame = pd.read_hdf(filepath_h5, key='dataset_init_events')\n",
    "    return data_frame['v_init_per_ori'], data_frame['t_init']\n",
    "\n",
    "def calculate_CV_v_init(row):\n",
    "    v_init_per_ori, t_init = return_array_of_initiation_volumes(row.path_dataset)\n",
    "    v_init_np = v_init_per_ori.to_numpy()\n",
    "    return np.std(v_init_np[10:])/np.mean(v_init_np[10:])"
   ]
  },
  {
   "cell_type": "code",
   "execution_count": 10,
   "metadata": {},
   "outputs": [
    {
     "data": {
      "text/plain": [
       "0     0.000100\n",
       "1     0.246007\n",
       "2     0.234215\n",
       "3     0.000234\n",
       "4     0.338525\n",
       "5     0.318021\n",
       "6     0.258325\n",
       "7     0.221658\n",
       "8     0.000190\n",
       "9     0.000143\n",
       "10    0.028312\n",
       "11    0.041772\n",
       "12    0.040242\n",
       "13    0.025691\n",
       "14    0.033271\n",
       "15    0.031320\n",
       "16    0.024948\n",
       "17    0.036507\n",
       "18    0.025504\n",
       "19    0.024902\n",
       "20    0.172999\n",
       "21    0.084443\n",
       "22    0.093300\n",
       "23    0.110915\n",
       "24    0.061920\n",
       "25    0.051227\n",
       "26    0.099155\n",
       "27    0.083674\n",
       "28    0.120307\n",
       "29    0.125275\n",
       "Name: CV_v_init, dtype: float64"
      ]
     },
     "execution_count": 10,
     "metadata": {},
     "output_type": "execute_result"
    }
   ],
   "source": [
    "data_frame[\"CV_v_init\"] = data_frame.apply(lambda row: calculate_CV_v_init(row), axis=1)\n",
    "data_frame.CV_v_init"
   ]
  },
  {
   "cell_type": "markdown",
   "metadata": {},
   "source": [
    "# Make Legends"
   ]
  },
  {
   "cell_type": "code",
   "execution_count": 11,
   "metadata": {},
   "outputs": [],
   "source": [
    "def make_production_rate_datA_lipids_cv_legend(destruction_rate_datA, production_rate_lipids, cv):\n",
    "    return r'$\\beta_{{\\rm datA}}={}$ /h, $\\alpha_{{\\rm lipids}}={}$ /h, CV= {}'.format(np.round(destruction_rate_datA,3), \n",
    "                                                                                       np.round(production_rate_lipids,3), \n",
    "                                                                                       np.round(cv,3))\n",
    "\n",
    "def make_production_rate_datA_cv_legend(destruction_rate_datA, cv):\n",
    "    return r'$\\beta_{{\\rm datA}}={}$ /h, CV= {}'.format(np.round(destruction_rate_datA,3),\n",
    "                                                        np.round(cv,3))\n",
    "\n",
    "def make_production_rate_datA_legend(destruction_rate_datA):\n",
    "    return r'$\\beta_{{\\rm datA}}={}$ min$^{{-1}}$'.format(int(destruction_rate_datA/60))\n",
    "\n",
    "def make_production_rate_datA_lipids_legend(destruction_rate_datA, production_rate_lipids):\n",
    "    return r'$\\beta_{{\\rm datA}}={}$ /h, \\linebreak  $\\alpha_{{\\rm lipids}}={}$ /h'.format(np.round(destruction_rate_datA,3), \n",
    "                                                                                       np.round(production_rate_lipids,3))\n",
    "\n",
    "def make_theoretical_v_init_legend(v_init_per_n_ori_th_no_time_varying):\n",
    "    return r'$v^\\ast_{{\\rm th}}={} \\, \\mu $m$^3$'.format(np.round(v_init_per_n_ori_th_no_time_varying,3))\n",
    "\n",
    "def make_legend_model(version_of_model, n_sites, block_production):\n",
    "    if version_of_model == 'titration':\n",
    "        if block_production == 0:\n",
    "            return 'titration'\n",
    "        else:\n",
    "            return 'titration+SeqA'\n",
    "    if n_sites==0:\n",
    "        return 'LDDR'\n",
    "    else:\n",
    "        if block_production == 0:\n",
    "            return 'LDDR+titration'\n",
    "        else:\n",
    "            return 'LDDR+titration+SeqA'\n",
    "\n",
    "def make_order(legend_models):\n",
    "    if legend_models == 'titration':\n",
    "        return 1\n",
    "    if legend_models == 'titration+SeqA':\n",
    "        return 2\n",
    "    if legend_models == 'LDDR':\n",
    "        return 3\n",
    "    if legend_models == 'LDDR+titration+SeqA':\n",
    "        return 4\n",
    "    \n",
    "\n",
    "\n",
    "data_frame.loc[:, 'legend_datA_lipids_cv'] = data_frame.apply(lambda row: make_production_rate_datA_lipids_cv_legend(row.destruction_rate_datA,\n",
    "                                                                                                              row.production_rate_lipids,\n",
    "                                                                                                              row.cv_v_init_per_n_ori), axis = 1)\n",
    "\n",
    "data_frame.loc[:, 'legend_datA_cv'] = data_frame.apply(lambda row: make_production_rate_datA_cv_legend(row.destruction_rate_datA,\n",
    "                                                                                                              row.cv_v_init_per_n_ori), axis = 1)\n",
    "\n",
    "data_frame.loc[:, 'legend_datA'] = data_frame.apply(lambda row: make_production_rate_datA_legend(row.destruction_rate_datA), axis = 1)\n",
    "\n",
    "data_frame.loc[:, 'legend_datA_lipids'] = data_frame.apply(lambda row: make_production_rate_datA_lipids_legend(row.destruction_rate_datA,\n",
    "                                                                                                              row.production_rate_lipids), axis = 1)\n",
    "\n",
    "data_frame.loc[:, 'legend_v_init_th'] = data_frame.apply(lambda row: make_theoretical_v_init_legend(row.v_init_per_n_ori_th_no_time_varying), axis = 1)\n",
    "\n",
    "data_frame.loc[:, 'legend_models'] = data_frame.apply(lambda row: make_legend_model(row.version_of_model, row.n_c_max_0, row.block_production), axis = 1)\n",
    "\n",
    "data_frame.loc[:, 'legend_order'] = data_frame.apply(lambda row: make_order(row.legend_models), axis = 1)\n"
   ]
  },
  {
   "cell_type": "markdown",
   "metadata": {},
   "source": [
    "# Determine minimal activator fraction"
   ]
  },
  {
   "cell_type": "code",
   "execution_count": 12,
   "metadata": {},
   "outputs": [],
   "source": [
    "def determine_min_frac(filepath_h5, total_conc):\n",
    "    data_frame_traces = pd.read_hdf(filepath_h5, key='dataset_time_traces')\n",
    "    fractions = data_frame_traces['active_conc'] / total_conc\n",
    "    return np.min(fractions[int(fractions.size/2):])\n",
    "\n",
    "def determine_max_frac(filepath_h5, total_conc):\n",
    "    data_frame_traces = pd.read_hdf(filepath_h5, key='dataset_time_traces')\n",
    "    fractions = data_frame_traces['active_conc'] / total_conc\n",
    "    return np.max(fractions[int(fractions.size/2):])\n",
    "\n",
    "data_frame.loc[:, 'min_frac'] = data_frame.apply(lambda row: determine_min_frac(row.path_dataset, row.total_conc), axis = 1)\n",
    "data_frame.loc[:, 'max_frac'] = data_frame.apply(lambda row: determine_max_frac(row.path_dataset, row.total_conc), axis = 1)\n",
    "data_frame['amplitude_frac'] = data_frame['max_frac']-data_frame['min_frac']\n",
    "data_frame['relative_change_frac']= data_frame['min_frac']/data_frame['max_frac']"
   ]
  },
  {
   "cell_type": "markdown",
   "metadata": {},
   "source": [
    "# Plot initiation volume per origin"
   ]
  },
  {
   "cell_type": "code",
   "execution_count": 13,
   "metadata": {},
   "outputs": [
    {
     "data": {
      "image/png": "[encoded data removed]",
      "text/plain": [
       "<Figure size 504x504 with 1 Axes>"
      ]
     },
     "metadata": {},
     "output_type": "display_data"
    }
   ],
   "source": [
    "sns.set(style=\"ticks\")\n",
    "sns.set_context(\"poster\")\n",
    "\n",
    "fig, ax = plt.subplots(figsize=(7,7))\n",
    "sns.lineplot(\n",
    "    x='rate_growth', \n",
    "    y='v_init_per_n_ori',\n",
    "    data=data_frame.sort_values(by=[\"destruction_rate_datA\"], ascending=False),\n",
    "    hue='legend_models',\n",
    "#     palette= [green, blue, pinkish_red], # yellow],\n",
    "    linewidth = 3.5,\n",
    "    ax=ax\n",
    ");\n",
    "# ax.lines[0].set_linestyle(\"--\")\n",
    "# ax.lines[1].set_linestyle(\"--\")\n",
    "# ax.lines[2].set_linestyle(\"--\")\n",
    "# ax.lines[3].set_linestyle(\"--\")\n",
    "ax.margins(0)\n",
    "\n",
    "# Theoretical prediction\n",
    "ax.hlines(data_frame['v_init_per_n_ori_th_no_time_varying'][0], \n",
    "            data_frame['rate_growth'].min(), \n",
    "            data_frame['rate_growth'].max(), \n",
    "            color='black', \n",
    "            linestyle='-',\n",
    "            label= data_frame['legend_v_init_th'].iloc[0])\n",
    "# Experimental results\n",
    "# ax.hlines(v_init_exp, \n",
    "#             data_frame['rate_growth'].min(), \n",
    "#             data_frame['rate_growth'].max(), \n",
    "#             color='black', \n",
    "#             label= r'$v^\\ast_{{\\rm exp}}={} \\, \\mu m^3$'.format(v_init_exp))\n",
    "# upper_bound = np.array(data_frame['v_init_per_n_ori_th_no_time_varying']) + std_exp\n",
    "# lower_bound = np.array(data_frame['v_init_per_n_ori_th_no_time_varying']) - std_exp\n",
    "# ax.axhspan(upper_bound[0], lower_bound[0], facecolor='black', alpha=0.1)\n",
    "\n",
    "ax.set(xlabel=r'$\\lambda$ [h$^{-1}$]', ylabel=r'$v^\\ast$ [$\\mu$m$^3$]')\n",
    "# ax.set(ylim=(0,0.45))\n",
    "ax.tick_params(direction='out', length=6, width=2, grid_alpha=0.5)\n",
    "handles, labels = ax.get_legend_handles_labels()\n",
    "ax.legend(handles=handles[1:], labels=labels[1:])\n",
    "plt.savefig(file_path + '/Fig_3C_poster.pdf', format='pdf', bbox_inches='tight')"
   ]
  },
  {
   "cell_type": "markdown",
   "metadata": {},
   "source": [
    "# Plot amplitude time varying"
   ]
  },
  {
   "cell_type": "code",
   "execution_count": 14,
   "metadata": {},
   "outputs": [
    {
     "data": {
      "image/png": "[encoded data removed]",
      "text/plain": [
       "<Figure size 504x504 with 1 Axes>"
      ]
     },
     "metadata": {},
     "output_type": "display_data"
    }
   ],
   "source": [
    "sns.set(style=\"ticks\")\n",
    "sns.set_context(\"poster\")\n",
    "\n",
    "fig, ax = plt.subplots(figsize=(7,7))\n",
    "sns.lineplot(\n",
    "    x='rate_growth', \n",
    "    y='CV_v_init',\n",
    "    data=data_frame.sort_values(by=[\"legend_order\"]),\n",
    "    hue='legend_models',\n",
    "#     dashes=[(4, 1), (4, 1), (4, 1), (4, 1)],\n",
    "    markers=True,\n",
    "    palette= [green, blue, pinkish_red],\n",
    "    linewidth = 3.5,\n",
    "    ax=ax\n",
    ");\n",
    "ax.lines[0].set_linestyle(\"--\")\n",
    "ax.lines[1].set_linestyle(\"--\")\n",
    "ax.lines[2].set_linestyle(\"--\")\n",
    "# ax.lines[3].set_linestyle(\"--\")\n",
    "ax.margins(0)\n",
    "ax.set(xlabel=r'$\\lambda$ [h$^{-1}$]', ylabel=r'CV')\n",
    "# plt.legend(labels=legend\n",
    "ax.set(ylim=(0,0.36))\n",
    "ax.tick_params(direction='out', length=6, width=2, grid_alpha=0.5)\n",
    "handles, labels = ax.get_legend_handles_labels()\n",
    "ax.legend(handles=handles[1:], labels=labels[1:])\n",
    "plt.savefig(file_path + '/variances_models.pdf', format='pdf', bbox_inches='tight')"
   ]
  },
  {
   "cell_type": "code",
   "execution_count": null,
   "metadata": {},
   "outputs": [],
   "source": []
  },
  {
   "cell_type": "code",
   "execution_count": null,
   "metadata": {},
   "outputs": [],
   "source": []
  },
  {
   "cell_type": "code",
   "execution_count": null,
   "metadata": {},
   "outputs": [],
   "source": []
  },
  {
   "cell_type": "code",
   "execution_count": null,
   "metadata": {},
   "outputs": [],
   "source": []
  },
  {
   "cell_type": "code",
   "execution_count": null,
   "metadata": {},
   "outputs": [],
   "source": []
  }
 ],
 "metadata": {
  "kernelspec": {
   "display_name": "Python 3 (ipykernel)",
   "language": "python",
   "name": "python3"
  },
  "language_info": {
   "codemirror_mode": {
    "name": "ipython",
    "version": 3
   },
   "file_extension": ".py",
   "mimetype": "text/x-python",
   "name": "python",
   "nbconvert_exporter": "python",
   "pygments_lexer": "ipython3",
   "version": "3.7.3"
  }
 },
 "nbformat": 4,
 "nbformat_minor": 2
}
