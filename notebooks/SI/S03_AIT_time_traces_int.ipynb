{
 "cells": [
  {
   "cell_type": "code",
   "execution_count": 2,
   "metadata": {},
   "outputs": [],
   "source": [
    "import numpy as np\n",
    "import pandas as pd\n",
    "import os\n",
    "from glob import glob\n",
    "from pprint import pprint\n",
    "import json\n",
    "import seaborn as sns\n",
    "from matplotlib.collections import LineCollection\n",
    "from matplotlib.colors import ListedColormap, BoundaryNorm\n",
    "import matplotlib.pyplot as plt\n",
    "\n",
    "import cellcycle.PlottingTools as plottingTools\n",
    "from cellcycle.ParameterSet import ParameterSet\n",
    "import cellcycle.DataStorage as dataStorage\n",
    "import cellcycle.DataAnalysis as dataAnalysis\n",
    "import cellcycle.MakeDataframe as makeDataframe\n",
    "from cellcycle import mainClass"
   ]
  },
  {
   "cell_type": "code",
   "execution_count": 21,
   "metadata": {},
   "outputs": [],
   "source": [
    "distribution_sites = 'inhom' # options 'homogeneous' or 'inhom'"
   ]
  },
  {
   "cell_type": "code",
   "execution_count": 22,
   "metadata": {},
   "outputs": [
    {
     "name": "stdout",
     "output_type": "stream",
     "text": [
      "file_path /home/berger/Documents/Arbeit/PhD/data/UltrasensitivityCombined/NatCom/SI/S3_homogeneous/inhom_int\n",
      "parameter_path /home/berger/Documents/Arbeit/PhD/data/UltrasensitivityCombined/NatCom/SI/S3_homogeneous/inhom_int/parameter_set.csv\n"
     ]
    }
   ],
   "source": [
    "file_path_input_params_json = '../../input_params.json'\n",
    "input_param_dict = mainClass.extract_variables_from_input_params_json(file_path_input_params_json)\n",
    "root_path = input_param_dict[\"DATA_FOLDER_PATH\"]\n",
    "simulation_location = 'SI/S3_homogeneous/'+distribution_sites+'_int'\n",
    "file_path = os.path.join(root_path, simulation_location)\n",
    "print('file_path', file_path)\n",
    "parameter_path = os.path.join(file_path, 'parameter_set.csv')\n",
    "print('parameter_path', parameter_path)"
   ]
  },
  {
   "cell_type": "code",
   "execution_count": 23,
   "metadata": {},
   "outputs": [],
   "source": [
    "pinkish_red = (247 / 255, 109 / 255, 109 / 255)\n",
    "green = (0 / 255, 133 / 255, 86 / 255)\n",
    "dark_blue = (36 / 255, 49 / 255, 94 / 255)\n",
    "light_blue = (168 / 255, 209 / 255, 231 / 255)\n",
    "blue = (55 / 255, 71 / 255, 133 / 255)\n",
    "yellow = (247 / 255, 233 / 255, 160 / 255)\n",
    "dark_yellow = (235 / 255, 201 / 255, 27 / 255)"
   ]
  },
  {
   "cell_type": "code",
   "execution_count": 24,
   "metadata": {},
   "outputs": [
    {
     "name": "stdout",
     "output_type": "stream",
     "text": [
      "['/home/berger/Documents/Arbeit/PhD/data/UltrasensitivityCombined/NatCom/SI/S3_homogeneous/inhom_int/int_inhom',\n",
      " '/home/berger/Documents/Arbeit/PhD/data/UltrasensitivityCombined/NatCom/SI/S3_homogeneous/inhom_int/int_inhom_init_volume_over_time_with_th.pdf',\n",
      " '/home/berger/Documents/Arbeit/PhD/data/UltrasensitivityCombined/NatCom/SI/S3_homogeneous/inhom_int/SI_AIT_inhom_overlap.pdf']\n"
     ]
    },
    {
     "data": {
      "text/plain": [
       "0    /home/berger/Documents/Arbeit/PhD/data/Ultrase...\n",
       "Name: path_dataset, dtype: object"
      ]
     },
     "execution_count": 24,
     "metadata": {},
     "output_type": "execute_result"
    }
   ],
   "source": [
    "data_frame = makeDataframe.make_dataframe(file_path)\n",
    "data_frame = makeDataframe.add_average_values_to_df(data_frame)\n",
    "data_frame = makeDataframe.add_theoretical_init_reg_concentrations_to_df(data_frame)\n",
    "data_frame.path_dataset"
   ]
  },
  {
   "cell_type": "markdown",
   "metadata": {},
   "source": [
    "# Calculate initiator concentration, initiation volume and theoretical division and birth volume"
   ]
  },
  {
   "cell_type": "code",
   "execution_count": 25,
   "metadata": {},
   "outputs": [],
   "source": [
    "def return_last_initiator_conc_at_t_init_from_path(filepath_h5):\n",
    "    data_frame = pd.read_hdf(filepath_h5, key='dataset_init_events')\n",
    "    v_init = data_frame.iloc[-1]['v_init']\n",
    "    n_init = data_frame.iloc[-1]['n_init']\n",
    "    return n_init / v_init\n",
    "    \n",
    "data_frame[\"init_conc_at_t_init\"] = data_frame.apply(lambda row: return_last_initiator_conc_at_t_init_from_path(row.path_dataset), axis=1)\n"
   ]
  },
  {
   "cell_type": "code",
   "execution_count": 26,
   "metadata": {},
   "outputs": [],
   "source": [
    "from scipy.optimize import fsolve\n",
    "    \n",
    "def solve_initiation_volume_analytically(z, diss_constant_sites, total_conc, sites_total, critical_free_conc):\n",
    "    volume = z[0]\n",
    "    sum_1 = diss_constant_sites + sites_total / volume + (volume * total_conc) / volume\n",
    "    free_conc = total_conc - sum_1 / 2 + np.sqrt(\n",
    "        sum_1 ** 2 - 4 * (sites_total / volume) * total_conc )/2\n",
    "    F = free_conc-critical_free_conc\n",
    "    return F\n",
    "\n",
    "data_frame.loc[:,\"v_init_per_n_ori_th_solved_exact_conc\"]= data_frame.apply(\n",
    "    lambda row: fsolve(solve_initiation_volume_analytically, \n",
    "                       row.v_init_per_n_ori, args=(row. diss_constant_sites, row.init_conc_at_t_init, row.n_c_max_0, row.critical_free_conc))[0], axis=1)\n"
   ]
  },
  {
   "cell_type": "code",
   "execution_count": 27,
   "metadata": {},
   "outputs": [],
   "source": [
    "data_frame[\"v_d_th\"] = data_frame.apply(lambda row: row.v_init_per_n_ori_th_solved_exact_conc * 2**(row.t_CD *row.doubling_rate), axis=1)\n",
    "data_frame[\"v_b_th\"] = data_frame.apply(lambda row: row.v_d_th / 2, axis=1)\n",
    "v_b_th = data_frame.iloc[0]['v_b_th']\n",
    "# data_frame[\"v_b_th\"]"
   ]
  },
  {
   "cell_type": "markdown",
   "metadata": {},
   "source": [
    "# Plot time traces of volumes"
   ]
  },
  {
   "cell_type": "code",
   "execution_count": 28,
   "metadata": {},
   "outputs": [
    {
     "name": "stdout",
     "output_type": "stream",
     "text": [
      "['/home/berger/Documents/Arbeit/PhD/data/UltrasensitivityCombined/NatCom/SI/S3_homogeneous/inhom_int/int_inhom',\n",
      " '/home/berger/Documents/Arbeit/PhD/data/UltrasensitivityCombined/NatCom/SI/S3_homogeneous/inhom_int/int_inhom_init_volume_over_time_with_th.pdf',\n",
      " '/home/berger/Documents/Arbeit/PhD/data/UltrasensitivityCombined/NatCom/SI/S3_homogeneous/inhom_int/SI_AIT_inhom_overlap.pdf']\n"
     ]
    }
   ],
   "source": [
    "data_frame = makeDataframe.make_dataframe(file_path)\n",
    "time_traces_data_frame = pd.read_hdf(data_frame['path_dataset'].iloc[0], key='dataset_time_traces')\n",
    "\n",
    "v_init_data_frame = pd.read_hdf(data_frame['path_dataset'].iloc[0], key='dataset_init_events')\n",
    "v_init = v_init_data_frame.iloc[-1]['v_init']\n",
    "v_init_list = v_init_data_frame['v_init_per_ori'].to_numpy()\n",
    "v_init_per_ori = v_init_data_frame.iloc[-1]['v_init_per_ori']\n",
    "t_init_list = v_init_data_frame['t_init'].to_numpy()\n",
    "\n",
    "v_d_data_frame = pd.read_hdf(data_frame['path_dataset'].iloc[0], key='dataset_div_events')\n",
    "t_div_list = v_d_data_frame['t_d'].to_numpy()"
   ]
  },
  {
   "cell_type": "code",
   "execution_count": 29,
   "metadata": {},
   "outputs": [
    {
     "name": "stdout",
     "output_type": "stream",
     "text": [
      "11667\n",
      "6872 10395\n",
      "[ 7.456  8.04   8.624  9.207  9.791 10.375] [10.375]\n"
     ]
    }
   ],
   "source": [
    "time = np.array(time_traces_data_frame[\"time\"])\n",
    "volume = np.array(time_traces_data_frame[\"volume\"])\n",
    "n_ori = np.array(time_traces_data_frame[\"n_ori\"])\n",
    "n_p = np.array(time_traces_data_frame[\"N_init\"])\n",
    "n_s = np.array(time_traces_data_frame[\"sites_total\"])\n",
    "total_conc = n_p / volume\n",
    "free_conc = np.array(time_traces_data_frame[\"free_conc\"])\n",
    "print(time.size)\n",
    "t_0 = time[volume==v_d_data_frame['v_b'][9]]\n",
    "indx_0 = np.where(time==t_0)[0][0]\n",
    "t_f = time[volume==v_d_data_frame['v_b'][15]]\n",
    "indx_f = np.where(time==t_f)[0][0]+20\n",
    "\n",
    "print(indx_0, indx_f)\n",
    "\n",
    "n_ori_cut = n_ori[indx_0:indx_f]\n",
    "time_cut = time[indx_0:indx_f]\n",
    "volume_cut = volume[indx_0:indx_f]\n",
    "n_ori_density_cut = n_ori_cut / volume_cut\n",
    "n_p_cut = n_p[indx_0:indx_f]\n",
    "n_s_cut = n_s[indx_0:indx_f]\n",
    "total_conc_cut = total_conc[indx_0:indx_f]\n",
    "free_conc_cut = free_conc[indx_0:indx_f]\n",
    "\n",
    "t_init_list_cut_1 = t_init_list[t_init_list>t_0]\n",
    "t_init_list_cut = t_init_list_cut_1[t_init_list_cut_1<t_f]\n",
    "\n",
    "v_init_list_cut_1 = v_init_list[t_init_list>t_0]\n",
    "v_init_list_cut = v_init_list_cut_1[t_init_list_cut_1<t_f]\n",
    "\n",
    "t_div_list_cut_1 = t_div_list[t_div_list>t_0]\n",
    "t_div_list_cut = t_div_list_cut_1[t_div_list_cut_1<=t_f]\n",
    "print(t_div_list_cut, t_f)"
   ]
  },
  {
   "cell_type": "code",
   "execution_count": 30,
   "metadata": {},
   "outputs": [
    {
     "name": "stdout",
     "output_type": "stream",
     "text": [
      "0.5833333333284721 6.872 7.713572107178216\n"
     ]
    },
    {
     "data": {
      "image/png": "[encoded data removed]",
      "text/plain": [
       "<Figure size 230.4x288 with 4 Axes>"
      ]
     },
     "metadata": {},
     "output_type": "display_data"
    }
   ],
   "source": [
    "label_list = [r'$V(t) \\, [\\mu m^3]$', r'$N(t)$', r'$[p]_{\\rm T}$', r'$[p]$']\n",
    "x_axes_list = [time_cut, time_cut, time_cut, time_cut]\n",
    "y_axes_list = [volume_cut, n_p_cut, total_conc_cut, free_conc_cut]\n",
    "color_list = [green, dark_blue, pinkish_red, blue]\n",
    "y_min_list = [0,0,0,0]\n",
    "y_max_list = [1, 1.2, 1.2, 1.2]\n",
    "\n",
    "doubling_time = 1/data_frame.iloc[0]['doubling_rate']\n",
    "fig, ax = plt.subplots(4, figsize=(3.2,4))\n",
    "plt.xlabel(r'time [$\\tau_{\\rm d}$]')\n",
    "for item in range(0, len(label_list)):\n",
    "    if item == 1:\n",
    "        ax[item].plot(time_cut, n_s_cut, color=dark_yellow, zorder=2)\n",
    "    ax[item].set_ylabel(label_list[item])\n",
    "    ax[item].plot(x_axes_list[item], y_axes_list[item], color=color_list[item], zorder=3)\n",
    "    ax[item].set_ylim(ymin=0)\n",
    "    ax[item].tick_params(\n",
    "        axis='x',          # changes apply to the x-axis\n",
    "        which='both',      # both major and minor ticks are affected\n",
    "        bottom=False,      # ticks along the bottom edge are off\n",
    "        top=False,         # ticks along the top edge are off\n",
    "        labelbottom=False) # labels along the bottom edge are off\n",
    "    ax[item].spines[\"top\"].set_visible(False)\n",
    "    ax[item].spines[\"right\"].set_visible(False)\n",
    "    ax[item].margins(0)\n",
    "    for t_div in t_div_list_cut:\n",
    "        ax[item].axvline(x=t_div, \n",
    "                          ymin=y_min_list[item],\n",
    "                          ymax=y_max_list[item],\n",
    "                             c=\"black\",\n",
    "                          zorder=0, \n",
    "                          linewidth=0.8,\n",
    "                          clip_on=False)\n",
    "    for t_init in t_init_list_cut:\n",
    "        ax[item].axvline(x=t_init, \n",
    "                          ymin=y_min_list[item],\n",
    "                          ymax=y_max_list[item],\n",
    "                             c=\"black\",\n",
    "                          zorder=0, \n",
    "                          linewidth=0.8,\n",
    "                          linestyle='--',\n",
    "                          clip_on=False)\n",
    "        ax[item].axvspan(t_init, \n",
    "                 t_init + data_frame.iloc[0]['period_blocked'], \n",
    "                  ymin=y_min_list[item],\n",
    "                  ymax=y_max_list[item],\n",
    "                 alpha=0.3, \n",
    "                 color='red', \n",
    "                 linewidth=0.8,\n",
    "                 clip_on=False)\n",
    "if data_frame.iloc[0]['homogeneous_dist_sites']==0:\n",
    "    ax[0].set_yticks([0,  v_init_per_ori, 2* v_init_per_ori])\n",
    "    ax[0].set_yticklabels(['0', r'$v^\\ast$', r'$2 \\, v^\\ast$'])\n",
    "    ax[0].get_yticklabels()[1].set_color(color_list[0])\n",
    "    ax[0].get_yticklabels()[2].set_color(color_list[0])\n",
    "    ax[0].axhline(y=2 * v_init, color=green, linestyle='--', label=r'$2 \\, v^\\ast$')\n",
    "    ax[0].axhline(y=v_init, color=green, linestyle='--', label=r'$v^\\ast$')\n",
    "\n",
    "\n",
    "ax[1].set_yticks([0,2* data_frame.iloc[0]['n_c_max_0'],4 * data_frame.iloc[0]['n_c_max_0']])\n",
    "ax[1].set_yticklabels(['0', r'$2 \\, n_{\\rm s}^\\ast$', r'$4 \\, n_{\\rm s}^\\ast$'])\n",
    "ax[1].get_yticklabels()[1].set_color(dark_yellow)\n",
    "ax[1].get_yticklabels()[2].set_color(dark_yellow)\n",
    "ax[1].axhline(y=[2*data_frame.iloc[0]['n_c_max_0']], color=dark_yellow, linestyle='--')\n",
    "ax[1].axhline(y=[data_frame.iloc[0]['n_c_max_0']], color=dark_yellow, linestyle='--')\n",
    "\n",
    "ax[2].set(ylim=(0,total_conc_cut[-1]*1.25))\n",
    "\n",
    "ax[3].axhline(y=data_frame.iloc[0]['critical_free_conc'], color=color_list[3], linestyle='--')\n",
    "ax[3].set_yticks([0, data_frame.iloc[0]['critical_free_conc']])\n",
    "ax[3].set_yticklabels(['0', r'$K_{\\rm D}^{\\rm ori}$'])\n",
    "ax[3].get_yticklabels()[1].set_color(color_list[3])\n",
    "ax[3].tick_params(bottom=True, labelbottom=True)\n",
    "ax[3].tick_params(axis='x', colors='black')\n",
    "\n",
    "ax[3].set_xticks([time_cut[0], \n",
    "                  time_cut[0]+ doubling_time, \n",
    "                  time_cut[0]+ 2*doubling_time, \n",
    "                  time_cut[0]+ 3*doubling_time, \n",
    "                  time_cut[0]+ 4*doubling_time, \n",
    "                  time_cut[0]+ 5*doubling_time, \n",
    "                  time_cut[0]+ 6*doubling_time])\n",
    "ax[3].set_xticklabels(['0', '1', '2', '3', '4', '5', '6'])\n",
    "ax[3].margins(0)\n",
    "ax[3].tick_params(     # ticks along the bottom edge are off\n",
    "    bottom=True,         # ticks along the top edge are off\n",
    "    labelbottom=True)\n",
    "\n",
    "print(doubling_time, time_cut[0], time_cut[0]+ doubling_time / np.log(2))\n",
    "plt.savefig(file_path + '/SI_AIT_'+distribution_sites+'_overlap.pdf', format='pdf',bbox_inches='tight')"
   ]
  },
  {
   "cell_type": "markdown",
   "metadata": {},
   "source": [
    "# Plot initiation volume over time"
   ]
  },
  {
   "cell_type": "code",
   "execution_count": 20,
   "metadata": {},
   "outputs": [
    {
     "data": {
      "image/png": "[encoded data removed]",
      "text/plain": [
       "<Figure size 216x216 with 1 Axes>"
      ]
     },
     "metadata": {
      "needs_background": "light"
     },
     "output_type": "display_data"
    }
   ],
   "source": [
    "def return_array_of_initiation_volumes(filepath_h5):\n",
    "    data_frame = pd.read_hdf(filepath_h5, key='dataset_init_events')\n",
    "    return data_frame['v_init_per_ori'], data_frame['t_init']\n",
    "\n",
    "for index, row in data_frame.iterrows():\n",
    "    fig, ax = plt.subplots(figsize=(3,3))\n",
    "    v_init_per_ori, t_init = return_array_of_initiation_volumes(row.path_dataset)\n",
    "    delta_0 = v_init_per_ori[row.cycle_with_error+1]-v_init_per_ori[0]\n",
    "#     ax.plot(t_init_list_cut, v_init_per_ori, 'o', color=dark_blue)\n",
    "    ax.plot(t_init_list_cut, v_init_list_cut, '--', color=dark_blue)\n",
    "    ax.set(xlabel=r'time [$\\tau_{\\rm d}$]', ylabel=r'$v^\\ast$ [$\\mu$m]')\n",
    "#     ax.legend()\n",
    "    ax.set_yticks([0, 0.5])\n",
    "    ax.set_yticklabels(['0','0.5'])\n",
    "    ax.set_xticks([time_cut[0], \n",
    "                  time_cut[0]+ doubling_time, \n",
    "                  time_cut[0]+ 2*doubling_time, \n",
    "                  time_cut[0]+ 3*doubling_time, \n",
    "                  time_cut[0]+ 4*doubling_time, \n",
    "                  time_cut[0]+ 5*doubling_time, \n",
    "                  time_cut[0]+ 6*doubling_time])\n",
    "    ax.set_xticklabels(['0', '1', '2', '3', '4', '5', '6'])\n",
    "#     ax.margins(0)\n",
    "    ax.tick_params(     # ticks along the bottom edge are off\n",
    "        bottom=True,         # ticks along the top edge are off\n",
    "        labelbottom=True)\n",
    "plt.savefig(file_path + '/' + data_frame.iloc[index][\"simu_name\"] + '_init_volume_over_time_with_th.pdf', format='pdf', bbox_inches='tight')\n"
   ]
  },
  {
   "cell_type": "code",
   "execution_count": null,
   "metadata": {},
   "outputs": [],
   "source": []
  },
  {
   "cell_type": "code",
   "execution_count": null,
   "metadata": {},
   "outputs": [],
   "source": []
  }
 ],
 "metadata": {
  "kernelspec": {
   "display_name": "Python 3",
   "language": "python",
   "name": "python3"
  },
  "language_info": {
   "codemirror_mode": {
    "name": "ipython",
    "version": 3
   },
   "file_extension": ".py",
   "mimetype": "text/x-python",
   "name": "python",
   "nbconvert_exporter": "python",
   "pygments_lexer": "ipython3",
   "version": "3.7.3"
  }
 },
 "nbformat": 4,
 "nbformat_minor": 2
}
