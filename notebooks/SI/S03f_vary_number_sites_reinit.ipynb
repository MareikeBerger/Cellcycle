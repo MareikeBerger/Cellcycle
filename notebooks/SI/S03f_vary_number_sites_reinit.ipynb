{
 "cells": [
  {
   "cell_type": "code",
   "execution_count": 1,
   "metadata": {},
   "outputs": [],
   "source": [
    "import numpy as np\n",
    "import pandas as pd\n",
    "import os\n",
    "from glob import glob\n",
    "from pprint import pprint\n",
    "import json\n",
    "import seaborn as sns\n",
    "import matplotlib.pyplot as plt\n",
    "from matplotlib.collections import LineCollection\n",
    "from matplotlib.colors import ListedColormap, BoundaryNorm\n",
    "import matplotlib.pyplot as plt\n",
    "\n",
    "import cellcycle.PlottingTools as plottingTools\n",
    "from cellcycle.ParameterSet import ParameterSet\n",
    "import cellcycle.DataStorage as dataStorage\n",
    "import cellcycle.DataAnalysis as dataAnalysis\n",
    "import cellcycle.MakeDataframe as makeDataframe\n",
    "from cellcycle import mainClass"
   ]
  },
  {
   "cell_type": "markdown",
   "metadata": {},
   "source": [
    "The following lines need to be used if data the from downloaded dataset should be used. The location of the ``Data`` folder needs to be specified by the parameter ``DATA_FOLDER_PATH`` in the file ``input_params.json``. \n",
    "\n",
    "If you want to analyse your own dataset you need to set the variable ``file_path`` to the folder where the simulation is located. Importantly, in this folder there should only be located exactly one simulation."
   ]
  },
  {
   "cell_type": "code",
   "execution_count": 2,
   "metadata": {},
   "outputs": [
    {
     "name": "stdout",
     "output_type": "stream",
     "text": [
      "file_path /home/berger/Data/UltrasensitivityCombined/Final_NatCom_Submission/SI/S3_homogeneous/Simulations\n",
      "parameter_path /home/berger/Data/UltrasensitivityCombined/Final_NatCom_Submission/SI/S3_homogeneous/Simulations/parameter_set.csv\n"
     ]
    }
   ],
   "source": [
    "file_path_input_params_json = '../../input_params.json'\n",
    "input_param_dict = mainClass.extract_variables_from_input_params_json(file_path_input_params_json)\n",
    "root_path = input_param_dict[\"DATA_FOLDER_PATH\"]\n",
    "simulation_location = 'SI/S3_homogeneous/Simulations'\n",
    "file_path = os.path.join(root_path, simulation_location)\n",
    "print('file_path', file_path)\n",
    "parameter_path = os.path.join(file_path, 'parameter_set.csv')\n",
    "print('parameter_path', parameter_path)\n",
    "\n",
    "parameter_path = os.path.join(file_path, 'parameter_set.csv')"
   ]
  },
  {
   "cell_type": "code",
   "execution_count": 3,
   "metadata": {},
   "outputs": [],
   "source": [
    "pinkish_red = (247 / 255, 109 / 255, 109 / 255)\n",
    "green = (0 / 255, 133 / 255, 86 / 255)\n",
    "dark_blue = (36 / 255, 49 / 255, 94 / 255)\n",
    "light_blue = (168 / 255, 209 / 255, 231 / 255)\n",
    "blue = (55 / 255, 71 / 255, 133 / 255)\n",
    "yellow = (247 / 255, 233 / 255, 160 / 255)"
   ]
  },
  {
   "cell_type": "code",
   "execution_count": 4,
   "metadata": {},
   "outputs": [],
   "source": [
    "v_init_exp = 0.28\n",
    "std_exp = 0.05"
   ]
  },
  {
   "cell_type": "code",
   "execution_count": 5,
   "metadata": {},
   "outputs": [
    {
     "name": "stdout",
     "output_type": "stream",
     "text": [
      "['/home/berger/Data/UltrasensitivityCombined/Final_NatCom_Submission/SI/S3_homogeneous/Simulations/ns_300_total_conc_1000',\n",
      " '/home/berger/Data/UltrasensitivityCombined/Final_NatCom_Submission/SI/S3_homogeneous/Simulations/ns_400_total_conc_1000',\n",
      " '/home/berger/Data/UltrasensitivityCombined/Final_NatCom_Submission/SI/S3_homogeneous/Simulations/ns_350_total_conc_1000',\n",
      " '/home/berger/Data/UltrasensitivityCombined/Final_NatCom_Submission/SI/S3_homogeneous/Simulations/variances_models.pdf',\n",
      " '/home/berger/Data/UltrasensitivityCombined/Final_NatCom_Submission/SI/S3_homogeneous/Simulations/Fig_3C_poster.pdf']\n"
     ]
    },
    {
     "data": {
      "text/plain": [
       "0     ns_300_total_conc_1000\n",
       "1     ns_300_total_conc_1000\n",
       "2     ns_300_total_conc_1000\n",
       "3     ns_300_total_conc_1000\n",
       "4     ns_300_total_conc_1000\n",
       "5     ns_300_total_conc_1000\n",
       "6     ns_300_total_conc_1000\n",
       "7     ns_300_total_conc_1000\n",
       "8     ns_300_total_conc_1000\n",
       "9     ns_300_total_conc_1000\n",
       "10    ns_400_total_conc_1000\n",
       "11    ns_400_total_conc_1000\n",
       "12    ns_400_total_conc_1000\n",
       "13    ns_400_total_conc_1000\n",
       "14    ns_400_total_conc_1000\n",
       "15    ns_400_total_conc_1000\n",
       "16    ns_400_total_conc_1000\n",
       "17    ns_400_total_conc_1000\n",
       "18    ns_400_total_conc_1000\n",
       "19    ns_400_total_conc_1000\n",
       "20    ns_350_total_conc_1000\n",
       "21    ns_350_total_conc_1000\n",
       "22    ns_350_total_conc_1000\n",
       "23    ns_350_total_conc_1000\n",
       "24    ns_350_total_conc_1000\n",
       "25    ns_350_total_conc_1000\n",
       "26    ns_350_total_conc_1000\n",
       "27    ns_350_total_conc_1000\n",
       "28    ns_350_total_conc_1000\n",
       "29    ns_350_total_conc_1000\n",
       "Name: simu_name, dtype: object"
      ]
     },
     "execution_count": 5,
     "metadata": {},
     "output_type": "execute_result"
    }
   ],
   "source": [
    "data_frame = makeDataframe.make_dataframe(file_path)\n",
    "data_frame = makeDataframe.add_average_values_to_df(data_frame)\n",
    "data_frame = makeDataframe.add_theoretical_init_reg_concentrations_to_df(data_frame)\n",
    "data_frame.simu_name"
   ]
  },
  {
   "cell_type": "markdown",
   "metadata": {},
   "source": [
    "# Calculate CV"
   ]
  },
  {
   "cell_type": "code",
   "execution_count": 6,
   "metadata": {},
   "outputs": [
    {
     "name": "stdout",
     "output_type": "stream",
     "text": [
      "ns_300_total_conc_1000\n",
      "ns_400_total_conc_1000\n",
      "ns_350_total_conc_1000\n"
     ]
    }
   ],
   "source": [
    "for simu_name in data_frame.simu_name.unique():\n",
    "    simu_df = data_frame[data_frame[\"simu_name\"] == simu_name]\n",
    "    print(simu_name)\n",
    "    data_frame.loc[data_frame['simu_name'] == simu_name, 'mean_v_init_per_n_ori'] = np.mean(simu_df[\"v_init_per_n_ori\"])\n",
    "    data_frame.loc[data_frame['simu_name'] == simu_name, 'stdd_v_init_per_n_ori'] = np.std(simu_df[\"v_init_per_n_ori\"])\n",
    "    data_frame.loc[data_frame['simu_name'] == simu_name, 'cv_v_init_per_n_ori'] = np.std(simu_df[\"v_init_per_n_ori\"])/np.mean(simu_df[\"v_init_per_n_ori\"])"
   ]
  },
  {
   "cell_type": "markdown",
   "metadata": {},
   "source": [
    "# Calculate variance at different growth rates"
   ]
  },
  {
   "cell_type": "code",
   "execution_count": 7,
   "metadata": {},
   "outputs": [],
   "source": [
    "def return_array_of_initiation_volumes(filepath_h5):\n",
    "    data_frame = pd.read_hdf(filepath_h5, key='dataset_init_events')\n",
    "    return data_frame['v_init_per_ori'], data_frame['t_init']\n",
    "\n",
    "def calculate_CV_v_init(row):\n",
    "    v_init_per_ori, t_init = return_array_of_initiation_volumes(row.path_dataset)\n",
    "    v_init_np = v_init_per_ori.to_numpy()\n",
    "    return np.std(v_init_np[10:])/np.mean(v_init_np[10:])"
   ]
  },
  {
   "cell_type": "code",
   "execution_count": 8,
   "metadata": {},
   "outputs": [
    {
     "data": {
      "text/plain": [
       "0     0.000099\n",
       "1     0.246048\n",
       "2     0.236253\n",
       "3     0.000207\n",
       "4     0.339137\n",
       "5     0.318109\n",
       "6     0.258360\n",
       "7     0.223397\n",
       "8     0.000194\n",
       "9     0.000164\n",
       "10    0.000102\n",
       "11    0.246048\n",
       "12    0.236273\n",
       "13    0.000244\n",
       "14    0.338240\n",
       "15    0.317994\n",
       "16    0.258315\n",
       "17    0.223551\n",
       "18    0.000187\n",
       "19    0.000168\n",
       "20    0.000099\n",
       "21    0.245996\n",
       "22    0.236266\n",
       "23    0.000207\n",
       "24    0.338344\n",
       "25    0.318109\n",
       "26    0.258315\n",
       "27    0.223443\n",
       "28    0.000194\n",
       "29    0.000142\n",
       "Name: CV_v_init, dtype: float64"
      ]
     },
     "execution_count": 8,
     "metadata": {},
     "output_type": "execute_result"
    }
   ],
   "source": [
    "data_frame[\"CV_v_init\"] = data_frame.apply(lambda row: calculate_CV_v_init(row), axis=1)\n",
    "data_frame.CV_v_init"
   ]
  },
  {
   "cell_type": "markdown",
   "metadata": {},
   "source": [
    "# Make Legends"
   ]
  },
  {
   "cell_type": "code",
   "execution_count": 9,
   "metadata": {},
   "outputs": [],
   "source": [
    "def make_legend(n_c_max_0, diss_constant_sites):\n",
    "    return r'$n_{{\\rm s}}={}, K_{{\\rm D}}^{{s}}={} \\, \\mu$m$^{{-3}}$'.format(int(n_c_max_0), int(diss_constant_sites))\n",
    "\n",
    "data_frame.loc[:, 'legend_ns_sites'] = data_frame.apply(lambda row: make_legend(row.n_c_max_0, row.diss_constant_sites), axis = 1)"
   ]
  },
  {
   "cell_type": "markdown",
   "metadata": {},
   "source": [
    "# Determine minimal activator fraction"
   ]
  },
  {
   "cell_type": "code",
   "execution_count": 10,
   "metadata": {},
   "outputs": [],
   "source": [
    "def determine_min_frac(filepath_h5, total_conc):\n",
    "    data_frame_traces = pd.read_hdf(filepath_h5, key='dataset_time_traces')\n",
    "    fractions = data_frame_traces['active_conc'] / total_conc\n",
    "    return np.min(fractions[int(fractions.size/2):])\n",
    "\n",
    "def determine_max_frac(filepath_h5, total_conc):\n",
    "    data_frame_traces = pd.read_hdf(filepath_h5, key='dataset_time_traces')\n",
    "    fractions = data_frame_traces['active_conc'] / total_conc\n",
    "    return np.max(fractions[int(fractions.size/2):])\n",
    "\n",
    "data_frame.loc[:, 'min_frac'] = data_frame.apply(lambda row: determine_min_frac(row.path_dataset, row.total_conc), axis = 1)\n",
    "data_frame.loc[:, 'max_frac'] = data_frame.apply(lambda row: determine_max_frac(row.path_dataset, row.total_conc), axis = 1)\n",
    "data_frame['amplitude_frac'] = data_frame['max_frac']-data_frame['min_frac']\n",
    "data_frame['relative_change_frac']= data_frame['min_frac']/data_frame['max_frac']"
   ]
  },
  {
   "cell_type": "markdown",
   "metadata": {},
   "source": [
    "# Plot amplitude time varying"
   ]
  },
  {
   "cell_type": "code",
   "execution_count": 12,
   "metadata": {},
   "outputs": [
    {
     "data": {
      "image/png": "[encoded data removed]",
      "text/plain": [
       "<Figure size 504x504 with 1 Axes>"
      ]
     },
     "metadata": {},
     "output_type": "display_data"
    }
   ],
   "source": [
    "sns.set(style=\"ticks\")\n",
    "sns.set_context(\"poster\")\n",
    "\n",
    "fig, ax = plt.subplots(figsize=(7,7))\n",
    "sns.lineplot(\n",
    "    x='rate_growth', \n",
    "    y='CV_v_init',\n",
    "    data=data_frame.sort_values(by=[\"n_c_max_0\"]),\n",
    "    hue='legend_ns_sites',\n",
    "#     dashes=[(4, 1), (4, 1), (4, 1), (4, 1)],\n",
    "    markers=True,\n",
    "    palette= [green, blue, pinkish_red],\n",
    "    linewidth = 3.5,\n",
    "    ax=ax\n",
    ");\n",
    "ax.lines[0].set_linestyle(\"--\")\n",
    "ax.lines[1].set_linestyle(\"--\")\n",
    "ax.lines[2].set_linestyle(\"--\")\n",
    "# ax.lines[3].set_linestyle(\"--\")\n",
    "ax.margins(0)\n",
    "ax.set(xlabel=r'$\\lambda$ [h$^{-1}$]', ylabel=r'CV')\n",
    "# plt.legend(labels=legend\n",
    "ax.set(ylim=(0,0.36))\n",
    "# ax.vlines(x=(np.log(2)/data_frame[\"t_C\"][0]), ymin=0, ymax=0.36)\n",
    "ax.tick_params(direction='out', length=6, width=2, grid_alpha=0.5)\n",
    "handles, labels = ax.get_legend_handles_labels()\n",
    "ax.legend(handles=handles[1:], labels=labels[1:])\n",
    "plt.savefig(file_path + '/variances_models.pdf', format='pdf', bbox_inches='tight')"
   ]
  },
  {
   "cell_type": "code",
   "execution_count": null,
   "metadata": {},
   "outputs": [],
   "source": []
  },
  {
   "cell_type": "code",
   "execution_count": null,
   "metadata": {},
   "outputs": [],
   "source": []
  },
  {
   "cell_type": "code",
   "execution_count": null,
   "metadata": {},
   "outputs": [],
   "source": []
  },
  {
   "cell_type": "code",
   "execution_count": null,
   "metadata": {},
   "outputs": [],
   "source": []
  },
  {
   "cell_type": "code",
   "execution_count": null,
   "metadata": {},
   "outputs": [],
   "source": []
  }
 ],
 "metadata": {
  "kernelspec": {
   "display_name": "Python 3",
   "language": "python",
   "name": "python3"
  },
  "language_info": {
   "codemirror_mode": {
    "name": "ipython",
    "version": 3
   },
   "file_extension": ".py",
   "mimetype": "text/x-python",
   "name": "python",
   "nbconvert_exporter": "python",
   "pygments_lexer": "ipython3",
   "version": "3.7.3"
  }
 },
 "nbformat": 4,
 "nbformat_minor": 2
}
