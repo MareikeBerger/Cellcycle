{
 "cells": [
  {
   "cell_type": "code",
   "execution_count": 1,
   "metadata": {},
   "outputs": [],
   "source": [
    "import numpy as np\n",
    "import pandas as pd\n",
    "import os\n",
    "from glob import glob\n",
    "from pprint import pprint\n",
    "import json\n",
    "import seaborn as sns\n",
    "import matplotlib.pyplot as plt\n",
    "from matplotlib.collections import LineCollection\n",
    "from matplotlib.colors import ListedColormap, BoundaryNorm\n",
    "import matplotlib.pyplot as plt\n",
    "\n",
    "import cellcycle.PlottingTools as plottingTools\n",
    "from cellcycle.ParameterSet import ParameterSet\n",
    "import cellcycle.DataStorage as dataStorage\n",
    "import cellcycle.DataAnalysis as dataAnalysis\n",
    "import cellcycle.MakeDataframe as makeDataframe"
   ]
  },
  {
   "cell_type": "code",
   "execution_count": 2,
   "metadata": {},
   "outputs": [],
   "source": [
    "mutant = 'depl_lipids_50'\n",
    "file_path = '/home/berger/Documents/Arbeit/PhD/data/UltrasensitivityCombined/NatCom/SI/S16_model_validation/muntants_final_parameter_set/make_time_trace'\n",
    "parameter_path = os.path.join(file_path, 'parameter_set.csv')\n",
    "indx = 0"
   ]
  },
  {
   "cell_type": "markdown",
   "metadata": {},
   "source": [
    "# Make data frame from time traces"
   ]
  },
  {
   "cell_type": "code",
   "execution_count": 3,
   "metadata": {},
   "outputs": [
    {
     "name": "stdout",
     "output_type": "stream",
     "text": [
      "['/home/berger/Documents/Arbeit/PhD/data/UltrasensitivityCombined/NatCom/SI/S16_model_validation/muntants_final_parameter_set/make_time_trace/S11_titration_switch_combined_del_dars2_1.pdf',\n",
      " '/home/berger/Documents/Arbeit/PhD/data/UltrasensitivityCombined/NatCom/SI/S16_model_validation/muntants_final_parameter_set/make_time_trace/S11_titration_switch_combined_del_dars1_dars2_1.pdf',\n",
      " '/home/berger/Documents/Arbeit/PhD/data/UltrasensitivityCombined/NatCom/SI/S16_model_validation/muntants_final_parameter_set/make_time_trace/S11_titration_switch_combined_del_RIDA_1.pdf',\n",
      " '/home/berger/Documents/Arbeit/PhD/data/UltrasensitivityCombined/NatCom/SI/S16_model_validation/muntants_final_parameter_set/make_time_trace/S11_titration_switch_combined_del_lipids_1.pdf',\n",
      " '/home/berger/Documents/Arbeit/PhD/data/UltrasensitivityCombined/NatCom/SI/S16_model_validation/muntants_final_parameter_set/make_time_trace/S11_titration_switch_combined_depl_lipids_50_1.pdf',\n",
      " '/home/berger/Documents/Arbeit/PhD/data/UltrasensitivityCombined/NatCom/SI/S16_model_validation/muntants_final_parameter_set/make_time_trace/S11_titration_switch_combined_del_dars1_dars2_0.pdf',\n",
      " '/home/berger/Documents/Arbeit/PhD/data/UltrasensitivityCombined/NatCom/SI/S16_model_validation/muntants_final_parameter_set/make_time_trace/S11_titration_switch_combined_depl_lipids_50_0.pdf',\n",
      " '/home/berger/Documents/Arbeit/PhD/data/UltrasensitivityCombined/NatCom/SI/S16_model_validation/muntants_final_parameter_set/make_time_trace/S11_titration_switch_combined_del_seqA_1.pdf',\n",
      " '/home/berger/Documents/Arbeit/PhD/data/UltrasensitivityCombined/NatCom/SI/S16_model_validation/muntants_final_parameter_set/make_time_trace/S11_titration_switch_combined_del_dars2_0.pdf',\n",
      " '/home/berger/Documents/Arbeit/PhD/data/UltrasensitivityCombined/NatCom/SI/S16_model_validation/muntants_final_parameter_set/make_time_trace/depl_lipids_50',\n",
      " '/home/berger/Documents/Arbeit/PhD/data/UltrasensitivityCombined/NatCom/SI/S16_model_validation/muntants_final_parameter_set/make_time_trace/S11_titration_switch_combined_del_RIDA_0.pdf',\n",
      " '/home/berger/Documents/Arbeit/PhD/data/UltrasensitivityCombined/NatCom/SI/S16_model_validation/muntants_final_parameter_set/make_time_trace/S11_titration_switch_combined_del_datA_1.pdf',\n",
      " '/home/berger/Documents/Arbeit/PhD/data/UltrasensitivityCombined/NatCom/SI/S16_model_validation/muntants_final_parameter_set/make_time_trace/S11_titration_switch_combined_WT_0.pdf',\n",
      " '/home/berger/Documents/Arbeit/PhD/data/UltrasensitivityCombined/NatCom/SI/S16_model_validation/muntants_final_parameter_set/make_time_trace/S11_titration_switch_combined_del_datA_0.pdf',\n",
      " '/home/berger/Documents/Arbeit/PhD/data/UltrasensitivityCombined/NatCom/SI/S16_model_validation/muntants_final_parameter_set/make_time_trace/S11_titration_switch_combined_del_lipids_0.pdf',\n",
      " '/home/berger/Documents/Arbeit/PhD/data/UltrasensitivityCombined/NatCom/SI/S16_model_validation/muntants_final_parameter_set/make_time_trace/S11_titration_switch_combined_del_seqA_0.pdf',\n",
      " '/home/berger/Documents/Arbeit/PhD/data/UltrasensitivityCombined/NatCom/SI/S16_model_validation/muntants_final_parameter_set/make_time_trace/S11_titration_switch_combined_WT_1.pdf']\n"
     ]
    },
    {
     "data": {
      "text/html": [
       "<div>\n",
       "<style scoped>\n",
       "    .dataframe tbody tr th:only-of-type {\n",
       "        vertical-align: middle;\n",
       "    }\n",
       "\n",
       "    .dataframe tbody tr th {\n",
       "        vertical-align: top;\n",
       "    }\n",
       "\n",
       "    .dataframe thead th {\n",
       "        text-align: right;\n",
       "    }\n",
       "</style>\n",
       "<table border=\"1\" class=\"dataframe\">\n",
       "  <thead>\n",
       "    <tr style=\"text-align: right;\">\n",
       "      <th></th>\n",
       "      <th>amplitude_oscillations</th>\n",
       "      <th>aspect_ratio</th>\n",
       "      <th>basal_rate_initiator</th>\n",
       "      <th>basal_rate_initiator_0</th>\n",
       "      <th>basal_rate_regulator</th>\n",
       "      <th>basal_rate_regulator_0</th>\n",
       "      <th>block_production</th>\n",
       "      <th>code_path</th>\n",
       "      <th>conc_0</th>\n",
       "      <th>continuous_oscillations</th>\n",
       "      <th>...</th>\n",
       "      <th>total_conc</th>\n",
       "      <th>translational_efficiency</th>\n",
       "      <th>underexpression_oscillations</th>\n",
       "      <th>v_0</th>\n",
       "      <th>v_init_th</th>\n",
       "      <th>version_of_coupled_division_regulation</th>\n",
       "      <th>version_of_independent_division_regulation</th>\n",
       "      <th>version_of_lipid_regulation</th>\n",
       "      <th>version_of_model</th>\n",
       "      <th>version_of_titration</th>\n",
       "    </tr>\n",
       "  </thead>\n",
       "  <tbody>\n",
       "    <tr>\n",
       "      <th>0</th>\n",
       "      <td>30.0</td>\n",
       "      <td>4.0</td>\n",
       "      <td>519.860385</td>\n",
       "      <td>3000.0</td>\n",
       "      <td>12.130076</td>\n",
       "      <td>70.0</td>\n",
       "      <td>1</td>\n",
       "      <td>/home/berger/Documents/Arbeit/PhD/MyCode/Mecha...</td>\n",
       "      <td>400.0</td>\n",
       "      <td>1</td>\n",
       "      <td>...</td>\n",
       "      <td>400.0</td>\n",
       "      <td>0.0</td>\n",
       "      <td>0</td>\n",
       "      <td>0.1</td>\n",
       "      <td>0.28</td>\n",
       "      <td>cooper</td>\n",
       "      <td>IDA</td>\n",
       "      <td>proteome_sector</td>\n",
       "      <td>switch_titration</td>\n",
       "      <td>regulator_is_initiator</td>\n",
       "    </tr>\n",
       "    <tr>\n",
       "      <th>1</th>\n",
       "      <td>30.0</td>\n",
       "      <td>4.0</td>\n",
       "      <td>2079.441542</td>\n",
       "      <td>3000.0</td>\n",
       "      <td>48.520303</td>\n",
       "      <td>70.0</td>\n",
       "      <td>1</td>\n",
       "      <td>/home/berger/Documents/Arbeit/PhD/MyCode/Mecha...</td>\n",
       "      <td>400.0</td>\n",
       "      <td>1</td>\n",
       "      <td>...</td>\n",
       "      <td>400.0</td>\n",
       "      <td>0.0</td>\n",
       "      <td>0</td>\n",
       "      <td>0.1</td>\n",
       "      <td>0.28</td>\n",
       "      <td>cooper</td>\n",
       "      <td>IDA</td>\n",
       "      <td>proteome_sector</td>\n",
       "      <td>switch_titration</td>\n",
       "      <td>regulator_is_initiator</td>\n",
       "    </tr>\n",
       "  </tbody>\n",
       "</table>\n",
       "<p>2 rows × 122 columns</p>\n",
       "</div>"
      ],
      "text/plain": [
       "   amplitude_oscillations  aspect_ratio  basal_rate_initiator  \\\n",
       "0                    30.0           4.0            519.860385   \n",
       "1                    30.0           4.0           2079.441542   \n",
       "\n",
       "   basal_rate_initiator_0  basal_rate_regulator  basal_rate_regulator_0  \\\n",
       "0                  3000.0             12.130076                    70.0   \n",
       "1                  3000.0             48.520303                    70.0   \n",
       "\n",
       "   block_production                                          code_path  \\\n",
       "0                 1  /home/berger/Documents/Arbeit/PhD/MyCode/Mecha...   \n",
       "1                 1  /home/berger/Documents/Arbeit/PhD/MyCode/Mecha...   \n",
       "\n",
       "   conc_0  continuous_oscillations  ...  total_conc  translational_efficiency  \\\n",
       "0   400.0                        1  ...       400.0                       0.0   \n",
       "1   400.0                        1  ...       400.0                       0.0   \n",
       "\n",
       "   underexpression_oscillations  v_0  v_init_th  \\\n",
       "0                             0  0.1       0.28   \n",
       "1                             0  0.1       0.28   \n",
       "\n",
       "   version_of_coupled_division_regulation  \\\n",
       "0                                  cooper   \n",
       "1                                  cooper   \n",
       "\n",
       "  version_of_independent_division_regulation  version_of_lipid_regulation  \\\n",
       "0                                        IDA              proteome_sector   \n",
       "1                                        IDA              proteome_sector   \n",
       "\n",
       "   version_of_model    version_of_titration  \n",
       "0  switch_titration  regulator_is_initiator  \n",
       "1  switch_titration  regulator_is_initiator  \n",
       "\n",
       "[2 rows x 122 columns]"
      ]
     },
     "execution_count": 3,
     "metadata": {},
     "output_type": "execute_result"
    }
   ],
   "source": [
    "data_frame = makeDataframe.make_dataframe(file_path)\n",
    "data_frame = data_frame.sort_values(by=['doubling_rate'])\n",
    "\n",
    "time_traces_data_frame = pd.read_hdf(data_frame['path_dataset'].iloc[indx], key='dataset_time_traces')\n",
    "\n",
    "v_init_data_frame = pd.read_hdf(data_frame['path_dataset'].iloc[indx], key='dataset_init_events')\n",
    "v_init = v_init_data_frame.iloc[10]['v_init']\n",
    "v_init_per_ori = v_init_data_frame.iloc[10]['v_init_per_ori']\n",
    "t_init_list = v_init_data_frame['t_init'].to_numpy()\n",
    "\n",
    "v_d_data_frame = pd.read_hdf(data_frame['path_dataset'].iloc[indx], key='dataset_div_events')\n",
    "data_frame"
   ]
  },
  {
   "cell_type": "code",
   "execution_count": 4,
   "metadata": {},
   "outputs": [
    {
     "name": "stdout",
     "output_type": "stream",
     "text": [
      "40000\n",
      "20182 26200\n",
      "[21.178 23.178 25.178] [22.178 24.178 26.178]\n"
     ]
    }
   ],
   "source": [
    "time = np.array(time_traces_data_frame[\"time\"])\n",
    "volume = np.array(time_traces_data_frame[\"volume\"])\n",
    "n_ori = np.array(time_traces_data_frame[\"n_ori\"])\n",
    "active_fraction = np.array(time_traces_data_frame[\"active_fraction\"])\n",
    "free_conc = np.array(time_traces_data_frame[\"free_conc\"])\n",
    "print(time.size)\n",
    "cycle_0 = 6\n",
    "cycle_f = 9\n",
    "t_0 = time[volume==v_d_data_frame['v_b'][cycle_0]]\n",
    "indx_0 = np.where(time==t_0)[0][0]\n",
    "t_f = time[volume==v_d_data_frame['v_b'][cycle_f]]\n",
    "indx_f = np.where(time==t_f)[0][0]+20\n",
    "\n",
    "print(indx_0, indx_f)\n",
    "\n",
    "n_ori_cut = n_ori[indx_0:indx_f]\n",
    "time_cut = time[indx_0:indx_f]\n",
    "volume_cut = volume[indx_0:indx_f]\n",
    "active_fraction_cut = active_fraction[indx_0:indx_f]\n",
    "free_conc_cut = free_conc[indx_0:indx_f]\n",
    "\n",
    "t_init_list_cut_1 = t_init_list[t_init_list>t_0]\n",
    "t_init_list_cut = t_init_list_cut_1[t_init_list_cut_1<t_f]\n",
    "t_b = t_init_list + data_frame.iloc[indx]['t_CD']\n",
    "t_b_cut_1 = t_b[t_b<t_f]\n",
    "t_b_cut = t_b_cut_1[t_b_cut_1>t_0]\n",
    "print(t_init_list_cut, t_b_cut)"
   ]
  },
  {
   "cell_type": "markdown",
   "metadata": {},
   "source": [
    "# Color definitions"
   ]
  },
  {
   "cell_type": "code",
   "execution_count": 5,
   "metadata": {},
   "outputs": [],
   "source": [
    "pinkish_red = (247 / 255, 109 / 255, 109 / 255)\n",
    "green = (0 / 255, 133 / 255, 86 / 255)\n",
    "dark_blue = (36 / 255, 49 / 255, 94 / 255)\n",
    "light_blue = (168 / 255, 209 / 255, 231 / 255)\n",
    "darker_light_blue = (112 / 255, 157 / 255, 182 / 255)\n",
    "blue = (55 / 255, 71 / 255, 133 / 255)\n",
    "yellow = (247 / 255, 233 / 255, 160 / 255)"
   ]
  },
  {
   "cell_type": "markdown",
   "metadata": {},
   "source": [
    "# Plot four figures"
   ]
  },
  {
   "cell_type": "code",
   "execution_count": 6,
   "metadata": {},
   "outputs": [
    {
     "name": "stdout",
     "output_type": "stream",
     "text": [
      "0.5\n",
      "number of titration sites per origin: 300.0\n"
     ]
    },
    {
     "data": {
      "image/png": "[encoded data removed]",
      "text/plain": [
       "<Figure size 230.4x144 with 2 Axes>"
      ]
     },
     "metadata": {
      "needs_background": "light"
     },
     "output_type": "display_data"
    }
   ],
   "source": [
    "label_list = [r'$V(t)$', r'$f(t)$']\n",
    "x_axes_list = [time_cut, time_cut]\n",
    "y_axes_list = [volume_cut, active_fraction_cut]\n",
    "color_list = [green, pinkish_red]\n",
    "fig, ax = plt.subplots(2, figsize=(3.2,2))\n",
    "plt.xlabel(r'time [$\\tau_{\\rm d}$]')\n",
    "y_min_list = [0,0]\n",
    "y_max_list = [1, 1.2]\n",
    "\n",
    "doubling_time = 1/data_frame.iloc[indx]['doubling_rate']\n",
    "print(1/doubling_time)\n",
    "print('number of titration sites per origin:', data_frame.iloc[indx]['n_c_max_0'])\n",
    "for item in range(0, len(label_list)):\n",
    "    ax[item].set_ylabel(label_list[item])\n",
    "    ax[item].plot(x_axes_list[item], y_axes_list[item], color=color_list[item])\n",
    "    ax[item].set_ylim(ymin=0)\n",
    "    ax[item].tick_params(\n",
    "        axis='x',          # changes apply to the x-axis\n",
    "        which='both',      # both major and minor ticks are affected\n",
    "        bottom=False,      # ticks along the bottom edge are off\n",
    "        top=False,         # ticks along the top edge are off\n",
    "        labelbottom=False) # labels along the bottom edge are off\n",
    "    ax[item].spines[\"top\"].set_visible(False)\n",
    "    ax[item].spines[\"right\"].set_visible(False)\n",
    "    ax[item].margins(0)\n",
    "    for t_div in t_b_cut:\n",
    "        ax[item].axvline(x=t_div, \n",
    "                          ymin=y_min_list[item],\n",
    "                          ymax=y_max_list[item],\n",
    "                             c=\"black\",\n",
    "                          zorder=0, \n",
    "                          linewidth=0.8,\n",
    "                          clip_on=False)\n",
    "    for t_init in t_init_list_cut:\n",
    "        ax[item].axvline(x=t_init, \n",
    "                          ymin=y_min_list[item],\n",
    "                          ymax=y_max_list[item],\n",
    "                             c=\"black\",\n",
    "                          zorder=0, \n",
    "                          linewidth=0.8,\n",
    "                          linestyle='--',\n",
    "                          clip_on=False)\n",
    "ax[0].set_yticks([0, v_init])\n",
    "# ax[0].set(ylim=(0, v_init+0.01))\n",
    "ax[0].set_yticklabels(['0',r'$v^\\ast$'])\n",
    "ax[0].get_yticklabels()[1].set_color(green)\n",
    "ax[0].axhline(y=v_init, color=green, linestyle='--')\n",
    "\n",
    "# ax[1].axhline(y=data_frame.iloc[0]['michaelis_const_initiator'], color=color_list[1], linestyle='--')\n",
    "# ax[1].set_yticks([0, data_frame.iloc[0]['michaelis_const_initiator']])\n",
    "# ax[1].set_yticklabels([0, r'$K_{\\rm D}$'])\n",
    "# ax[1].get_yticklabels()[1].set_color(color_list[1])\n",
    "# ax[1].set(ylim=(0,data_frame.iloc[0]['michaelis_const_initiator']*1.15))\n",
    "\n",
    "\n",
    "# ax[2].axhline(y=data_frame.iloc[0]['frac_init'], color=pinkish_red, linestyle='--')\n",
    "ax[1].set_yticks([0, 0.5, 1])\n",
    "ax[1].set_yticklabels(['0', '0.5', '1'])\n",
    "\n",
    "# ax[3].set_yticks([0, data_frame.iloc[0]['critical_free_active_conc']])\n",
    "# ax[3].set_yticklabels(['0',r'$[D]_{\\rm ATP, f}^\\ast$'])\n",
    "# ax[3].get_yticklabels()[1].set_color(color_list[3])\n",
    "# ax[3].axhline(y=data_frame.iloc[0]['critical_free_active_conc'], color=color_list[3], linestyle='--')\n",
    "ax[1].tick_params(bottom=True, labelbottom=True)\n",
    "ax[1].tick_params(axis='x', colors='black')\n",
    "ax[1].set_xticks([time_cut[0], \n",
    "                  time_cut[0]+ doubling_time, \n",
    "                  time_cut[0]+ 2*doubling_time,\n",
    "                  time_cut[0]+ 3*doubling_time\n",
    "                 ])\n",
    "ax[1].set_xticklabels(['0', '1', '2', '3'])\n",
    "plt.savefig(file_path + '/S11_titration_switch_combined_'+mutant+'_'+str(indx)+'.pdf', format='pdf',bbox_inches='tight')"
   ]
  },
  {
   "cell_type": "markdown",
   "metadata": {},
   "source": []
  },
  {
   "cell_type": "code",
   "execution_count": null,
   "metadata": {},
   "outputs": [],
   "source": []
  },
  {
   "cell_type": "code",
   "execution_count": null,
   "metadata": {},
   "outputs": [],
   "source": []
  }
 ],
 "metadata": {
  "kernelspec": {
   "display_name": "Python 3",
   "language": "python",
   "name": "python3"
  },
  "language_info": {
   "codemirror_mode": {
    "name": "ipython",
    "version": 3
   },
   "file_extension": ".py",
   "mimetype": "text/x-python",
   "name": "python",
   "nbconvert_exporter": "python",
   "pygments_lexer": "ipython3",
   "version": "3.7.3"
  }
 },
 "nbformat": 4,
 "nbformat_minor": 2
}
