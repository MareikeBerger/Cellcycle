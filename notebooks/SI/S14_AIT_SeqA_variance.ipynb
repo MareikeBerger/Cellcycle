{
 "cells": [
  {
   "cell_type": "code",
   "execution_count": 2,
   "metadata": {},
   "outputs": [],
   "source": [
    "import numpy as np\n",
    "import pandas as pd\n",
    "import os\n",
    "from glob import glob\n",
    "from pprint import pprint\n",
    "import json\n",
    "import seaborn as sns\n",
    "import matplotlib.pyplot as plt\n",
    "from matplotlib.collections import LineCollection\n",
    "from matplotlib.colors import ListedColormap, BoundaryNorm\n",
    "import matplotlib.pyplot as plt\n",
    "\n",
    "import cellcycle.PlottingTools as plottingTools\n",
    "from cellcycle.ParameterSet import ParameterSet\n",
    "import cellcycle.DataStorage as dataStorage\n",
    "import cellcycle.DataAnalysis as dataAnalysis\n",
    "import cellcycle.MakeDataframe as makeDataframe"
   ]
  },
  {
   "cell_type": "code",
   "execution_count": 3,
   "metadata": {},
   "outputs": [],
   "source": [
    "file_path = '/home/berger/Documents/Arbeit/PhD/data/UltrasensitivityCombined/NatCom/SI/S14_AIT_SeqA/variation_growth_rate'\n",
    "parameter_path = os.path.join(file_path, 'parameter_set.csv')"
   ]
  },
  {
   "cell_type": "code",
   "execution_count": 4,
   "metadata": {},
   "outputs": [],
   "source": [
    "pinkish_red = (247 / 255, 109 / 255, 109 / 255)\n",
    "green = (0 / 255, 133 / 255, 86 / 255)\n",
    "dark_blue = (36 / 255, 49 / 255, 94 / 255)\n",
    "light_blue = (168 / 255, 209 / 255, 231 / 255)\n",
    "blue = (55 / 255, 71 / 255, 133 / 255)\n",
    "yellow = (247 / 255, 233 / 255, 160 / 255)"
   ]
  },
  {
   "cell_type": "code",
   "execution_count": 5,
   "metadata": {},
   "outputs": [],
   "source": [
    "v_init_exp = 0.28\n",
    "std_exp = 0.05"
   ]
  },
  {
   "cell_type": "code",
   "execution_count": 6,
   "metadata": {},
   "outputs": [
    {
     "name": "stdout",
     "output_type": "stream",
     "text": [
      "['/home/berger/Documents/Arbeit/PhD/data/UltrasensitivityCombined/NatCom/SI/S14_AIT_SeqA/variation_growth_rate/titration_variance',\n",
      " '/home/berger/Documents/Arbeit/PhD/data/UltrasensitivityCombined/NatCom/SI/S14_AIT_SeqA/variation_growth_rate/titration_SeqA_variance',\n",
      " '/home/berger/Documents/Arbeit/PhD/data/UltrasensitivityCombined/NatCom/SI/S14_AIT_SeqA/variation_growth_rate/variances_models.pdf',\n",
      " '/home/berger/Documents/Arbeit/PhD/data/UltrasensitivityCombined/NatCom/SI/S14_AIT_SeqA/variation_growth_rate/Fig_3C_poster.pdf']\n"
     ]
    },
    {
     "data": {
      "text/plain": [
       "0          titration_variance\n",
       "1          titration_variance\n",
       "2          titration_variance\n",
       "3          titration_variance\n",
       "4          titration_variance\n",
       "5          titration_variance\n",
       "6          titration_variance\n",
       "7          titration_variance\n",
       "8          titration_variance\n",
       "9          titration_variance\n",
       "10         titration_variance\n",
       "11         titration_variance\n",
       "12         titration_variance\n",
       "13         titration_variance\n",
       "14         titration_variance\n",
       "15         titration_variance\n",
       "16         titration_variance\n",
       "17         titration_variance\n",
       "18         titration_variance\n",
       "19         titration_variance\n",
       "20    titration_SeqA_variance\n",
       "21    titration_SeqA_variance\n",
       "22    titration_SeqA_variance\n",
       "23    titration_SeqA_variance\n",
       "24    titration_SeqA_variance\n",
       "25    titration_SeqA_variance\n",
       "26    titration_SeqA_variance\n",
       "27    titration_SeqA_variance\n",
       "28    titration_SeqA_variance\n",
       "29    titration_SeqA_variance\n",
       "30    titration_SeqA_variance\n",
       "31    titration_SeqA_variance\n",
       "32    titration_SeqA_variance\n",
       "33    titration_SeqA_variance\n",
       "34    titration_SeqA_variance\n",
       "35    titration_SeqA_variance\n",
       "36    titration_SeqA_variance\n",
       "37    titration_SeqA_variance\n",
       "38    titration_SeqA_variance\n",
       "39    titration_SeqA_variance\n",
       "Name: simu_name, dtype: object"
      ]
     },
     "execution_count": 6,
     "metadata": {},
     "output_type": "execute_result"
    }
   ],
   "source": [
    "data_frame = makeDataframe.make_dataframe(file_path)\n",
    "data_frame = makeDataframe.add_average_values_to_df(data_frame)\n",
    "data_frame = makeDataframe.add_theoretical_init_reg_concentrations_to_df(data_frame)\n",
    "data_frame.simu_name"
   ]
  },
  {
   "cell_type": "markdown",
   "metadata": {},
   "source": [
    "# Calculate initiation volume theoretically"
   ]
  },
  {
   "cell_type": "code",
   "execution_count": 7,
   "metadata": {},
   "outputs": [
    {
     "data": {
      "text/plain": [
       "0     0.265719\n",
       "1     0.091399\n",
       "2     0.239857\n",
       "3     0.234881\n",
       "4     0.091910\n",
       "5     0.249976\n",
       "6     0.090888\n",
       "7     0.132824\n",
       "8     0.225092\n",
       "9     0.138053\n",
       "10    0.131647\n",
       "11    0.137045\n",
       "12    0.133697\n",
       "13    0.244884\n",
       "14    0.092602\n",
       "15    0.230010\n",
       "16    0.134999\n",
       "17    0.255216\n",
       "18    0.260372\n",
       "19    0.136107\n",
       "20    0.295136\n",
       "21    0.253819\n",
       "22    0.296474\n",
       "23    0.296469\n",
       "24    0.251881\n",
       "25    0.296344\n",
       "26    0.255871\n",
       "27    0.282499\n",
       "28    0.295584\n",
       "29    0.295293\n",
       "30    0.259396\n",
       "31    0.294890\n",
       "32    0.297504\n",
       "33    0.296560\n",
       "34    0.250897\n",
       "35    0.295912\n",
       "36    0.296799\n",
       "37    0.296133\n",
       "38    0.295658\n",
       "39    0.295843\n",
       "Name: v_init_per_n_ori, dtype: float64"
      ]
     },
     "execution_count": 7,
     "metadata": {},
     "output_type": "execute_result"
    }
   ],
   "source": [
    "def calculate_v_initi_no_overlap_switch_time_varying(df):\n",
    "    try:\n",
    "#         print(df.production_rate_dars1)\n",
    "        production_rate_dars1 = df.production_rate_dars1\n",
    "    except:\n",
    "        production_rate_dars1 = 0\n",
    "    return df.destruction_rate_datA / df.production_rate_lipids * df.frac_init * \\\n",
    "           (df.michaelis_const_prod + (1 - df.frac_init) * df.total_conc) / \\\n",
    "           ((1 - df.frac_init) * (df.michaelis_const_destr + df.frac_init * df.total_conc))-((production_rate_dars1+ df.production_rate_dars2)/df.production_rate_lipids)\n",
    "\n",
    "def calculate_v_initi_overlap_switch_time_varying(df):\n",
    "    try:\n",
    "#         print(df.production_rate_dars1)\n",
    "        production_rate_dars1 = df.production_rate_dars1\n",
    "    except:\n",
    "        production_rate_dars1 = 0\n",
    "    return (df.destruction_rate_datA + df.high_rate_datA + df.destruction_rate_rida) / df.production_rate_lipids * df.frac_init * \\\n",
    "           (df.michaelis_const_prod + (1 - df.frac_init) * df.total_conc) / \\\n",
    "           ((1 - df.frac_init) * (df.michaelis_const_destr + df.frac_init * df.total_conc))- \\\n",
    "           ((production_rate_dars1 + df.production_rate_dars2 + df.high_rate_dars2)/df.production_rate_lipids)\n",
    "\n",
    "data_frame[\"v_init_per_n_ori_th_no_time_varying\"] = data_frame.apply(lambda row: calculate_v_initi_no_overlap_switch_time_varying(row), axis=1)\n",
    "data_frame[\"v_init_per_n_ori_th_o_time_varying\"] = data_frame.apply(lambda row: calculate_v_initi_no_overlap_switch_time_varying(row), axis=1)\n",
    "data_frame.v_init_per_n_ori"
   ]
  },
  {
   "cell_type": "code",
   "execution_count": 8,
   "metadata": {},
   "outputs": [],
   "source": [
    "def calculate_v_init_switch_synthesis(df):\n",
    "    if df.include_synthesis==0:\n",
    "        return df.destruction_rate_datA / df.production_rate_lipids * df.frac_init * \\\n",
    "               (df.michaelis_const_prod + (1 - df.frac_init) * df.total_conc) / \\\n",
    "               ((1 - df.frac_init) * (df.michaelis_const_destr + df.frac_init * df.total_conc))\n",
    "    else:\n",
    "        return (df.destruction_rate_datA/df.total_conc) * \\\n",
    "                df.frac_init / (df.michaelis_const_destr/df.total_conc+ df.frac_init) * \\\n",
    "                (df.michaelis_const_prod / df.total_conc + 1 - df.frac_init) / \\\n",
    "                ((1- df.frac_init) * \\\n",
    "                (df.production_rate_lipids/df.total_conc + df.rate_growth * (df.michaelis_const_prod / df.total_conc + 1 - df.frac_init)))\n",
    "    \n",
    "data_frame[\"v_init_per_n_ori_synthesis\"] = data_frame.apply(lambda row: calculate_v_init_switch_synthesis(row), axis=1)\n"
   ]
  },
  {
   "cell_type": "markdown",
   "metadata": {},
   "source": [
    "# Calculate CV"
   ]
  },
  {
   "cell_type": "code",
   "execution_count": 9,
   "metadata": {},
   "outputs": [
    {
     "name": "stdout",
     "output_type": "stream",
     "text": [
      "titration_variance\n",
      "titration_SeqA_variance\n"
     ]
    }
   ],
   "source": [
    "for simu_name in data_frame.simu_name.unique():\n",
    "    simu_df = data_frame[data_frame[\"simu_name\"] == simu_name]\n",
    "    print(simu_name)\n",
    "    data_frame.loc[data_frame['simu_name'] == simu_name, 'mean_v_init_per_n_ori'] = np.mean(simu_df[\"v_init_per_n_ori\"])\n",
    "    data_frame.loc[data_frame['simu_name'] == simu_name, 'stdd_v_init_per_n_ori'] = np.std(simu_df[\"v_init_per_n_ori\"])\n",
    "    data_frame.loc[data_frame['simu_name'] == simu_name, 'cv_v_init_per_n_ori'] = np.std(simu_df[\"v_init_per_n_ori\"])/np.mean(simu_df[\"v_init_per_n_ori\"])"
   ]
  },
  {
   "cell_type": "markdown",
   "metadata": {},
   "source": [
    "# Calculate variance at different growth rates"
   ]
  },
  {
   "cell_type": "code",
   "execution_count": 10,
   "metadata": {},
   "outputs": [],
   "source": [
    "def return_array_of_initiation_volumes(filepath_h5):\n",
    "    data_frame = pd.read_hdf(filepath_h5, key='dataset_init_events')\n",
    "    return data_frame['v_init_per_ori'], data_frame['t_init']\n",
    "\n",
    "def calculate_CV_v_init(row):\n",
    "    v_init_per_ori, t_init = return_array_of_initiation_volumes(row.path_dataset)\n",
    "    v_init_np = v_init_per_ori.to_numpy()\n",
    "    return np.std(v_init_np[5:])/np.mean(v_init_np[5:])"
   ]
  },
  {
   "cell_type": "code",
   "execution_count": 11,
   "metadata": {},
   "outputs": [
    {
     "data": {
      "text/plain": [
       "0     0.000418\n",
       "1     0.345114\n",
       "2     0.000538\n",
       "3     0.000768\n",
       "4     0.326573\n",
       "5     0.000509\n",
       "6     0.354771\n",
       "7     0.225730\n",
       "8     0.003985\n",
       "9     0.257459\n",
       "10    0.219810\n",
       "11    0.251608\n",
       "12    0.231787\n",
       "13    0.000460\n",
       "14    0.317209\n",
       "15    0.000761\n",
       "16    0.237521\n",
       "17    0.000495\n",
       "18    0.000423\n",
       "19    0.243392\n",
       "20    0.000160\n",
       "21    0.002780\n",
       "22    0.000373\n",
       "23    0.000384\n",
       "24    0.001220\n",
       "25    0.000463\n",
       "26    0.007154\n",
       "27    0.072171\n",
       "28    0.000562\n",
       "29    0.000513\n",
       "30    0.018489\n",
       "31    0.028016\n",
       "32    0.096996\n",
       "33    0.000418\n",
       "34    0.000746\n",
       "35    0.000402\n",
       "36    0.085081\n",
       "37    0.000289\n",
       "38    0.000205\n",
       "39    0.064267\n",
       "Name: CV_v_init, dtype: float64"
      ]
     },
     "execution_count": 11,
     "metadata": {},
     "output_type": "execute_result"
    }
   ],
   "source": [
    "data_frame[\"CV_v_init\"] = data_frame.apply(lambda row: calculate_CV_v_init(row), axis=1)\n",
    "data_frame.CV_v_init"
   ]
  },
  {
   "cell_type": "markdown",
   "metadata": {},
   "source": [
    "# Make Legends"
   ]
  },
  {
   "cell_type": "code",
   "execution_count": 12,
   "metadata": {},
   "outputs": [],
   "source": [
    "def make_production_rate_datA_lipids_cv_legend(destruction_rate_datA, production_rate_lipids, cv):\n",
    "    return r'$\\beta_{{\\rm datA}}={}$ /h, $\\alpha_{{\\rm lipids}}={}$ /h, CV= {}'.format(np.round(destruction_rate_datA,3), \n",
    "                                                                                       np.round(production_rate_lipids,3), \n",
    "                                                                                       np.round(cv,3))\n",
    "\n",
    "def make_production_rate_datA_cv_legend(destruction_rate_datA, cv):\n",
    "    return r'$\\beta_{{\\rm datA}}={}$ /h, CV= {}'.format(np.round(destruction_rate_datA,3),\n",
    "                                                        np.round(cv,3))\n",
    "\n",
    "def make_production_rate_datA_legend(destruction_rate_datA):\n",
    "    return r'$\\beta_{{\\rm datA}}={}$ min$^{{-1}}$'.format(int(destruction_rate_datA/60))\n",
    "\n",
    "def make_production_rate_datA_lipids_legend(destruction_rate_datA, production_rate_lipids):\n",
    "    return r'$\\beta_{{\\rm datA}}={}$ /h, \\linebreak  $\\alpha_{{\\rm lipids}}={}$ /h'.format(np.round(destruction_rate_datA,3), \n",
    "                                                                                       np.round(production_rate_lipids,3))\n",
    "\n",
    "def make_theoretical_v_init_legend(v_init_per_n_ori_th_no_time_varying):\n",
    "    return r'$v^\\ast_{{\\rm th}}={} \\, \\mu $m$^3$'.format(np.round(v_init_per_n_ori_th_no_time_varying,3))\n",
    "\n",
    "def make_legend_model(version_of_model, n_sites, block_production):\n",
    "    if version_of_model == 'titration':\n",
    "        if block_production == 0:\n",
    "            return 'titration'\n",
    "        else:\n",
    "            return 'titration+SeqA'\n",
    "    if n_sites==0:\n",
    "        return 'LDDR model'\n",
    "    else:\n",
    "        if block_production == 0:\n",
    "            return 'LDDR+titration'\n",
    "        else:\n",
    "            return 'LDDR+titration+SeqA'\n",
    "\n",
    "def make_order(legend_models):\n",
    "    if legend_models == 'titration':\n",
    "        return 1\n",
    "    if legend_models == 'titration+SeqA':\n",
    "        return 2\n",
    "    if legend_models == 'LDDR model':\n",
    "        return 3\n",
    "    if legend_models == 'LDDR+titration+SeqA':\n",
    "        return 4\n",
    "    \n",
    "\n",
    "\n",
    "data_frame.loc[:, 'legend_datA_lipids_cv'] = data_frame.apply(lambda row: make_production_rate_datA_lipids_cv_legend(row.destruction_rate_datA,\n",
    "                                                                                                              row.production_rate_lipids,\n",
    "                                                                                                              row.cv_v_init_per_n_ori), axis = 1)\n",
    "\n",
    "data_frame.loc[:, 'legend_datA_cv'] = data_frame.apply(lambda row: make_production_rate_datA_cv_legend(row.destruction_rate_datA,\n",
    "                                                                                                              row.cv_v_init_per_n_ori), axis = 1)\n",
    "\n",
    "data_frame.loc[:, 'legend_datA'] = data_frame.apply(lambda row: make_production_rate_datA_legend(row.destruction_rate_datA), axis = 1)\n",
    "\n",
    "data_frame.loc[:, 'legend_datA_lipids'] = data_frame.apply(lambda row: make_production_rate_datA_lipids_legend(row.destruction_rate_datA,\n",
    "                                                                                                              row.production_rate_lipids), axis = 1)\n",
    "\n",
    "data_frame.loc[:, 'legend_v_init_th'] = data_frame.apply(lambda row: make_theoretical_v_init_legend(row.v_init_per_n_ori_th_no_time_varying), axis = 1)\n",
    "\n",
    "data_frame.loc[:, 'legend_models'] = data_frame.apply(lambda row: make_legend_model(row.version_of_model, row.n_c_max_0, row.block_production), axis = 1)\n",
    "\n",
    "data_frame.loc[:, 'legend_order'] = data_frame.apply(lambda row: make_order(row.legend_models), axis = 1)\n"
   ]
  },
  {
   "cell_type": "markdown",
   "metadata": {},
   "source": [
    "# Determine minimal activator fraction"
   ]
  },
  {
   "cell_type": "code",
   "execution_count": 13,
   "metadata": {},
   "outputs": [],
   "source": [
    "def determine_min_frac(filepath_h5, total_conc):\n",
    "    data_frame_traces = pd.read_hdf(filepath_h5, key='dataset_time_traces')\n",
    "    fractions = data_frame_traces['active_conc'] / total_conc\n",
    "    return np.min(fractions[int(fractions.size/2):])\n",
    "\n",
    "def determine_max_frac(filepath_h5, total_conc):\n",
    "    data_frame_traces = pd.read_hdf(filepath_h5, key='dataset_time_traces')\n",
    "    fractions = data_frame_traces['active_conc'] / total_conc\n",
    "    return np.max(fractions[int(fractions.size/2):])\n",
    "\n",
    "data_frame.loc[:, 'min_frac'] = data_frame.apply(lambda row: determine_min_frac(row.path_dataset, row.total_conc), axis = 1)\n",
    "data_frame.loc[:, 'max_frac'] = data_frame.apply(lambda row: determine_max_frac(row.path_dataset, row.total_conc), axis = 1)\n",
    "data_frame['amplitude_frac'] = data_frame['max_frac']-data_frame['min_frac']\n",
    "data_frame['relative_change_frac']= data_frame['min_frac']/data_frame['max_frac']"
   ]
  },
  {
   "cell_type": "markdown",
   "metadata": {},
   "source": [
    "# Plot initiation volume per origin"
   ]
  },
  {
   "cell_type": "code",
   "execution_count": 14,
   "metadata": {},
   "outputs": [
    {
     "data": {
      "image/png": "[encoded data removed]",
      "text/plain": [
       "<Figure size 504x504 with 1 Axes>"
      ]
     },
     "metadata": {},
     "output_type": "display_data"
    }
   ],
   "source": [
    "sns.set(style=\"ticks\")\n",
    "sns.set_context(\"poster\")\n",
    "\n",
    "fig, ax = plt.subplots(figsize=(7,7))\n",
    "sns.lineplot(\n",
    "    x='rate_growth', \n",
    "    y='v_init_per_n_ori',\n",
    "    data=data_frame.sort_values(by=[\"destruction_rate_datA\"], ascending=False),\n",
    "    hue='legend_models',\n",
    "#     palette= [green, blue, pinkish_red], # yellow],\n",
    "    linewidth = 3.5,\n",
    "    ax=ax\n",
    ");\n",
    "# ax.lines[0].set_linestyle(\"--\")\n",
    "# ax.lines[1].set_linestyle(\"--\")\n",
    "# ax.lines[2].set_linestyle(\"--\")\n",
    "# ax.lines[3].set_linestyle(\"--\")\n",
    "ax.margins(0)\n",
    "\n",
    "# Theoretical prediction\n",
    "ax.hlines(data_frame['v_init_per_n_ori_th_no_time_varying'][0], \n",
    "            data_frame['rate_growth'].min(), \n",
    "            data_frame['rate_growth'].max(), \n",
    "            color='black', \n",
    "            linestyle='-',\n",
    "            label= data_frame['legend_v_init_th'].iloc[0])\n",
    "# Experimental results\n",
    "# ax.hlines(v_init_exp, \n",
    "#             data_frame['rate_growth'].min(), \n",
    "#             data_frame['rate_growth'].max(), \n",
    "#             color='black', \n",
    "#             label= r'$v^\\ast_{{\\rm exp}}={} \\, \\mu m^3$'.format(v_init_exp))\n",
    "# upper_bound = np.array(data_frame['v_init_per_n_ori_th_no_time_varying']) + std_exp\n",
    "# lower_bound = np.array(data_frame['v_init_per_n_ori_th_no_time_varying']) - std_exp\n",
    "# ax.axhspan(upper_bound[0], lower_bound[0], facecolor='black', alpha=0.1)\n",
    "\n",
    "ax.set(xlabel=r'$\\lambda$ [h$^{-1}$]', ylabel=r'$v^\\ast$ [$\\mu$m$^3$]')\n",
    "# ax.set(ylim=(0,0.45))\n",
    "ax.tick_params(direction='out', length=6, width=2, grid_alpha=0.5)\n",
    "handles, labels = ax.get_legend_handles_labels()\n",
    "ax.legend(handles=handles[1:], labels=labels[1:])\n",
    "plt.savefig(file_path + '/Fig_3C_poster.pdf', format='pdf', bbox_inches='tight')"
   ]
  },
  {
   "cell_type": "markdown",
   "metadata": {},
   "source": [
    "# Plot amplitude time varying"
   ]
  },
  {
   "cell_type": "code",
   "execution_count": 15,
   "metadata": {},
   "outputs": [
    {
     "data": {
      "image/png": "[encoded data removed]",
      "text/plain": [
       "<Figure size 504x504 with 1 Axes>"
      ]
     },
     "metadata": {},
     "output_type": "display_data"
    }
   ],
   "source": [
    "sns.set(style=\"ticks\")\n",
    "sns.set_context(\"poster\")\n",
    "\n",
    "fig, ax = plt.subplots(figsize=(7,7))\n",
    "sns.lineplot(\n",
    "    x='rate_growth', \n",
    "    y='CV_v_init',\n",
    "    data=data_frame.sort_values(by=[\"legend_order\"]),\n",
    "    hue='legend_models',\n",
    "    dashes=[(4, 1), (4, 1), (4, 1), (4, 1)],\n",
    "    markers=True,\n",
    "    palette= [blue, pinkish_red], #,  pinkish_red, light_blue],\n",
    "    linewidth = 3.5,\n",
    "    ax=ax\n",
    ");\n",
    "# ax.lines[0].set_linestyle(\"--\")\n",
    "# ax.lines[1].set_linestyle(\"--\")\n",
    "# ax.lines[2].set_linestyle(\"--\")\n",
    "# ax.lines[3].set_linestyle(\"--\")\n",
    "ax.margins(0)\n",
    "ax.set(xlabel=r'$\\lambda$ [h$^{-1}$]', ylabel=r'CV')\n",
    "# plt.legend(labels=legend\n",
    "ax.set(ylim=(0,0.4))\n",
    "ax.tick_params(direction='out', length=6, width=2, grid_alpha=0.5)\n",
    "handles, labels = ax.get_legend_handles_labels()\n",
    "ax.legend(handles=handles[1:], labels=labels[1:])\n",
    "plt.savefig(file_path + '/variances_models.pdf', format='pdf', bbox_inches='tight')"
   ]
  },
  {
   "cell_type": "code",
   "execution_count": null,
   "metadata": {},
   "outputs": [],
   "source": []
  },
  {
   "cell_type": "code",
   "execution_count": null,
   "metadata": {},
   "outputs": [],
   "source": []
  },
  {
   "cell_type": "code",
   "execution_count": null,
   "metadata": {},
   "outputs": [],
   "source": []
  }
 ],
 "metadata": {
  "kernelspec": {
   "display_name": "Python 3",
   "language": "python",
   "name": "python3"
  },
  "language_info": {
   "codemirror_mode": {
    "name": "ipython",
    "version": 3
   },
   "file_extension": ".py",
   "mimetype": "text/x-python",
   "name": "python",
   "nbconvert_exporter": "python",
   "pygments_lexer": "ipython3",
   "version": "3.7.3"
  }
 },
 "nbformat": 4,
 "nbformat_minor": 2
}
