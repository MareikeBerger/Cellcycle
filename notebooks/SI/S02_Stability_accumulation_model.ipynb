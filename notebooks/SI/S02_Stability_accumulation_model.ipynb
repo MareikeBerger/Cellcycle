{
 "cells": [
  {
   "cell_type": "code",
   "execution_count": 1,
   "metadata": {},
   "outputs": [],
   "source": [
    "import numpy as np\n",
    "import pandas as pd\n",
    "import os\n",
    "import seaborn as sns\n",
    "import matplotlib.pyplot as plt"
   ]
  },
  {
   "cell_type": "markdown",
   "metadata": {},
   "source": [
    "# Parameters"
   ]
  },
  {
   "cell_type": "code",
   "execution_count": 2,
   "metadata": {},
   "outputs": [],
   "source": [
    "file_path = '/home/berger/Documents/Arbeit/PhD/data/UltrasensitivityCombined/resubmission/SI/S3_Instability_accumulation'"
   ]
  },
  {
   "cell_type": "code",
   "execution_count": 3,
   "metadata": {},
   "outputs": [],
   "source": [
    "doubling_rate = 0.5\n",
    "doubling_time = 1/doubling_rate\n",
    "growth_rate = np.log(2) * doubling_rate\n",
    "alpha=110\n",
    "n_cycles = 100\n",
    "t_max = n_cycles / doubling_rate\n",
    "dt = 0.001\n",
    "v_0 = 0.5\n",
    "n_0 = 100\n",
    "n_crit = 300\n",
    "t_cc = 2/3\n",
    "exponent = 0.1\n",
    "\n",
    "IDA = False\n",
    "if IDA:\n",
    "    division_control = 'IDA'\n",
    "else:\n",
    "    division_control = 'tcc'\n",
    "V_d = 1\n",
    "\n",
    "# specifies whether the production rate is volume dependent and whether it is linear or bilinear\n",
    "gene_expr = 'volume' # options 'bilinear' or 'linear' or 'volume'"
   ]
  },
  {
   "cell_type": "code",
   "execution_count": 4,
   "metadata": {},
   "outputs": [],
   "source": [
    "pinkish_red = (247 / 255, 109 / 255, 109 / 255)\n",
    "green = (0 / 255, 133 / 255, 86 / 255)\n",
    "dark_blue = (36 / 255, 49 / 255, 94 / 255)\n",
    "light_blue = (168 / 255, 209 / 255, 231 / 255)\n",
    "blue = (55 / 255, 71 / 255, 133 / 255)\n",
    "yellow = (247 / 255, 233 / 255, 160 / 255)\n",
    "dark_yellow = (235 / 255, 201 / 255, 27 / 255)"
   ]
  },
  {
   "cell_type": "markdown",
   "metadata": {},
   "source": [
    "# Functions"
   ]
  },
  {
   "cell_type": "code",
   "execution_count": 5,
   "metadata": {},
   "outputs": [],
   "source": [
    "def grow_volume(volume, time_step, growth_rate, dt):\n",
    "    return volume[time_step-1]+ volume[time_step-1] * growth_rate * dt\n",
    "\n",
    "def produce_proteins(number, time_step, alpha, dt, n_oris):\n",
    "    return number[time_step-1] + alpha * dt * n_oris[time_step-1]\n",
    "\n",
    "def produce_proteins_linear(number, time_step, alpha, dt, n_oris):\n",
    "    return number[time_step-1] + alpha * dt\n",
    "\n",
    "def produce_proteins_volume(number, volume, time_step, alpha, dt, exponent):\n",
    "    return number[time_step-1] + alpha * volume[time_step-1]**exponent * dt"
   ]
  },
  {
   "cell_type": "markdown",
   "metadata": {},
   "source": [
    "# Cell cycle"
   ]
  },
  {
   "cell_type": "code",
   "execution_count": 6,
   "metadata": {},
   "outputs": [],
   "source": [
    "time = np.arange(0, t_max, dt)\n",
    "volume = np.ones(time.size) * v_0\n",
    "n_oris = np.ones(time.size)\n",
    "number = np.ones(time.size) * n_0\n",
    "\n",
    "list_next_init = []\n",
    "list_next_division = []\n",
    "list_t_init = []\n",
    "list_t_div = []\n",
    "list_t_cc = []\n",
    "list_t_ast = []\n",
    "list_t_inter_init = []\n",
    "list_v_init = []\n",
    "list_v_div = []\n",
    "next_division = t_max\n",
    "list_next_division = [t_max]\n",
    "\n",
    "for time_step in range(0, time.size):\n",
    "    # update volume, number of initiators and origins of this time step\n",
    "    n_oris[time_step] = n_oris[time_step-1]\n",
    "    volume[time_step] = grow_volume(volume, time_step, growth_rate, dt)\n",
    "    if gene_expr == 'linear':\n",
    "        number[time_step] = produce_proteins(number, time_step, alpha, dt, n_oris)\n",
    "    elif gene_expr == 'bilinear':\n",
    "        number[time_step] = produce_proteins_linear(number, time_step, alpha, dt, n_oris)\n",
    "    elif gene_expr == 'volume':\n",
    "        number[time_step] = produce_proteins_volume(number, volume, time_step, alpha, dt, exponent)\n",
    "    else:\n",
    "        print('problem, none of the gene expression models applies')\n",
    "        break\n",
    "        \n",
    "    # check whether replication should be initiated, if yes, division time is triggered\n",
    "    if number[time_step] >= n_crit * n_oris[time_step]:\n",
    "        n_oris[time_step]= 2 * n_oris[time_step]\n",
    "#         number[time_step] = 0 \n",
    "        if len(list_t_init) > 0:\n",
    "            list_t_inter_init.append(time[time_step]-list_t_init[-1])\n",
    "        list_v_init.append(volume[time_step])\n",
    "        list_t_init.append(time[time_step])\n",
    "        if len(list_t_div) > 0:\n",
    "            list_t_ast.append(time[time_step]-list_t_div[-1])\n",
    "        if not IDA:\n",
    "            t_division = time[time_step] + t_cc\n",
    "            if list_next_division[0] == t_max:\n",
    "                list_next_division[0] = t_division\n",
    "            else:\n",
    "                list_next_division.append(t_division)\n",
    "    # check whether cell should divide\n",
    "    if IDA:\n",
    "        if volume[time_step] >= V_d:\n",
    "            volume[time_step] = volume[time_step]/2\n",
    "            number[time_step] = number[time_step]/2\n",
    "            n_oris[time_step] = n_oris[time_step]/2\n",
    "            list_t_div.append(time[time_step])\n",
    "            list_v_div.append(volume[time_step])\n",
    "            if len(list_t_init) > 0:\n",
    "                list_t_cc.append(time[time_step]-list_t_init[-1])\n",
    "            \n",
    "    else:\n",
    "        if time[time_step] >= list_next_division[0]:\n",
    "            volume[time_step] = volume[time_step]/2\n",
    "            number[time_step] = number[time_step]/2\n",
    "            n_oris[time_step] = n_oris[time_step]/2\n",
    "            list_t_div.append(time[time_step])\n",
    "            list_v_div.append(volume[time_step])\n",
    "            if len(list_t_init) > 0:\n",
    "                list_t_cc.append(time[time_step]-list_t_init[-1])\n",
    "            list_next_division.pop(0)\n",
    "\n",
    "        if len(list_next_division)==0:\n",
    "            list_next_division.append(t_max)"
   ]
  },
  {
   "cell_type": "code",
   "execution_count": 12,
   "metadata": {},
   "outputs": [],
   "source": [
    "time_interval = np.array(list_t_init)[1:]- np.array(list_t_init)[:-1]\n",
    "t_ast_th = n_crit/ alpha - (list_t_cc[-1]/2)\n",
    "t_ast_th_2 = (n_crit/2 - alpha * list_t_cc[-1]/2)/alpha\n",
    "inter_init_th = t_cc/2 + n_crit/(alpha*2)"
   ]
  },
  {
   "cell_type": "markdown",
   "metadata": {},
   "source": [
    "## Figures"
   ]
  },
  {
   "cell_type": "code",
   "execution_count": 13,
   "metadata": {},
   "outputs": [
    {
     "data": {
      "image/png": "[encoded data removed]",
      "text/plain": [
       "<Figure size 288x216 with 4 Axes>"
      ]
     },
     "metadata": {
      "needs_background": "light"
     },
     "output_type": "display_data"
    }
   ],
   "source": [
    "label_list = [r'$V(t)$', r'$N(t)$', r'$n_{ori}(t)$', r'$[p]_{T}(t)$']\n",
    "x_axes_list = [time, time, time, time]\n",
    "y_axes_list = [volume, number, n_oris, number/volume]\n",
    "color_list = [green, dark_blue, pinkish_red, light_blue]\n",
    "fig, ax = plt.subplots(len(label_list), figsize=(4,3))\n",
    "plt.xlabel('time')\n",
    "for item in range(0, len(label_list)):\n",
    "    if item == 1:\n",
    "        ax[item].plot(time, n_oris * n_crit, color=dark_yellow, zorder=2)\n",
    "    ax[item].set_ylabel(label_list[item])\n",
    "    ax[item].plot(x_axes_list[item], y_axes_list[item], color=color_list[item])\n",
    "    ax[item].set_ylim(ymin=0)\n",
    "    ax[item].tick_params(\n",
    "        axis='x',          # changes apply to the x-axis\n",
    "        which='both',      # both major and minor ticks are affected\n",
    "        bottom=False,      # ticks along the bottom edge are off\n",
    "        top=False,         # ticks along the top edge are off\n",
    "        labelbottom=False) # labels along the bottom edge are off\n",
    "    ax[item].spines[\"top\"].set_visible(False)\n",
    "    ax[item].spines[\"right\"].set_visible(False)\n",
    "    ax[item].margins(0)\n",
    "\n",
    "\n",
    "plt.savefig(file_path + '/cell_cycle_'+division_control+'_'+gene_expr+'.pdf', format='pdf', bbox_inches='tight')"
   ]
  },
  {
   "cell_type": "markdown",
   "metadata": {},
   "source": [
    "# Figure for SI "
   ]
  },
  {
   "cell_type": "markdown",
   "metadata": {},
   "source": [
    "new version for volume dependence:"
   ]
  },
  {
   "cell_type": "code",
   "execution_count": 15,
   "metadata": {},
   "outputs": [],
   "source": [
    "def find_nearest_idx(array, value):\n",
    "    array = np.asarray(array)\n",
    "    idx = (np.abs(array - value)).argmin()\n",
    "    return idx\n",
    "\n",
    "t_b = np.array(list_t_div)\n",
    "cycle_0 = 5\n",
    "cycle_f = cycle_0 + 3\n",
    "t_0 = t_b[cycle_0]\n",
    "indx_0 = np.where(time==t_0)[0][0]\n",
    "t_f = t_b[cycle_f]\n",
    "indx_f = find_nearest_idx(time, t_f) + 20\n",
    "n_s = n_oris * n_crit\n",
    "total_conc = number/volume\n",
    "t_init_arr = np.array(list_t_init)\n",
    "\n",
    "n_ori_cut = n_oris[indx_0:indx_f]\n",
    "time_cut = time[indx_0:indx_f]\n",
    "volume_cut = volume[indx_0:indx_f]\n",
    "n_ori_density_cut = n_ori_cut / volume_cut\n",
    "n_p_cut = number[indx_0:indx_f]\n",
    "n_s_cut = n_s[indx_0:indx_f]\n",
    "total_conc_cut = total_conc[indx_0:indx_f]\n",
    "t_init_list_cut_1 = t_init_arr[t_init_arr>t_0]\n",
    "t_init_list_cut = t_init_list_cut_1[t_init_list_cut_1<t_f]\n",
    "t_b_cut_1 = t_b[t_b<t_f]\n",
    "t_b_cut = t_b_cut_1[t_b_cut_1 > t_0]\n",
    "delta_t_init_th = (n_crit/2) / alpha \n",
    "delta_t_init = t_init_list_cut[1:]- t_init_list_cut[:-1]"
   ]
  },
  {
   "cell_type": "markdown",
   "metadata": {},
   "source": [
    "old version for linear/bilinear:"
   ]
  },
  {
   "cell_type": "code",
   "execution_count": 19,
   "metadata": {},
   "outputs": [],
   "source": [
    "def find_nearest_idx(array, value):\n",
    "    array = np.asarray(array)\n",
    "    idx = (np.abs(array - value)).argmin()\n",
    "    return idx\n",
    "\n",
    "t_0 = 0\n",
    "indx_0 = np.where(time==t_0)[0][0]\n",
    "t_f = 5*doubling_time \n",
    "t_f = np.array(list_t_div)[5]\n",
    "indx_f = find_nearest_idx(time, t_f) + 20\n",
    "n_s = n_oris * n_crit\n",
    "total_conc = number/volume\n",
    "t_init_arr = np.array(list_t_init)\n",
    "\n",
    "n_ori_cut = n_oris[indx_0:indx_f]\n",
    "time_cut = time[indx_0:indx_f]\n",
    "volume_cut = volume[indx_0:indx_f]\n",
    "n_ori_density_cut = n_ori_cut / volume_cut\n",
    "n_p_cut = number[indx_0:indx_f]\n",
    "n_s_cut = n_s[indx_0:indx_f]\n",
    "total_conc_cut = total_conc[indx_0:indx_f]\n",
    "t_init_list_cut_1 = t_init_arr[t_init_arr>t_0]\n",
    "t_init_list_cut = t_init_list_cut_1[t_init_list_cut_1<t_f]\n",
    "t_b = t_init_list_cut + t_cc\n",
    "t_b_cut = t_b[t_b<t_f]\n",
    "delta_t_init_th = (n_crit/2) / alpha \n",
    "delta_t_init = t_init_list_cut[1:]- t_init_list_cut[:-1]"
   ]
  },
  {
   "cell_type": "code",
   "execution_count": 17,
   "metadata": {},
   "outputs": [
    {
     "data": {
      "image/png": "[encoded data removed]",
      "text/plain": [
       "<Figure size 230.4x288 with 4 Axes>"
      ]
     },
     "metadata": {},
     "output_type": "display_data"
    }
   ],
   "source": [
    "label_list = [r'$V(t) \\, [\\mu m^3]$', r'$N(t)$', r'$[p]_{\\rm T}(t)$', r'$\\rho(t)$']\n",
    "x_axes_list = [time_cut, time_cut, time_cut, time_cut]\n",
    "y_axes_list = [volume_cut, n_p_cut, total_conc_cut, n_ori_cut/volume_cut]\n",
    "color_list = [green, dark_blue, pinkish_red, blue]\n",
    "y_min_list = [0,0,0,0]\n",
    "y_max_list = [1, 1.2, 1.2, 1.2]\n",
    "\n",
    "fig, ax = plt.subplots(4, figsize=(3.2,4))\n",
    "plt.xlabel(r'time [$\\tau_{\\rm d}$]')\n",
    "for item in range(0, len(label_list)):\n",
    "    if item == 1:\n",
    "        ax[item].plot(time_cut, n_s_cut, color=dark_yellow, zorder=2)\n",
    "    ax[item].set_ylabel(label_list[item])\n",
    "    ax[item].plot(x_axes_list[item], y_axes_list[item], color=color_list[item], zorder=3)\n",
    "    ax[item].set_ylim(ymin=0)\n",
    "    ax[item].tick_params(\n",
    "        axis='x',          # changes apply to the x-axis\n",
    "        which='both',      # both major and minor ticks are affected\n",
    "        bottom=False,      # ticks along the bottom edge are off\n",
    "        top=False,         # ticks along the top edge are off\n",
    "        labelbottom=False) # labels along the bottom edge are off\n",
    "    ax[item].spines[\"top\"].set_visible(False)\n",
    "    ax[item].spines[\"right\"].set_visible(False)\n",
    "    ax[item].margins(0)\n",
    "    for t_div in t_b_cut:\n",
    "        ax[item].axvline(x=t_div, \n",
    "                          ymin=y_min_list[item],\n",
    "                          ymax=y_max_list[item],\n",
    "                             c=\"black\",\n",
    "                          zorder=0, \n",
    "                          linewidth=0.8,\n",
    "                          clip_on=False)\n",
    "    for t_init in t_init_list_cut:\n",
    "        ax[item].axvline(x=t_init, \n",
    "                          ymin=y_min_list[item],\n",
    "                          ymax=y_max_list[item],\n",
    "                             c=\"black\",\n",
    "                          zorder=0, \n",
    "                          linewidth=0.8,\n",
    "                          linestyle='--',\n",
    "                          clip_on=False)\n",
    "ax[0].set_yticks([0,1])\n",
    "ax[0].set_yticklabels(['0','1'])\n",
    "# ax[0].get_yticklabels()[2].set_color(color_list[0])\n",
    "# ax[0].tick_params(axis='y', colors=green)\n",
    "# ax[0].axhline(y=v_init, color=green, linestyle='--', label=r'$v^\\ast$')\n",
    "# ax[0].axhline(y=2*v_init, color=green, linestyle='--')\n",
    "\n",
    "\n",
    "ax[1].set_yticks([0,n_crit, 2* n_crit])\n",
    "ax[1].set_yticklabels(['0', r'$n_{\\rm s}^\\ast$', r'$2 \\, n_{\\rm s}^\\ast$'])\n",
    "# ax[1].set_yticks([0,n_crit, 2* n_crit, 4*n_crit])\n",
    "# ax[1].set_yticklabels(['0', r'$n_{\\rm s}^\\ast$', r'$2 \\, n_{\\rm s}^\\ast$', r'$4 \\, n_{\\rm s}^\\ast$'])\n",
    "# ax[1].get_yticklabels()[3].set_color(dark_yellow)\n",
    "# ax[1].axhline(y=[4*n_crit], color=dark_yellow, linestyle='--')\n",
    "ax[1].get_yticklabels()[1].set_color(dark_yellow)\n",
    "ax[1].axhline(y=[n_crit], color=dark_yellow, linestyle='--')\n",
    "ax[1].get_yticklabels()[2].set_color(dark_yellow)\n",
    "ax[1].axhline(y=[2*n_crit], color=dark_yellow, linestyle='--')\n",
    "\n",
    "ax[2].set(ylim=(0,total_conc_cut[-1]*1.1))\n",
    "\n",
    "ax[3].tick_params(bottom=True, labelbottom=True)\n",
    "ax[3].tick_params(axis='x', colors='black')\n",
    "\n",
    "ax[3].set_xticks([time_cut[0], \n",
    "                  time_cut[0]+ doubling_time, \n",
    "                  time_cut[0]+ 2*doubling_time,\n",
    "                  time_cut[0]+ 3*doubling_time\n",
    "                 ])\n",
    "ax[3].set_xticklabels(['0', '1', '2', '3'])\n",
    "ax[3].margins(0)\n",
    "ax[3].tick_params(     # ticks along the bottom edge are off\n",
    "    bottom=True,         # ticks along the top edge are off\n",
    "    labelbottom=True)\n",
    "\n",
    "plt.savefig(file_path + '/S3_'+division_control+'_'+gene_expr+'.pdf', format='pdf', bbox_inches='tight')"
   ]
  },
  {
   "cell_type": "code",
   "execution_count": null,
   "metadata": {},
   "outputs": [],
   "source": []
  },
  {
   "cell_type": "code",
   "execution_count": null,
   "metadata": {},
   "outputs": [],
   "source": []
  }
 ],
 "metadata": {
  "kernelspec": {
   "display_name": "Python 3 (ipykernel)",
   "language": "python",
   "name": "python3"
  },
  "language_info": {
   "codemirror_mode": {
    "name": "ipython",
    "version": 3
   },
   "file_extension": ".py",
   "mimetype": "text/x-python",
   "name": "python",
   "nbconvert_exporter": "python",
   "pygments_lexer": "ipython3",
   "version": "3.7.3"
  }
 },
 "nbformat": 4,
 "nbformat_minor": 2
}
