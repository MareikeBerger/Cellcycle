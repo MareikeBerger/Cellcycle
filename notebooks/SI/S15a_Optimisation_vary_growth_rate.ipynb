{
 "cells": [
  {
   "cell_type": "code",
   "execution_count": 1,
   "metadata": {},
   "outputs": [],
   "source": [
    "import numpy as np\n",
    "import pandas as pd\n",
    "import os\n",
    "from glob import glob\n",
    "from pprint import pprint\n",
    "import json\n",
    "import seaborn as sns\n",
    "import matplotlib.pyplot as plt\n",
    "from matplotlib.collections import LineCollection\n",
    "from matplotlib.colors import ListedColormap, BoundaryNorm\n",
    "import matplotlib.pyplot as plt\n",
    "\n",
    "import cellcycle.PlottingTools as plottingTools\n",
    "from cellcycle.ParameterSet import ParameterSet\n",
    "import cellcycle.DataStorage as dataStorage\n",
    "import cellcycle.DataAnalysis as dataAnalysis\n",
    "import cellcycle.MakeDataframe as makeDataframe\n",
    "import cellcycle.MakeDataframe as makeDataframe\n",
    "from cellcycle import mainClass"
   ]
  },
  {
   "cell_type": "code",
   "execution_count": 2,
   "metadata": {},
   "outputs": [
    {
     "name": "stdout",
     "output_type": "stream",
     "text": [
      "file_path /home/berger/Data/UltrasensitivityCombined/Final_NatCom_Submission/SI/S15_Optimised_switch_titration/CV_growth_rate\n",
      "parameter_path /home/berger/Data/UltrasensitivityCombined/Final_NatCom_Submission/SI/S15_Optimised_switch_titration/CV_growth_rate/parameter_set.csv\n"
     ]
    }
   ],
   "source": [
    "file_path_input_params_json = '../../input_params.json'\n",
    "input_param_dict = mainClass.extract_variables_from_input_params_json(file_path_input_params_json)\n",
    "root_path = input_param_dict[\"DATA_FOLDER_PATH\"]\n",
    "simulation_location = 'SI/S15_Optimised_switch_titration/CV_growth_rate'\n",
    "file_path = os.path.join(root_path, simulation_location)\n",
    "print('file_path', file_path)\n",
    "parameter_path = os.path.join(file_path, 'parameter_set.csv')\n",
    "print('parameter_path', parameter_path)"
   ]
  },
  {
   "cell_type": "code",
   "execution_count": 3,
   "metadata": {},
   "outputs": [],
   "source": [
    "pinkish_red = (247 / 255, 109 / 255, 109 / 255)\n",
    "green = (0 / 255, 133 / 255, 86 / 255)\n",
    "dark_blue = (36 / 255, 49 / 255, 94 / 255)\n",
    "light_blue = (168 / 255, 209 / 255, 231 / 255)\n",
    "blue = (55 / 255, 71 / 255, 133 / 255)\n",
    "yellow = (247 / 255, 233 / 255, 160 / 255)"
   ]
  },
  {
   "cell_type": "code",
   "execution_count": 4,
   "metadata": {},
   "outputs": [],
   "source": [
    "v_init_exp = 0.28\n",
    "std_exp = 0.05"
   ]
  },
  {
   "cell_type": "code",
   "execution_count": 5,
   "metadata": {},
   "outputs": [
    {
     "name": "stdout",
     "output_type": "stream",
     "text": [
      "['/home/berger/Data/UltrasensitivityCombined/Final_NatCom_Submission/SI/S15_Optimised_switch_titration/CV_growth_rate/variances_models.pdf',\n",
      " '/home/berger/Data/UltrasensitivityCombined/Final_NatCom_Submission/SI/S15_Optimised_switch_titration/CV_growth_rate/switch_titration_lipid_noise_long_1000_cycles',\n",
      " '/home/berger/Data/UltrasensitivityCombined/Final_NatCom_Submission/SI/S15_Optimised_switch_titration/CV_growth_rate/switch_only_optimal']\n"
     ]
    },
    {
     "data": {
      "text/plain": [
       "0     switch_titration_lipid_noise_long_1000_cycles\n",
       "1     switch_titration_lipid_noise_long_1000_cycles\n",
       "2     switch_titration_lipid_noise_long_1000_cycles\n",
       "3     switch_titration_lipid_noise_long_1000_cycles\n",
       "4     switch_titration_lipid_noise_long_1000_cycles\n",
       "5     switch_titration_lipid_noise_long_1000_cycles\n",
       "6     switch_titration_lipid_noise_long_1000_cycles\n",
       "7     switch_titration_lipid_noise_long_1000_cycles\n",
       "8     switch_titration_lipid_noise_long_1000_cycles\n",
       "9     switch_titration_lipid_noise_long_1000_cycles\n",
       "10                              switch_only_optimal\n",
       "11                              switch_only_optimal\n",
       "12                              switch_only_optimal\n",
       "13                              switch_only_optimal\n",
       "14                              switch_only_optimal\n",
       "15                              switch_only_optimal\n",
       "16                              switch_only_optimal\n",
       "17                              switch_only_optimal\n",
       "18                              switch_only_optimal\n",
       "19                              switch_only_optimal\n",
       "Name: simu_name, dtype: object"
      ]
     },
     "execution_count": 5,
     "metadata": {},
     "output_type": "execute_result"
    }
   ],
   "source": [
    "data_frame = makeDataframe.make_dataframe(file_path)\n",
    "data_frame = makeDataframe.add_average_values_to_df(data_frame)\n",
    "data_frame = makeDataframe.add_theoretical_init_reg_concentrations_to_df(data_frame)\n",
    "data_frame.simu_name"
   ]
  },
  {
   "cell_type": "markdown",
   "metadata": {},
   "source": [
    "# Calculate CV"
   ]
  },
  {
   "cell_type": "code",
   "execution_count": 6,
   "metadata": {},
   "outputs": [
    {
     "name": "stdout",
     "output_type": "stream",
     "text": [
      "switch_titration_lipid_noise_long_1000_cycles\n",
      "switch_only_optimal\n"
     ]
    }
   ],
   "source": [
    "for simu_name in data_frame.simu_name.unique():\n",
    "    simu_df = data_frame[data_frame[\"simu_name\"] == simu_name]\n",
    "    print(simu_name)\n",
    "    data_frame.loc[data_frame['simu_name'] == simu_name, 'mean_v_init_per_n_ori'] = np.mean(simu_df[\"v_init_per_n_ori\"])\n",
    "    data_frame.loc[data_frame['simu_name'] == simu_name, 'stdd_v_init_per_n_ori'] = np.std(simu_df[\"v_init_per_n_ori\"])\n",
    "    data_frame.loc[data_frame['simu_name'] == simu_name, 'cv_v_init_per_n_ori'] = np.std(simu_df[\"v_init_per_n_ori\"])/np.mean(simu_df[\"v_init_per_n_ori\"])"
   ]
  },
  {
   "cell_type": "markdown",
   "metadata": {},
   "source": [
    "# Calculate variance at different growth rates"
   ]
  },
  {
   "cell_type": "code",
   "execution_count": 7,
   "metadata": {},
   "outputs": [
    {
     "data": {
      "text/plain": [
       "0     0.064433\n",
       "1     0.069785\n",
       "2     0.075455\n",
       "3     0.055401\n",
       "4     0.068394\n",
       "5     0.066306\n",
       "6     0.053776\n",
       "7     0.075388\n",
       "8     0.056980\n",
       "9     0.061167\n",
       "10    0.174808\n",
       "11    0.092847\n",
       "12    0.089048\n",
       "13    0.108819\n",
       "14    0.077152\n",
       "15    0.074986\n",
       "16    0.097529\n",
       "17    0.086364\n",
       "18    0.125935\n",
       "19    0.147050\n",
       "Name: CV_v_init, dtype: float64"
      ]
     },
     "execution_count": 7,
     "metadata": {},
     "output_type": "execute_result"
    }
   ],
   "source": [
    "def return_array_of_initiation_volumes(filepath_h5):\n",
    "    data_frame = pd.read_hdf(filepath_h5, key='dataset_init_events')\n",
    "    return data_frame['v_init_per_ori'], data_frame['t_init']\n",
    "\n",
    "def calculate_CV_v_init(row):\n",
    "    v_init_per_ori, t_init = return_array_of_initiation_volumes(row.path_dataset)\n",
    "    v_init_np = v_init_per_ori.to_numpy()\n",
    "    return np.std(v_init_np[10:])/np.mean(v_init_np[10:])\n",
    "\n",
    "def calculate_CV_lipids(row):\n",
    "    data_frame = pd.read_hdf(filepath_h5, key='dataset_time_traces')\n",
    "    lipid_conc = data_frame['lipid_conc'].to_numpy()\n",
    "    return np.std(lipid_conc[10:])/np.lipid_conc(v_init_np[10:])\n",
    "\n",
    "def calculate_mean_v_init(row):\n",
    "    v_init_per_ori, t_init = return_array_of_initiation_volumes(row.path_dataset)\n",
    "    v_init_np = v_init_per_ori.to_numpy()\n",
    "    return np.mean(v_init_np[10:])\n",
    "\n",
    "data_frame[\"CV_v_init\"] = data_frame.apply(lambda row: calculate_CV_v_init(row), axis=1)\n",
    "data_frame[\"mean_v_init_per_ori\"] = data_frame.apply(lambda row: calculate_mean_v_init(row), axis=1)\n",
    "data_frame.CV_v_init"
   ]
  },
  {
   "cell_type": "markdown",
   "metadata": {},
   "source": [
    "# Make Legends"
   ]
  },
  {
   "cell_type": "code",
   "execution_count": 8,
   "metadata": {},
   "outputs": [],
   "source": [
    "import math\n",
    "\n",
    "def make_production_rate_datA_lipids_cv_legend(activation_rate_lipids, block_production):\n",
    "    return r'$\\alpha_{{\\rm lipids}}={}$ /h, blocked = {}'.format(np.round(activation_rate_lipids,3),\n",
    "                                                               block_production)\n",
    "def make_legend_lipids(activation_rate_lipids):\n",
    "    if activation_rate_lipids == 0:\n",
    "        return 'Full model (no lipids)'\n",
    "    else:\n",
    "        return 'Full model'\n",
    "def make_legend_model_type(version_of_model):\n",
    "    if version_of_model == 'switch':\n",
    "        return\n",
    "    \n",
    "def make_legend_LD_opt(n_c_max_0, CV_v_init):\n",
    "    if n_c_max_0 == 0:\n",
    "        return 'switch, CV={}'.format(np.round(CV_v_init, 3))\n",
    "    else:\n",
    "        return 'switch + titration, CV={}'.format(np.round(CV_v_init, 3))\n",
    "    \n",
    "def make_legend_blocked(block_production):\n",
    "    if block_production == 0:\n",
    "        return 'not blocked'\n",
    "    else:\n",
    "        return 'blocked'\n",
    "    \n",
    "def make_production_rate_datA_cv_legend(destruction_rate_datA, cv):\n",
    "    return r'$\\beta_{{\\rm datA}}={}$ /h, CV= {}'.format(np.round(destruction_rate_datA,3),\n",
    "                                                        np.round(cv,3))\n",
    "\n",
    "def make_production_rate_datA_legend(destruction_rate_datA):\n",
    "    return r'$\\beta_{{\\rm datA}}={}$ min$^{{-1}}$'.format(int(destruction_rate_datA/60))\n",
    "\n",
    "def make_production_rate_datA_lipids_legend(destruction_rate_datA, production_rate_lipids):\n",
    "    return r'$\\beta_{{\\rm datA}}={}$ /h, \\linebreak  $\\alpha_{{\\rm lipids}}={}$ /h'.format(np.round(destruction_rate_datA,3), \n",
    "                                                                                       np.round(production_rate_lipids,3))\n",
    "\n",
    "def make_theoretical_v_init_legend(v_init_per_n_ori_th_no_time_varying):\n",
    "    return r'$v^\\ast_{{\\rm th}}={} \\, \\mu $m$^3$'.format(np.round(v_init_per_n_ori_th_no_time_varying,3))\n",
    "\n",
    "def make_legend_model(version_of_model):\n",
    "    if version_of_model == 'switch':\n",
    "        return 'LD (opt)'\n",
    "    else:\n",
    "        return 'LD + titration (opt)'\n",
    "\n",
    "def make_order(legend_models):\n",
    "    if legend_models == 'titration':\n",
    "        return 1\n",
    "    if legend_models == 'titration+SeqA':\n",
    "        return 2\n",
    "    if legend_models == 'LDDR':\n",
    "        return 3\n",
    "    if legend_models == 'LDDR+titration':\n",
    "        return 4\n",
    "    if legend_models == 'LDDR+titration+SeqA':\n",
    "        return 5\n",
    "\n",
    "data_frame.loc[:, 'legend_datA_lipids_cv'] = data_frame.apply(lambda row: make_production_rate_datA_lipids_cv_legend(row.activation_rate_lipids,row.block_production), axis = 1)\n",
    "data_frame.loc[:, 'legend_lipids'] = data_frame.apply(lambda row: make_legend_lipids(row.activation_rate_lipids), axis = 1)\n",
    "data_frame.loc[:, 'DnaA synthesis:'] = data_frame.apply(lambda row: make_legend_blocked(row.block_production), axis = 1)\n",
    "data_frame.loc[:, 'legend_opt'] = data_frame.apply(lambda row: make_legend_LD_opt(row.n_c_max_0, row.CV_v_init), axis = 1)\n",
    "data_frame.loc[:, 'legend_model'] = data_frame.apply(lambda row: make_legend_model(row.version_of_model), axis = 1)\n",
    "\n"
   ]
  },
  {
   "cell_type": "markdown",
   "metadata": {},
   "source": [
    "# Determine minimal activator fraction"
   ]
  },
  {
   "cell_type": "code",
   "execution_count": 9,
   "metadata": {},
   "outputs": [],
   "source": [
    "def determine_min_frac(filepath_h5, total_conc):\n",
    "    data_frame_traces = pd.read_hdf(filepath_h5, key='dataset_time_traces')\n",
    "    fractions = data_frame_traces['active_conc'] / total_conc\n",
    "    return np.min(fractions[int(fractions.size/2):])\n",
    "\n",
    "def determine_max_frac(filepath_h5, total_conc):\n",
    "    data_frame_traces = pd.read_hdf(filepath_h5, key='dataset_time_traces')\n",
    "    fractions = data_frame_traces['active_conc'] / total_conc\n",
    "    return np.max(fractions[int(fractions.size/2):])\n",
    "\n",
    "data_frame.loc[:, 'min_frac'] = data_frame.apply(lambda row: determine_min_frac(row.path_dataset, row.total_conc), axis = 1)\n",
    "data_frame.loc[:, 'max_frac'] = data_frame.apply(lambda row: determine_max_frac(row.path_dataset, row.total_conc), axis = 1)\n",
    "data_frame['amplitude_frac'] = data_frame['max_frac']-data_frame['min_frac']\n",
    "data_frame['relative_change_frac']= data_frame['min_frac']/data_frame['max_frac']"
   ]
  },
  {
   "cell_type": "markdown",
   "metadata": {},
   "source": [
    "# Plot CV for different growth rates and different models"
   ]
  },
  {
   "cell_type": "code",
   "execution_count": 10,
   "metadata": {},
   "outputs": [
    {
     "data": {
      "image/png": "[encoded data removed]",
      "text/plain": [
       "<Figure size 504x504 with 1 Axes>"
      ]
     },
     "metadata": {},
     "output_type": "display_data"
    }
   ],
   "source": [
    "sns.set(style=\"ticks\")\n",
    "sns.set_context(\"poster\")\n",
    "\n",
    "fig, ax = plt.subplots(figsize=(7,7))\n",
    "sns.lineplot(\n",
    "    x='rate_growth', \n",
    "    y='CV_v_init',\n",
    "    data=data_frame.sort_values(by=[\"version_of_model\"], ascending=True),\n",
    "    hue='legend_model',\n",
    "#     dashes=[(4, 1), (4, 1), (4, 1), (4, 1)],\n",
    "#     style ='lddr',\n",
    "#     markers=True,\n",
    "    palette= [blue, pinkish_red],#, pinkish_red, light_blue],#, yellow],\n",
    "    linewidth = 3.5,\n",
    "    ax=ax\n",
    ");\n",
    "ax.lines[0].set_linestyle(\"--\")\n",
    "ax.lines[1].set_linestyle(\"--\")\n",
    "ax.margins(0)\n",
    "ax.set(xlabel=r'$\\lambda \\, [h^{-1}]$', ylabel=r'CV')\n",
    "# plt.legend(labels=legend)\n",
    "ax.set(ylim=(0,0.22))\n",
    "ax.tick_params(direction='out', length=6, width=2, grid_alpha=0.5)\n",
    "handles, labels = ax.get_legend_handles_labels()\n",
    "ax.legend(handles=handles[1:], labels=labels[1:])\n",
    "plt.savefig(file_path + '/variances_models.pdf', format='pdf', bbox_inches='tight')"
   ]
  },
  {
   "cell_type": "code",
   "execution_count": null,
   "metadata": {},
   "outputs": [],
   "source": []
  },
  {
   "cell_type": "code",
   "execution_count": null,
   "metadata": {},
   "outputs": [],
   "source": []
  }
 ],
 "metadata": {
  "kernelspec": {
   "display_name": "Python 3",
   "language": "python",
   "name": "python3"
  },
  "language_info": {
   "codemirror_mode": {
    "name": "ipython",
    "version": 3
   },
   "file_extension": ".py",
   "mimetype": "text/x-python",
   "name": "python",
   "nbconvert_exporter": "python",
   "pygments_lexer": "ipython3",
   "version": "3.7.3"
  }
 },
 "nbformat": 4,
 "nbformat_minor": 2
}
