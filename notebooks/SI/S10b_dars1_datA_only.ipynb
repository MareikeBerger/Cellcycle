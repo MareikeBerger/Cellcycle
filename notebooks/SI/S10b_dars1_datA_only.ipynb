{
 "cells": [
  {
   "cell_type": "code",
   "execution_count": 1,
   "metadata": {},
   "outputs": [],
   "source": [
    "import numpy as np\n",
    "import pandas as pd\n",
    "import os\n",
    "from glob import glob\n",
    "from pprint import pprint\n",
    "import json\n",
    "import seaborn as sns\n",
    "import matplotlib.pyplot as plt\n",
    "from matplotlib.collections import LineCollection\n",
    "from matplotlib.colors import ListedColormap, BoundaryNorm\n",
    "import matplotlib.pyplot as plt\n",
    "\n",
    "import cellcycle.PlottingTools as plottingTools\n",
    "from cellcycle.ParameterSet import ParameterSet\n",
    "import cellcycle.DataStorage as dataStorage\n",
    "import cellcycle.DataAnalysis as dataAnalysis\n",
    "import cellcycle.MakeDataframe as makeDataframe\n",
    "from cellcycle import mainClass"
   ]
  },
  {
   "cell_type": "code",
   "execution_count": 2,
   "metadata": {},
   "outputs": [],
   "source": [
    "indx = 0 # can only be 0 "
   ]
  },
  {
   "cell_type": "code",
   "execution_count": 3,
   "metadata": {},
   "outputs": [
    {
     "name": "stdout",
     "output_type": "stream",
     "text": [
      "file_path /home/berger/Data/UltrasensitivityCombined/Final_NatCom_Submission/SI/S10_dars1_datA_only\n",
      "parameter_path /home/berger/Data/UltrasensitivityCombined/Final_NatCom_Submission/SI/S10_dars1_datA_only/parameter_set.csv\n"
     ]
    }
   ],
   "source": [
    "file_path_input_params_json = '../../input_params.json'\n",
    "input_param_dict = mainClass.extract_variables_from_input_params_json(file_path_input_params_json)\n",
    "root_path = input_param_dict[\"DATA_FOLDER_PATH\"]\n",
    "simulation_location = 'SI/S10_dars1_datA_only'\n",
    "file_path = os.path.join(root_path, simulation_location)\n",
    "print('file_path', file_path)\n",
    "parameter_path = os.path.join(file_path, 'parameter_set.csv')\n",
    "print('parameter_path', parameter_path)"
   ]
  },
  {
   "cell_type": "markdown",
   "metadata": {},
   "source": [
    "# Make data frame from time traces"
   ]
  },
  {
   "cell_type": "code",
   "execution_count": 4,
   "metadata": {},
   "outputs": [
    {
     "name": "stdout",
     "output_type": "stream",
     "text": [
      "['/home/berger/Data/UltrasensitivityCombined/Final_NatCom_Submission/SI/S10_dars1_datA_only/Fig_SI_dars1_datA_only.pdf',\n",
      " '/home/berger/Data/UltrasensitivityCombined/Final_NatCom_Submission/SI/S10_dars1_datA_only/dars1_datA_only_new']\n"
     ]
    },
    {
     "data": {
      "text/html": [
       "<div>\n",
       "<style scoped>\n",
       "    .dataframe tbody tr th:only-of-type {\n",
       "        vertical-align: middle;\n",
       "    }\n",
       "\n",
       "    .dataframe tbody tr th {\n",
       "        vertical-align: top;\n",
       "    }\n",
       "\n",
       "    .dataframe thead th {\n",
       "        text-align: right;\n",
       "    }\n",
       "</style>\n",
       "<table border=\"1\" class=\"dataframe\">\n",
       "  <thead>\n",
       "    <tr style=\"text-align: right;\">\n",
       "      <th></th>\n",
       "      <th>aspect_ratio</th>\n",
       "      <th>basal_rate_initiator</th>\n",
       "      <th>basal_rate_lipids</th>\n",
       "      <th>basal_rate_regulator</th>\n",
       "      <th>basal_rate_regulator_lipids</th>\n",
       "      <th>block_production</th>\n",
       "      <th>code_path</th>\n",
       "      <th>conc_0</th>\n",
       "      <th>critical_free_active_conc</th>\n",
       "      <th>critical_free_conc</th>\n",
       "      <th>...</th>\n",
       "      <th>t_onset_dars2</th>\n",
       "      <th>t_onset_datA</th>\n",
       "      <th>time_of_perturb</th>\n",
       "      <th>time_step</th>\n",
       "      <th>total_conc</th>\n",
       "      <th>type_of_division_regulation</th>\n",
       "      <th>v_0</th>\n",
       "      <th>version_of_lipid_regulation</th>\n",
       "      <th>version_of_model</th>\n",
       "      <th>version_of_titration</th>\n",
       "    </tr>\n",
       "  </thead>\n",
       "  <tbody>\n",
       "    <tr>\n",
       "      <th>0</th>\n",
       "      <td>4.0</td>\n",
       "      <td>500.0</td>\n",
       "      <td>50000.0</td>\n",
       "      <td>500.0</td>\n",
       "      <td>60000.0</td>\n",
       "      <td>0</td>\n",
       "      <td>/home/berger/Documents/Arbeit/PhD/MyCode/Mecha...</td>\n",
       "      <td>400.0</td>\n",
       "      <td>225.0</td>\n",
       "      <td>20.0</td>\n",
       "      <td>...</td>\n",
       "      <td>0.2</td>\n",
       "      <td>0.0</td>\n",
       "      <td>0</td>\n",
       "      <td>0.001</td>\n",
       "      <td>400.0</td>\n",
       "      <td>adder</td>\n",
       "      <td>0.15</td>\n",
       "      <td>proteome_sector</td>\n",
       "      <td>switch</td>\n",
       "      <td>regulator_is_initiator</td>\n",
       "    </tr>\n",
       "  </tbody>\n",
       "</table>\n",
       "<p>1 rows × 111 columns</p>\n",
       "</div>"
      ],
      "text/plain": [
       "   aspect_ratio  basal_rate_initiator  basal_rate_lipids  \\\n",
       "0           4.0                 500.0            50000.0   \n",
       "\n",
       "   basal_rate_regulator  basal_rate_regulator_lipids  block_production  \\\n",
       "0                 500.0                      60000.0                 0   \n",
       "\n",
       "                                           code_path  conc_0  \\\n",
       "0  /home/berger/Documents/Arbeit/PhD/MyCode/Mecha...   400.0   \n",
       "\n",
       "   critical_free_active_conc  critical_free_conc  ...  t_onset_dars2  \\\n",
       "0                      225.0                20.0  ...            0.2   \n",
       "\n",
       "   t_onset_datA  time_of_perturb time_step  total_conc  \\\n",
       "0           0.0                0     0.001       400.0   \n",
       "\n",
       "   type_of_division_regulation   v_0  version_of_lipid_regulation  \\\n",
       "0                        adder  0.15              proteome_sector   \n",
       "\n",
       "   version_of_model    version_of_titration  \n",
       "0            switch  regulator_is_initiator  \n",
       "\n",
       "[1 rows x 111 columns]"
      ]
     },
     "execution_count": 4,
     "metadata": {},
     "output_type": "execute_result"
    }
   ],
   "source": [
    "data_frame = makeDataframe.make_dataframe(file_path)\n",
    "data_frame = data_frame.sort_values(by=['rate_growth'])\n",
    "\n",
    "time_traces_data_frame = pd.read_hdf(data_frame['path_dataset'].iloc[indx], key='dataset_time_traces')\n",
    "\n",
    "v_init_data_frame = pd.read_hdf(data_frame['path_dataset'].iloc[indx], key='dataset_init_events')\n",
    "v_init = v_init_data_frame.iloc[indx]['v_init']\n",
    "t_init_list = v_init_data_frame['t_init'].to_numpy()\n",
    "\n",
    "v_d_data_frame = pd.read_hdf(data_frame['path_dataset'].iloc[indx], key='dataset_div_events')\n",
    "data_frame"
   ]
  },
  {
   "cell_type": "code",
   "execution_count": 5,
   "metadata": {},
   "outputs": [
    {
     "name": "stdout",
     "output_type": "stream",
     "text": [
      "8000\n",
      "1084 2943\n",
      "[1.199 1.566 1.931 2.294 2.655] [1.457 1.829 2.199 2.566 2.931]\n"
     ]
    }
   ],
   "source": [
    "time = np.array(time_traces_data_frame[\"time\"])\n",
    "volume = np.array(time_traces_data_frame[\"volume\"])\n",
    "n_ori = np.array(time_traces_data_frame[\"n_ori\"])\n",
    "active_fraction = np.array(time_traces_data_frame[\"active_fraction\"])\n",
    "print(time.size)\n",
    "cycle_0 = 0\n",
    "cycle_f = 5\n",
    "t_0 = time[volume==v_d_data_frame['v_b'][cycle_0]]\n",
    "indx_0 = np.where(time==t_0)[0][0]\n",
    "t_f = time[volume==v_d_data_frame['v_b'][cycle_f]]\n",
    "indx_f = np.where(time==t_f)[0][0]+10\n",
    "\n",
    "print(indx_0, indx_f)\n",
    "\n",
    "n_ori_cut = n_ori[indx_0:indx_f]\n",
    "time_cut = time[indx_0:indx_f]\n",
    "volume_cut = volume[indx_0:indx_f]\n",
    "active_fraction_cut = active_fraction[indx_0:indx_f]\n",
    "\n",
    "t_init_list_cut_1 = t_init_list[t_init_list>t_0]\n",
    "t_init_list_cut = t_init_list_cut_1[t_init_list_cut_1<t_f]\n",
    "t_b = t_init_list + data_frame.iloc[indx]['t_CD']\n",
    "t_b_cut_1 = t_b[t_b<t_f]\n",
    "t_b_cut = t_b_cut_1[t_b_cut_1>t_0]\n",
    "print(t_init_list_cut, t_b_cut)"
   ]
  },
  {
   "cell_type": "markdown",
   "metadata": {},
   "source": [
    "# Color definitions"
   ]
  },
  {
   "cell_type": "code",
   "execution_count": 6,
   "metadata": {},
   "outputs": [],
   "source": [
    "pinkish_red = (247 / 255, 109 / 255, 109 / 255)\n",
    "green = (0 / 255, 133 / 255, 86 / 255)\n",
    "dark_blue = (36 / 255, 49 / 255, 94 / 255)\n",
    "light_blue = (168 / 255, 209 / 255, 231 / 255)\n",
    "blue = (55 / 255, 71 / 255, 133 / 255)\n",
    "yellow = (247 / 255, 233 / 255, 160 / 255)"
   ]
  },
  {
   "cell_type": "markdown",
   "metadata": {},
   "source": [
    "# Plot three figures"
   ]
  },
  {
   "cell_type": "code",
   "execution_count": 8,
   "metadata": {},
   "outputs": [
    {
     "name": "stdout",
     "output_type": "stream",
     "text": [
      "2.0\n"
     ]
    },
    {
     "data": {
      "image/png": "[encoded data removed]",
      "text/plain": [
       "<Figure size 230.4x288 with 3 Axes>"
      ]
     },
     "metadata": {},
     "output_type": "display_data"
    }
   ],
   "source": [
    "label_list = [r'$V(t) \\, [\\mu m^3]$', r'$n_{ori}(t)$', r'$f(t)$']\n",
    "x_axes_list = [time_cut, time_cut, time_cut]\n",
    "y_axes_list = [volume_cut, n_ori_cut, active_fraction_cut]\n",
    "color_list = [green, dark_blue, pinkish_red]\n",
    "fig, ax = plt.subplots(3, figsize=(3.2,4))\n",
    "plt.xlabel(r'time [$\\tau_{\\rm d}$]')\n",
    "y_min_list = [0,0,0,0]\n",
    "y_max_list = [1, 1.2, 1.2, 1.2]\n",
    "\n",
    "doubling_time = 1/data_frame.iloc[indx]['doubling_rate']\n",
    "print(1/doubling_time)\n",
    "for item in range(0, len(label_list)):\n",
    "    ax[item].set_ylabel(label_list[item])\n",
    "    ax[item].plot(x_axes_list[item], y_axes_list[item], color=color_list[item])\n",
    "    ax[item].set_ylim(ymin=0)\n",
    "    ax[item].tick_params(\n",
    "        axis='x',          # changes apply to the x-axis\n",
    "        which='both',      # both major and minor ticks are affected\n",
    "        bottom=False,      # ticks along the bottom edge are off\n",
    "        top=False,         # ticks along the top edge are off\n",
    "        labelbottom=False) # labels along the bottom edge are off\n",
    "    ax[item].spines[\"top\"].set_visible(False)\n",
    "    ax[item].spines[\"right\"].set_visible(False)\n",
    "    ax[item].margins(0)\n",
    "    for t_div in t_b_cut:\n",
    "        ax[item].axvline(x=t_div, \n",
    "                          ymin=y_min_list[item],\n",
    "                          ymax=y_max_list[item],\n",
    "                             c=\"black\",\n",
    "                          zorder=0, \n",
    "                          linewidth=0.8,\n",
    "                          clip_on=False)\n",
    "    for t_init in t_init_list_cut:\n",
    "        ax[item].axvline(x=t_init, \n",
    "                          ymin=y_min_list[item],\n",
    "                          ymax=y_max_list[item],\n",
    "                             c=\"black\",\n",
    "                          zorder=0, \n",
    "                          linewidth=0.8,\n",
    "                          linestyle='--',\n",
    "                          clip_on=False)\n",
    "# ax[0].set_yticks([0, 0.5 * v_init, v_init])\n",
    "# ax[0].set_yticklabels(['0',r'$2 \\, v^\\ast$',r'$4 \\, v^\\ast$'])\n",
    "# ax[0].get_yticklabels()[1].set_color(green)\n",
    "# ax[0].get_yticklabels()[2].set_color(green)\n",
    "# ax[0].axhline(y=v_init, color=green, linestyle='--')\n",
    "# ax[0].axhline(y=0.5 * v_init, color=green, linestyle='--')\n",
    "\n",
    "ax[1].set_yticks([4, 8])\n",
    "ax[1].set_yticklabels([r'4',r'8'])\n",
    "\n",
    "ax[2].axhline(y=data_frame.iloc[0]['frac_init'], color=pinkish_red, linestyle='--')\n",
    "ax[2].set_yticks([0, 0.5, data_frame.iloc[0]['frac_init'], 1])\n",
    "ax[2].set_yticklabels(['0', '0.5', r'$f^\\ast$', '1'])\n",
    "ax[2].get_yticklabels()[2].set_color(pinkish_red)\n",
    "ax[2].tick_params(bottom=True, labelbottom=True)\n",
    "ax[2].tick_params(axis='x', colors='black')\n",
    "ax[2].set_xticks([time_cut[0], \n",
    "                  time_cut[0]+ doubling_time, \n",
    "                  time_cut[0]+ 2*doubling_time,\n",
    "                  time_cut[0]+ 3*doubling_time\n",
    "                 ])\n",
    "ax[2].set_xticklabels(['0', '1', '2', '3'])\n",
    "fig.align_ylabels()\n",
    "# ax[0].set_title(r'growth rate $\\tau_{{\\rm d}}=$ {}'.format(np.round(1/data_frame.iloc[indx]['doubling_rate'],2)))\n",
    "plt.savefig(file_path + '/Fig_SI_dars1_datA_only.pdf', format='pdf',bbox_inches='tight')"
   ]
  },
  {
   "cell_type": "code",
   "execution_count": null,
   "metadata": {},
   "outputs": [],
   "source": []
  },
  {
   "cell_type": "code",
   "execution_count": null,
   "metadata": {},
   "outputs": [],
   "source": []
  }
 ],
 "metadata": {
  "kernelspec": {
   "display_name": "Python 3",
   "language": "python",
   "name": "python3"
  },
  "language_info": {
   "codemirror_mode": {
    "name": "ipython",
    "version": 3
   },
   "file_extension": ".py",
   "mimetype": "text/x-python",
   "name": "python",
   "nbconvert_exporter": "python",
   "pygments_lexer": "ipython3",
   "version": "3.7.3"
  }
 },
 "nbformat": 4,
 "nbformat_minor": 2
}
