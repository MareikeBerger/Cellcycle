{
 "cells": [
  {
   "cell_type": "code",
   "execution_count": 27,
   "metadata": {},
   "outputs": [],
   "source": [
    "import numpy as np\n",
    "import pandas as pd\n",
    "import os\n",
    "from glob import glob\n",
    "from pprint import pprint\n",
    "import json\n",
    "import seaborn as sns\n",
    "import matplotlib.pyplot as plt\n",
    "from matplotlib.collections import LineCollection\n",
    "from matplotlib.colors import ListedColormap, BoundaryNorm\n",
    "import matplotlib.pyplot as plt\n",
    "\n",
    "import cellcycle.PlottingTools as plottingTools\n",
    "from cellcycle.ParameterSet import ParameterSet\n",
    "import cellcycle.DataStorage as dataStorage\n",
    "import cellcycle.DataAnalysis as dataAnalysis\n",
    "import cellcycle.MakeDataframe as makeDataframe"
   ]
  },
  {
   "cell_type": "code",
   "execution_count": 40,
   "metadata": {},
   "outputs": [],
   "source": [
    "source_noise = 'DnaA' #options 'lipids' or 'DnaA'\n",
    "file_path = '/home/berger/Documents/Arbeit/PhD/data/UltrasensitivityCombined/NatCom/SI/S13_LDDR_titration_SeqA/variance_'+source_noise\n",
    "\n",
    "parameter_path = os.path.join(file_path, 'parameter_set.csv')"
   ]
  },
  {
   "cell_type": "code",
   "execution_count": 41,
   "metadata": {},
   "outputs": [],
   "source": [
    "pinkish_red = (247 / 255, 109 / 255, 109 / 255)\n",
    "green = (0 / 255, 133 / 255, 86 / 255)\n",
    "dark_blue = (36 / 255, 49 / 255, 94 / 255)\n",
    "light_blue = (168 / 255, 209 / 255, 231 / 255)\n",
    "blue = (55 / 255, 71 / 255, 133 / 255)\n",
    "yellow = (247 / 255, 233 / 255, 160 / 255)"
   ]
  },
  {
   "cell_type": "code",
   "execution_count": 42,
   "metadata": {},
   "outputs": [],
   "source": [
    "v_init_exp = 0.28\n",
    "std_exp = 0.05"
   ]
  },
  {
   "cell_type": "code",
   "execution_count": 43,
   "metadata": {},
   "outputs": [
    {
     "name": "stdout",
     "output_type": "stream",
     "text": [
      "['/home/berger/Documents/Arbeit/PhD/data/UltrasensitivityCombined/NatCom/SI/S13_LDDR_titration_SeqA/variance_DnaA/variances_models_no_titr_seqA.pdf',\n",
      " '/home/berger/Documents/Arbeit/PhD/data/UltrasensitivityCombined/NatCom/SI/S13_LDDR_titration_SeqA/variance_DnaA/variances_models.pdf',\n",
      " '/home/berger/Documents/Arbeit/PhD/data/UltrasensitivityCombined/NatCom/SI/S13_LDDR_titration_SeqA/variance_DnaA/LDDR_rida_400',\n",
      " '/home/berger/Documents/Arbeit/PhD/data/UltrasensitivityCombined/NatCom/SI/S13_LDDR_titration_SeqA/variance_DnaA/full_model_rida_400_noise',\n",
      " '/home/berger/Documents/Arbeit/PhD/data/UltrasensitivityCombined/NatCom/SI/S13_LDDR_titration_SeqA/variance_DnaA/switch_titration_DnaA_noise',\n",
      " '/home/berger/Documents/Arbeit/PhD/data/UltrasensitivityCombined/NatCom/SI/S13_LDDR_titration_SeqA/variance_DnaA/titration_only',\n",
      " '/home/berger/Documents/Arbeit/PhD/data/UltrasensitivityCombined/NatCom/SI/S13_LDDR_titration_SeqA/variance_DnaA/Fig_3C_poster.pdf',\n",
      " '/home/berger/Documents/Arbeit/PhD/data/UltrasensitivityCombined/NatCom/SI/S13_LDDR_titration_SeqA/variance_DnaA/variances_models_large.pdf']\n"
     ]
    },
    {
     "data": {
      "text/plain": [
       "0                   LDDR_rida_400\n",
       "1                   LDDR_rida_400\n",
       "2                   LDDR_rida_400\n",
       "3                   LDDR_rida_400\n",
       "4                   LDDR_rida_400\n",
       "5                   LDDR_rida_400\n",
       "6                   LDDR_rida_400\n",
       "7                   LDDR_rida_400\n",
       "8                   LDDR_rida_400\n",
       "9                   LDDR_rida_400\n",
       "10                  LDDR_rida_400\n",
       "11                  LDDR_rida_400\n",
       "12                  LDDR_rida_400\n",
       "13                  LDDR_rida_400\n",
       "14                  LDDR_rida_400\n",
       "15                  LDDR_rida_400\n",
       "16                  LDDR_rida_400\n",
       "17                  LDDR_rida_400\n",
       "18                  LDDR_rida_400\n",
       "19                  LDDR_rida_400\n",
       "20      full_model_rida_400_noise\n",
       "21      full_model_rida_400_noise\n",
       "22      full_model_rida_400_noise\n",
       "23      full_model_rida_400_noise\n",
       "24      full_model_rida_400_noise\n",
       "25      full_model_rida_400_noise\n",
       "26      full_model_rida_400_noise\n",
       "27      full_model_rida_400_noise\n",
       "28      full_model_rida_400_noise\n",
       "29      full_model_rida_400_noise\n",
       "                 ...             \n",
       "40    switch_titration_DnaA_noise\n",
       "41    switch_titration_DnaA_noise\n",
       "42    switch_titration_DnaA_noise\n",
       "43    switch_titration_DnaA_noise\n",
       "44    switch_titration_DnaA_noise\n",
       "45    switch_titration_DnaA_noise\n",
       "46    switch_titration_DnaA_noise\n",
       "47    switch_titration_DnaA_noise\n",
       "48    switch_titration_DnaA_noise\n",
       "49    switch_titration_DnaA_noise\n",
       "50                 titration_only\n",
       "51                 titration_only\n",
       "52                 titration_only\n",
       "53                 titration_only\n",
       "54                 titration_only\n",
       "55                 titration_only\n",
       "56                 titration_only\n",
       "57                 titration_only\n",
       "58                 titration_only\n",
       "59                 titration_only\n",
       "60                 titration_only\n",
       "61                 titration_only\n",
       "62                 titration_only\n",
       "63                 titration_only\n",
       "64                 titration_only\n",
       "65                 titration_only\n",
       "66                 titration_only\n",
       "67                 titration_only\n",
       "68                 titration_only\n",
       "69                 titration_only\n",
       "Name: simu_name, Length: 70, dtype: object"
      ]
     },
     "execution_count": 43,
     "metadata": {},
     "output_type": "execute_result"
    }
   ],
   "source": [
    "data_frame = makeDataframe.make_dataframe(file_path)\n",
    "data_frame = makeDataframe.add_average_values_to_df(data_frame)\n",
    "data_frame = makeDataframe.add_theoretical_init_reg_concentrations_to_df(data_frame)\n",
    "data_frame.simu_name"
   ]
  },
  {
   "cell_type": "markdown",
   "metadata": {},
   "source": [
    "# Calculate initiation volume theoretically"
   ]
  },
  {
   "cell_type": "code",
   "execution_count": 44,
   "metadata": {},
   "outputs": [
    {
     "data": {
      "text/plain": [
       "0     0.334245\n",
       "1     0.639803\n",
       "2     0.351928\n",
       "3     0.359639\n",
       "4     0.651809\n",
       "5     0.351530\n",
       "6     0.614008\n",
       "7     0.542899\n",
       "8     0.397836\n",
       "9     0.428850\n",
       "10    0.590748\n",
       "11    0.424497\n",
       "12    0.544773\n",
       "13    0.353776\n",
       "14    0.671782\n",
       "15    0.383314\n",
       "16    0.494215\n",
       "17    0.299896\n",
       "18    0.300270\n",
       "19    0.460674\n",
       "20    0.412109\n",
       "21    0.442081\n",
       "22    0.430996\n",
       "23    0.434438\n",
       "24    0.442205\n",
       "25    0.414891\n",
       "26    0.443523\n",
       "27    0.445884\n",
       "28    0.451465\n",
       "29    0.467473\n",
       "        ...   \n",
       "40    0.367153\n",
       "41    0.374907\n",
       "42    0.333267\n",
       "43    0.346761\n",
       "44    0.330978\n",
       "45    0.326714\n",
       "46    0.372539\n",
       "47    0.335427\n",
       "48    0.357176\n",
       "49    0.354379\n",
       "50    0.262411\n",
       "51    0.090087\n",
       "52    0.240652\n",
       "53    0.235354\n",
       "54    0.093276\n",
       "55    0.250626\n",
       "56    0.212916\n",
       "57    0.131601\n",
       "58    0.137552\n",
       "59    0.135899\n",
       "60    0.086118\n",
       "61    0.139355\n",
       "62    0.134385\n",
       "63    0.251216\n",
       "64    0.092165\n",
       "65    0.224470\n",
       "66    0.135434\n",
       "67    0.252798\n",
       "68    0.246777\n",
       "69    0.140963\n",
       "Name: v_init_per_n_ori, Length: 70, dtype: float64"
      ]
     },
     "execution_count": 44,
     "metadata": {},
     "output_type": "execute_result"
    }
   ],
   "source": [
    "def calculate_v_initi_no_overlap_switch_time_varying(df):\n",
    "    try:\n",
    "#         print(df.production_rate_dars1)\n",
    "        production_rate_dars1 = df.production_rate_dars1\n",
    "    except:\n",
    "        production_rate_dars1 = 0\n",
    "    return df.destruction_rate_datA / df.production_rate_lipids * df.frac_init * \\\n",
    "           (df.michaelis_const_prod + (1 - df.frac_init) * df.total_conc) / \\\n",
    "           ((1 - df.frac_init) * (df.michaelis_const_destr + df.frac_init * df.total_conc))-((production_rate_dars1+ df.production_rate_dars2)/df.production_rate_lipids)\n",
    "\n",
    "def calculate_v_initi_overlap_switch_time_varying(df):\n",
    "    try:\n",
    "#         print(df.production_rate_dars1)\n",
    "        production_rate_dars1 = df.production_rate_dars1\n",
    "    except:\n",
    "        production_rate_dars1 = 0\n",
    "    return (df.destruction_rate_datA + df.high_rate_datA + df.destruction_rate_rida) / df.production_rate_lipids * df.frac_init * \\\n",
    "           (df.michaelis_const_prod + (1 - df.frac_init) * df.total_conc) / \\\n",
    "           ((1 - df.frac_init) * (df.michaelis_const_destr + df.frac_init * df.total_conc))- \\\n",
    "           ((production_rate_dars1 + df.production_rate_dars2 + df.high_rate_dars2)/df.production_rate_lipids)\n",
    "\n",
    "data_frame[\"v_init_per_n_ori_th_no_time_varying\"] = data_frame.apply(lambda row: calculate_v_initi_no_overlap_switch_time_varying(row), axis=1)\n",
    "data_frame[\"v_init_per_n_ori_th_o_time_varying\"] = data_frame.apply(lambda row: calculate_v_initi_no_overlap_switch_time_varying(row), axis=1)\n",
    "data_frame.v_init_per_n_ori"
   ]
  },
  {
   "cell_type": "code",
   "execution_count": 45,
   "metadata": {},
   "outputs": [],
   "source": [
    "def calculate_v_init_switch_synthesis(df):\n",
    "    if df.include_synthesis==0:\n",
    "        return df.destruction_rate_datA / df.production_rate_lipids * df.frac_init * \\\n",
    "               (df.michaelis_const_prod + (1 - df.frac_init) * df.total_conc) / \\\n",
    "               ((1 - df.frac_init) * (df.michaelis_const_destr + df.frac_init * df.total_conc))\n",
    "    else:\n",
    "        return (df.destruction_rate_datA/df.total_conc) * \\\n",
    "                df.frac_init / (df.michaelis_const_destr/df.total_conc+ df.frac_init) * \\\n",
    "                (df.michaelis_const_prod / df.total_conc + 1 - df.frac_init) / \\\n",
    "                ((1- df.frac_init) * \\\n",
    "                (df.production_rate_lipids/df.total_conc + df.rate_growth * (df.michaelis_const_prod / df.total_conc + 1 - df.frac_init)))\n",
    "    \n",
    "data_frame[\"v_init_per_n_ori_synthesis\"] = data_frame.apply(lambda row: calculate_v_init_switch_synthesis(row), axis=1)\n"
   ]
  },
  {
   "cell_type": "markdown",
   "metadata": {},
   "source": [
    "# Calculate CV"
   ]
  },
  {
   "cell_type": "code",
   "execution_count": 46,
   "metadata": {},
   "outputs": [
    {
     "name": "stdout",
     "output_type": "stream",
     "text": [
      "LDDR_rida_400\n",
      "full_model_rida_400_noise\n",
      "switch_titration_DnaA_noise\n",
      "titration_only\n"
     ]
    }
   ],
   "source": [
    "for simu_name in data_frame.simu_name.unique():\n",
    "    simu_df = data_frame[data_frame[\"simu_name\"] == simu_name]\n",
    "    print(simu_name)\n",
    "    data_frame.loc[data_frame['simu_name'] == simu_name, 'mean_v_init_per_n_ori'] = np.mean(simu_df[\"v_init_per_n_ori\"])\n",
    "    data_frame.loc[data_frame['simu_name'] == simu_name, 'stdd_v_init_per_n_ori'] = np.std(simu_df[\"v_init_per_n_ori\"])\n",
    "    data_frame.loc[data_frame['simu_name'] == simu_name, 'cv_v_init_per_n_ori'] = np.std(simu_df[\"v_init_per_n_ori\"])/np.mean(simu_df[\"v_init_per_n_ori\"])"
   ]
  },
  {
   "cell_type": "markdown",
   "metadata": {},
   "source": [
    "# Calculate variance at different growth rates"
   ]
  },
  {
   "cell_type": "code",
   "execution_count": 47,
   "metadata": {},
   "outputs": [],
   "source": [
    "def return_array_of_initiation_volumes(filepath_h5):\n",
    "    data_frame = pd.read_hdf(filepath_h5, key='dataset_init_events')\n",
    "    return data_frame['v_init_per_ori'], data_frame['t_init']\n",
    "\n",
    "def calculate_CV_v_init(row):\n",
    "    v_init_per_ori, t_init = return_array_of_initiation_volumes(row.path_dataset)\n",
    "    v_init_np = v_init_per_ori.to_numpy()\n",
    "    return np.std(v_init_np[10:])/np.mean(v_init_np[10:])"
   ]
  },
  {
   "cell_type": "code",
   "execution_count": 48,
   "metadata": {},
   "outputs": [
    {
     "data": {
      "text/plain": [
       "0     0.181466\n",
       "1     0.008963\n",
       "2     0.099226\n",
       "3     0.081115\n",
       "4     0.008586\n",
       "5     0.124523\n",
       "6     0.009903\n",
       "7     0.015536\n",
       "8     0.069976\n",
       "9     0.067136\n",
       "10    0.011001\n",
       "11    0.060091\n",
       "12    0.028413\n",
       "13    0.115903\n",
       "14    0.007460\n",
       "15    0.082150\n",
       "16    0.036644\n",
       "17    0.137019\n",
       "18    0.155141\n",
       "19    0.041773\n",
       "20    0.048286\n",
       "21    0.006019\n",
       "22    0.018919\n",
       "23    0.017450\n",
       "24    0.005678\n",
       "25    0.027359\n",
       "26    0.006414\n",
       "27    0.008639\n",
       "28    0.013740\n",
       "29    0.011524\n",
       "        ...   \n",
       "40    0.054939\n",
       "41    0.030564\n",
       "42    0.022772\n",
       "43    0.019915\n",
       "44    0.010371\n",
       "45    0.007780\n",
       "46    0.014263\n",
       "47    0.011086\n",
       "48    0.025725\n",
       "49    0.041047\n",
       "50    0.065260\n",
       "51    0.337652\n",
       "52    0.036702\n",
       "53    0.038586\n",
       "54    0.328061\n",
       "55    0.043310\n",
       "56    0.344698\n",
       "57    0.226493\n",
       "58    0.179917\n",
       "59    0.245818\n",
       "60    0.250290\n",
       "61    0.247629\n",
       "62    0.232539\n",
       "63    0.037127\n",
       "64    0.318392\n",
       "65    0.061182\n",
       "66    0.238527\n",
       "67    0.050298\n",
       "68    0.059209\n",
       "69    0.244383\n",
       "Name: CV_v_init, Length: 70, dtype: float64"
      ]
     },
     "execution_count": 48,
     "metadata": {},
     "output_type": "execute_result"
    }
   ],
   "source": [
    "data_frame[\"CV_v_init\"] = data_frame.apply(lambda row: calculate_CV_v_init(row), axis=1)\n",
    "data_frame.CV_v_init"
   ]
  },
  {
   "cell_type": "markdown",
   "metadata": {},
   "source": [
    "# Make Legends"
   ]
  },
  {
   "cell_type": "code",
   "execution_count": 49,
   "metadata": {},
   "outputs": [],
   "source": [
    "def make_production_rate_datA_lipids_cv_legend(destruction_rate_datA, production_rate_lipids, cv):\n",
    "    return r'$\\beta_{{\\rm datA}}={}$ /h, $\\alpha_{{\\rm lipids}}={}$ /h, CV= {}'.format(np.round(destruction_rate_datA,3), \n",
    "                                                                                       np.round(production_rate_lipids,3), \n",
    "                                                                                       np.round(cv,3))\n",
    "\n",
    "def make_production_rate_datA_cv_legend(destruction_rate_datA, cv):\n",
    "    return r'$\\beta_{{\\rm datA}}={}$ /h, CV= {}'.format(np.round(destruction_rate_datA,3),\n",
    "                                                        np.round(cv,3))\n",
    "\n",
    "def make_production_rate_datA_legend(destruction_rate_datA):\n",
    "    return r'$\\beta_{{\\rm datA}}={}$ min$^{{-1}}$'.format(int(destruction_rate_datA/60))\n",
    "\n",
    "def make_production_rate_datA_lipids_legend(destruction_rate_datA, production_rate_lipids):\n",
    "    return r'$\\beta_{{\\rm datA}}={}$ /h, \\linebreak  $\\alpha_{{\\rm lipids}}={}$ /h'.format(np.round(destruction_rate_datA,3), \n",
    "                                                                                       np.round(production_rate_lipids,3))\n",
    "\n",
    "def make_theoretical_v_init_legend(v_init_per_n_ori_th_no_time_varying):\n",
    "    return r'$v^\\ast_{{\\rm th}}={} \\, \\mu $m$^3$'.format(np.round(v_init_per_n_ori_th_no_time_varying,3))\n",
    "\n",
    "def make_legend_model(version_of_model, n_sites, block_production):\n",
    "    if version_of_model == 'titration':\n",
    "        if block_production == 0:\n",
    "            return 'titration'\n",
    "        else:\n",
    "            return 'titration+SeqA'\n",
    "    if n_sites==0:\n",
    "        return 'LDDR'\n",
    "    else:\n",
    "        if block_production == 0:\n",
    "            return 'LDDR+titration'\n",
    "        else:\n",
    "            return 'LDDR+titration+SeqA'\n",
    "\n",
    "def make_order(legend_models):\n",
    "    if legend_models == 'titration':\n",
    "        return 1\n",
    "    if legend_models == 'titration+SeqA':\n",
    "        return 2\n",
    "    if legend_models == 'LDDR':\n",
    "        return 3\n",
    "    if legend_models == 'LDDR+titration':\n",
    "        return 4\n",
    "    if legend_models == 'LDDR+titration+SeqA':\n",
    "        return 5\n",
    "    \n",
    "\n",
    "\n",
    "data_frame.loc[:, 'legend_datA_lipids_cv'] = data_frame.apply(lambda row: make_production_rate_datA_lipids_cv_legend(row.destruction_rate_datA,\n",
    "                                                                                                              row.production_rate_lipids,\n",
    "                                                                                                              row.cv_v_init_per_n_ori), axis = 1)\n",
    "\n",
    "data_frame.loc[:, 'legend_datA_cv'] = data_frame.apply(lambda row: make_production_rate_datA_cv_legend(row.destruction_rate_datA,\n",
    "                                                                                                              row.cv_v_init_per_n_ori), axis = 1)\n",
    "\n",
    "data_frame.loc[:, 'legend_datA'] = data_frame.apply(lambda row: make_production_rate_datA_legend(row.destruction_rate_datA), axis = 1)\n",
    "\n",
    "data_frame.loc[:, 'legend_datA_lipids'] = data_frame.apply(lambda row: make_production_rate_datA_lipids_legend(row.destruction_rate_datA,\n",
    "                                                                                                              row.production_rate_lipids), axis = 1)\n",
    "\n",
    "data_frame.loc[:, 'legend_v_init_th'] = data_frame.apply(lambda row: make_theoretical_v_init_legend(row.v_init_per_n_ori_th_no_time_varying), axis = 1)\n",
    "\n",
    "data_frame.loc[:, 'legend_models'] = data_frame.apply(lambda row: make_legend_model(row.version_of_model, row.n_c_max_0, row.block_production), axis = 1)\n",
    "\n",
    "data_frame.loc[:, 'legend_order'] = data_frame.apply(lambda row: make_order(row.legend_models), axis = 1)\n"
   ]
  },
  {
   "cell_type": "markdown",
   "metadata": {},
   "source": [
    "# Determine minimal activator fraction"
   ]
  },
  {
   "cell_type": "code",
   "execution_count": 50,
   "metadata": {},
   "outputs": [],
   "source": [
    "def determine_min_frac(filepath_h5, total_conc):\n",
    "    data_frame_traces = pd.read_hdf(filepath_h5, key='dataset_time_traces')\n",
    "    fractions = data_frame_traces['active_conc'] / total_conc\n",
    "    return np.min(fractions[int(fractions.size/2):])\n",
    "\n",
    "def determine_max_frac(filepath_h5, total_conc):\n",
    "    data_frame_traces = pd.read_hdf(filepath_h5, key='dataset_time_traces')\n",
    "    fractions = data_frame_traces['active_conc'] / total_conc\n",
    "    return np.max(fractions[int(fractions.size/2):])\n",
    "\n",
    "data_frame.loc[:, 'min_frac'] = data_frame.apply(lambda row: determine_min_frac(row.path_dataset, row.total_conc), axis = 1)\n",
    "data_frame.loc[:, 'max_frac'] = data_frame.apply(lambda row: determine_max_frac(row.path_dataset, row.total_conc), axis = 1)\n",
    "data_frame['amplitude_frac'] = data_frame['max_frac']-data_frame['min_frac']\n",
    "data_frame['relative_change_frac']= data_frame['min_frac']/data_frame['max_frac']"
   ]
  },
  {
   "cell_type": "markdown",
   "metadata": {},
   "source": [
    "# Plot amplitude time varying"
   ]
  },
  {
   "cell_type": "code",
   "execution_count": 51,
   "metadata": {},
   "outputs": [
    {
     "data": {
      "image/png": "[encoded data removed]",
      "text/plain": [
       "<Figure size 504x360 with 1 Axes>"
      ]
     },
     "metadata": {},
     "output_type": "display_data"
    }
   ],
   "source": [
    "sns.set(style=\"ticks\")\n",
    "sns.set_context(\"poster\")\n",
    "\n",
    "fig, ax = plt.subplots(figsize=(7,5))\n",
    "sns.lineplot(\n",
    "    x='rate_growth', \n",
    "    y='CV_v_init',\n",
    "    data=data_frame.sort_values(by=[\"legend_order\"]),\n",
    "    hue='legend_models',\n",
    "#     dashes=[(4, 1), (4, 1), (4, 1), (4, 1)],\n",
    "    markers=True,\n",
    "    palette= [green, blue, pinkish_red, light_blue],#, yellow],\n",
    "    linewidth = 3.5,\n",
    "    ax=ax\n",
    ");\n",
    "ax.lines[0].set_linestyle(\"--\")\n",
    "ax.lines[1].set_linestyle(\"--\")\n",
    "ax.lines[2].set_linestyle(\"--\")\n",
    "ax.lines[3].set_linestyle(\"--\")\n",
    "ax.lines[4].set_linestyle(\"--\")\n",
    "ax.margins(0)\n",
    "ax.set(xlabel=r'$\\lambda$ [h$^{-1}$]', ylabel=r'CV')\n",
    "# plt.legend(labels=legend\n",
    "ax.set(ylim=(0,0.36))\n",
    "ax.tick_params(direction='out', length=6, width=2, grid_alpha=0.5)\n",
    "handles, labels = ax.get_legend_handles_labels()\n",
    "ax.legend(handles=handles[1:], labels=labels[1:])\n",
    "plt.savefig(file_path + '/variances_models_'+source_noise+'.pdf', format='pdf', bbox_inches='tight')"
   ]
  },
  {
   "cell_type": "code",
   "execution_count": null,
   "metadata": {},
   "outputs": [],
   "source": []
  },
  {
   "cell_type": "code",
   "execution_count": null,
   "metadata": {},
   "outputs": [],
   "source": []
  },
  {
   "cell_type": "code",
   "execution_count": null,
   "metadata": {},
   "outputs": [],
   "source": []
  },
  {
   "cell_type": "code",
   "execution_count": null,
   "metadata": {},
   "outputs": [],
   "source": []
  },
  {
   "cell_type": "code",
   "execution_count": null,
   "metadata": {},
   "outputs": [],
   "source": []
  }
 ],
 "metadata": {
  "kernelspec": {
   "display_name": "Python 3",
   "language": "python",
   "name": "python3"
  },
  "language_info": {
   "codemirror_mode": {
    "name": "ipython",
    "version": 3
   },
   "file_extension": ".py",
   "mimetype": "text/x-python",
   "name": "python",
   "nbconvert_exporter": "python",
   "pygments_lexer": "ipython3",
   "version": "3.7.3"
  }
 },
 "nbformat": 4,
 "nbformat_minor": 2
}
