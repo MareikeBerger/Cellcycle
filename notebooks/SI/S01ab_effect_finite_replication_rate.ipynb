{
 "cells": [
  {
   "cell_type": "code",
   "execution_count": 1,
   "metadata": {},
   "outputs": [],
   "source": [
    "import numpy as np\n",
    "import pandas as pd\n",
    "import os\n",
    "from glob import glob\n",
    "from pprint import pprint\n",
    "import json\n",
    "import seaborn as sns\n",
    "import matplotlib.pyplot as plt\n",
    "from matplotlib.collections import LineCollection\n",
    "from matplotlib.colors import ListedColormap, BoundaryNorm\n",
    "import matplotlib.pyplot as plt\n",
    "\n",
    "import cellcycle.PlottingTools as plottingTools\n",
    "from cellcycle.ParameterSet import ParameterSet\n",
    "import cellcycle.DataStorage as dataStorage\n",
    "import cellcycle.DataAnalysis as dataAnalysis\n",
    "import cellcycle.MakeDataframe as makeDataframe\n",
    "from cellcycle import mainClass"
   ]
  },
  {
   "cell_type": "code",
   "execution_count": 12,
   "metadata": {},
   "outputs": [],
   "source": [
    "replication_speed = 'infinite' # options 'finite' or 'infinite'"
   ]
  },
  {
   "cell_type": "code",
   "execution_count": 13,
   "metadata": {},
   "outputs": [
    {
     "name": "stdout",
     "output_type": "stream",
     "text": [
      "file_path /home/berger/Data/UltrasensitivityCombined/Final_NatCom_Submission/SI/S1_gene_expr_ribo/infinite\n",
      "parameter_path /home/berger/Data/UltrasensitivityCombined/Final_NatCom_Submission/SI/S1_gene_expr_ribo/infinite/parameter_set.csv\n",
      "/home/berger/Data/UltrasensitivityCombined/Final_NatCom_Submission/SI/S1_gene_expr_ribo/infinite\n"
     ]
    }
   ],
   "source": [
    "file_path_input_params_json = '../../input_params.json'\n",
    "input_param_dict = mainClass.extract_variables_from_input_params_json(file_path_input_params_json)\n",
    "root_path = input_param_dict[\"DATA_FOLDER_PATH\"]\n",
    "simulation_location = 'SI/S1_gene_expr_ribo/'+replication_speed\n",
    "file_path = os.path.join(root_path, simulation_location)\n",
    "print('file_path', file_path)\n",
    "parameter_path = os.path.join(file_path, 'parameter_set.csv')\n",
    "print('parameter_path', parameter_path)\n",
    "\n",
    "pinkish_red = (247 / 255, 109 / 255, 109 / 255)\n",
    "green = (0 / 255, 133 / 255, 86 / 255)\n",
    "dark_blue = (36 / 255, 49 / 255, 94 / 255)\n",
    "light_blue = (168 / 255, 209 / 255, 231 / 255)\n",
    "blue = (55 / 255, 71 / 255, 133 / 255)\n",
    "yellow = (247 / 255, 233 / 255, 160 / 255)\n",
    "dark_yellow = (235 / 255, 201 / 255, 27 / 255)\n",
    "print(file_path)"
   ]
  },
  {
   "cell_type": "markdown",
   "metadata": {},
   "source": [
    "# Make data frame from time traces"
   ]
  },
  {
   "cell_type": "code",
   "execution_count": 14,
   "metadata": {},
   "outputs": [
    {
     "name": "stdout",
     "output_type": "stream",
     "text": [
      "['/home/berger/Data/UltrasensitivityCombined/Final_NatCom_Submission/SI/S1_gene_expr_ribo/infinite/S2A_ribo_constit',\n",
      " '/home/berger/Data/UltrasensitivityCombined/Final_NatCom_Submission/SI/S1_gene_expr_ribo/infinite/FigS1_constit_infinite.pdf']\n",
      "[ 6.68   8.68  10.681 12.681 14.681 16.682 18.682]\n"
     ]
    }
   ],
   "source": [
    "data_frame = makeDataframe.make_dataframe(file_path)\n",
    "time_traces_data_frame = pd.read_hdf(data_frame['path_dataset'].iloc[0], key='dataset_time_traces')\n",
    "\n",
    "v_init_data_frame = pd.read_hdf(data_frame['path_dataset'].iloc[0], key='dataset_init_events')\n",
    "v_init = v_init_data_frame.iloc[3]['v_init']\n",
    "t_init_list = v_init_data_frame['t_init'].to_numpy()\n",
    "print(t_init_list)\n",
    "\n",
    "v_d_data_frame = pd.read_hdf(data_frame['path_dataset'].iloc[0], key='dataset_div_events')\n",
    "t_div_list = v_d_data_frame['t_d'].to_numpy()"
   ]
  },
  {
   "cell_type": "code",
   "execution_count": 15,
   "metadata": {},
   "outputs": [
    {
     "name": "stdout",
     "output_type": "stream",
     "text": [
      "20000\n",
      "11683 17704\n",
      "[11.683] [17.684]\n",
      "[ 9.682 11.683 13.683 15.683 17.684 19.684] [13.683 15.683 17.684]\n"
     ]
    }
   ],
   "source": [
    "time = np.array(time_traces_data_frame[\"time\"])\n",
    "volume = np.array(time_traces_data_frame[\"volume\"])\n",
    "n_ori = np.array(time_traces_data_frame[\"n_ori\"])\n",
    "n_p = np.array(time_traces_data_frame[\"N_init\"])\n",
    "n_s = np.array(time_traces_data_frame[\"sites_total\"])\n",
    "length_total = np.array(time_traces_data_frame[\"length_total\"])\n",
    "total_conc = n_p / volume\n",
    "free_conc = np.array(time_traces_data_frame[\"free_conc\"])\n",
    "print(time.size)\n",
    "t_0 = time[volume==v_d_data_frame['v_b'][2]]\n",
    "indx_0 = np.where(time==t_0)[0][0]\n",
    "t_f = time[volume==v_d_data_frame['v_b'][5]]\n",
    "indx_f = np.where(time==t_f)[0][0]+20\n",
    "\n",
    "print(indx_0, indx_f)\n",
    "print(t_0, t_f)\n",
    "\n",
    "n_ori_cut = n_ori[indx_0:indx_f]\n",
    "length_total_cut = length_total[indx_0:indx_f]\n",
    "time_cut = time[indx_0:indx_f]\n",
    "volume_cut = volume[indx_0:indx_f]\n",
    "n_ori_density_cut = n_ori_cut / volume_cut\n",
    "n_p_cut = n_p[indx_0:indx_f]\n",
    "n_s_cut = n_s[indx_0:indx_f]\n",
    "total_conc_cut = total_conc[indx_0:indx_f]\n",
    "free_conc_cut = free_conc[indx_0:indx_f]\n",
    "t_init_list_cut_1 = t_init_list[t_init_list>t_0]\n",
    "t_init_list_cut = t_init_list_cut_1[t_init_list_cut_1<t_f]\n",
    "t_div_list_cut_1 = t_div_list[t_div_list>t_0]\n",
    "t_div_list_cut = t_div_list_cut_1[t_div_list_cut_1<=t_f]\n",
    "\n",
    "print(t_div_list, t_div_list_cut)"
   ]
  },
  {
   "cell_type": "markdown",
   "metadata": {},
   "source": [
    "# Plot three figures"
   ]
  },
  {
   "cell_type": "code",
   "execution_count": 16,
   "metadata": {},
   "outputs": [
    {
     "name": "stdout",
     "output_type": "stream",
     "text": [
      "2.0 11.683 14.568390081777927\n"
     ]
    },
    {
     "data": {
      "image/png": "[encoded data removed]",
      "text/plain": [
       "<Figure size 230.4x288 with 4 Axes>"
      ]
     },
     "metadata": {
      "needs_background": "light"
     },
     "output_type": "display_data"
    }
   ],
   "source": [
    "x_axes_list = [time_cut, time_cut, time_cut, time_cut]\n",
    "if replication_speed == 'finite':\n",
    "        phi = n_ori_cut/length_total_cut\n",
    "else:\n",
    "    phi = np.ones(volume_cut.size)\n",
    "label = r'$\\phi(t)$'\n",
    "y_axes_list = [volume_cut, phi, n_p_cut, total_conc_cut, free_conc_cut]\n",
    "color_list = [green, dark_yellow, dark_blue, pinkish_red]\n",
    "y_min_list = [0,0,0,0]\n",
    "y_max_list = [1, 1.2, 1.2, 1.2]\n",
    "label_list = [r'$V(t) \\, [\\mu m^3]$', label, r'$N(t)$', r'$[p]_{\\rm T}(t) \\, [\\mu m^{-3}]$']\n",
    "doubling_time = 1/data_frame.iloc[0]['doubling_rate']\n",
    "fig, ax = plt.subplots(4, figsize=(3.2,4))\n",
    "plt.xlabel(r'time [$\\tau_{\\rm d}$]')\n",
    "for item in range(0, len(label_list)):\n",
    "    ax[item].set_ylabel(label_list[item])\n",
    "    ax[item].plot(x_axes_list[item], y_axes_list[item], color=color_list[item], zorder=3)\n",
    "    ax[item].set_ylim(ymin=0)\n",
    "    ax[item].tick_params(\n",
    "        axis='x',          # changes apply to the x-axis\n",
    "        which='both',      # both major and minor ticks are affected\n",
    "        bottom=False,      # ticks along the bottom edge are off\n",
    "        top=False,         # ticks along the top edge are off\n",
    "        labelbottom=False) # labels along the bottom edge are off\n",
    "    ax[item].spines[\"top\"].set_visible(False)\n",
    "    ax[item].spines[\"right\"].set_visible(False)\n",
    "    ax[item].margins(0)\n",
    "    for t_div in t_div_list_cut:\n",
    "        ax[item].axvline(x=t_div, \n",
    "                          ymin=y_min_list[item],\n",
    "                          ymax=y_max_list[item],\n",
    "                             c=\"black\",\n",
    "                          zorder=0, \n",
    "                          linewidth=0.8,\n",
    "                          clip_on=False)\n",
    "    for t_init in t_init_list_cut:\n",
    "        ax[item].axvline(x=t_init, \n",
    "                          ymin=y_min_list[item],\n",
    "                          ymax=y_max_list[item],\n",
    "                             c=\"black\",\n",
    "                          zorder=0, \n",
    "                          linewidth=0.8,\n",
    "                          linestyle='--',\n",
    "                          clip_on=False)\n",
    "ax[0].set_yticks([0,v_init])\n",
    "ax[0].set_yticklabels(['0', r'$v^\\ast$'])\n",
    "ax[0].get_yticklabels()[1].set_color(color_list[0])\n",
    "# # ax[0].tick_params(axis='y', colors=green)\n",
    "ax[0].axhline(y=v_init, color=green, linestyle='--', label=r'$v^\\ast$')\n",
    "# ax[0].axhline(y=2*v_init, color=green, linestyle='--')\n",
    "\n",
    "\n",
    "ax[1].set_yticks([0,1, 2])\n",
    "ax[1].set_yticklabels(['0', '1', '2'])\n",
    "# ax[1].get_yticklabels()[1].set_color(dark_yellow)\n",
    "\n",
    "# ax[2].axhline(y=data_frame.iloc[0]['michaelis_const_regulator'], color=pinkish_red, linestyle='--')\n",
    "# ax[2].set_yticks([0, data_frame.iloc[0]['michaelis_const_regulator']])\n",
    "# ax[2].set_yticklabels([0, r'$K_{\\rm D}^{\\rm r}$'])\n",
    "# ax[2].get_yticklabels()[1].set_color(color_list[2])\n",
    "\n",
    "# ax[3].axhline(y=data_frame.iloc[0]['critical_free_conc'], color=color_list[3], linestyle='--')\n",
    "# ax[3].set_yticks([0, data_frame.iloc[0]['critical_free_conc']])\n",
    "# ax[3].set_yticklabels(['0', r'$K_{\\rm D}^{\\rm ori}$'])\n",
    "# ax[3].get_yticklabels()[1].set_color(color_list[3])\n",
    "# ax[3].tick_params(bottom=True, labelbottom=True)\n",
    "# ax[3].tick_params(axis='x', colors='black')\n",
    "# if version == 'neg_auto':  \n",
    "#     ax[3].axhline(y=data_frame.iloc[0]['michaelis_const_initiator'], color=pinkish_red, linestyle='--')\n",
    "#     ax[3].set_yticks([0, data_frame.iloc[0]['michaelis_const_initiator']])\n",
    "#     ax[3].set_yticklabels([0, r'$K_{\\rm D}^{\\rm p}$'])\n",
    "ax[3].set(ylim=(0,np.amax(total_conc_cut)*1.2))\n",
    "ax[3].set_xticks([time_cut[0], \n",
    "                  time_cut[0]+ doubling_time, \n",
    "                  time_cut[0]+ 2*doubling_time, \n",
    "                  time_cut[0]+ 3*doubling_time])\n",
    "ax[3].set_xticklabels(['0', '1', '2', '3'])\n",
    "ax[3].margins(0)\n",
    "ax[3].tick_params(     # ticks along the bottom edge are off\n",
    "    bottom=True,         # ticks along the top edge are off\n",
    "    labelbottom=True)\n",
    "\n",
    "fig.align_ylabels()\n",
    "print(doubling_time, time_cut[0], time_cut[0]+ doubling_time / np.log(2))\n",
    "plt.savefig(file_path + '/Fig_S1_'+replication_speed+'.pdf', format='pdf',bbox_inches='tight')"
   ]
  },
  {
   "cell_type": "code",
   "execution_count": null,
   "metadata": {},
   "outputs": [],
   "source": []
  },
  {
   "cell_type": "code",
   "execution_count": null,
   "metadata": {},
   "outputs": [],
   "source": []
  }
 ],
 "metadata": {
  "kernelspec": {
   "display_name": "Python 3",
   "language": "python",
   "name": "python3"
  },
  "language_info": {
   "codemirror_mode": {
    "name": "ipython",
    "version": 3
   },
   "file_extension": ".py",
   "mimetype": "text/x-python",
   "name": "python",
   "nbconvert_exporter": "python",
   "pygments_lexer": "ipython3",
   "version": "3.7.3"
  }
 },
 "nbformat": 4,
 "nbformat_minor": 2
}
