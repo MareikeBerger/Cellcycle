{
 "cells": [
  {
   "cell_type": "code",
   "execution_count": 23,
   "metadata": {},
   "outputs": [],
   "source": [
    "import numpy as np\n",
    "import pandas as pd\n",
    "import os\n",
    "from glob import glob\n",
    "from pprint import pprint\n",
    "import json\n",
    "import seaborn as sns\n",
    "import matplotlib.pyplot as plt\n",
    "from matplotlib.collections import LineCollection\n",
    "from matplotlib.colors import ListedColormap, BoundaryNorm\n",
    "import matplotlib.pyplot as plt\n",
    "\n",
    "import cellcycle.PlottingTools as plottingTools\n",
    "from cellcycle.ParameterSet import ParameterSet\n",
    "import cellcycle.DataStorage as dataStorage\n",
    "import cellcycle.DataAnalysis as dataAnalysis\n",
    "import cellcycle.MakeDataframe as makeDataframe\n",
    "import cellcycle.MakeDataframe as makeDataframe\n",
    "from cellcycle import mainClass"
   ]
  },
  {
   "cell_type": "code",
   "execution_count": 24,
   "metadata": {},
   "outputs": [],
   "source": [
    "source_noise = 'lipids' #options 'lipids' or 'DnaA'"
   ]
  },
  {
   "cell_type": "code",
   "execution_count": 40,
   "metadata": {},
   "outputs": [
    {
     "name": "stdout",
     "output_type": "stream",
     "text": [
      "file_path /home/berger/Data/UltrasensitivityCombined/Final_NatCom_Submission/SI/S14_LDDR_titration_SeqA/variance_lipids\n",
      "parameter_path /home/berger/Data/UltrasensitivityCombined/Final_NatCom_Submission/SI/S14_LDDR_titration_SeqA/variance_lipids/parameter_set.csv\n"
     ]
    }
   ],
   "source": [
    "file_path_input_params_json = '../../input_params.json'\n",
    "input_param_dict = mainClass.extract_variables_from_input_params_json(file_path_input_params_json)\n",
    "root_path = input_param_dict[\"DATA_FOLDER_PATH\"]\n",
    "simulation_location = 'SI/S14_LDDR_titration_SeqA/variance_'+ source_noise #'SI/S13_LDDR_titration_SeqA/variance_'+source_noise\n",
    "file_path = os.path.join(root_path, simulation_location)\n",
    "print('file_path', file_path)\n",
    "parameter_path = os.path.join(file_path, 'parameter_set.csv')\n",
    "print('parameter_path', parameter_path)"
   ]
  },
  {
   "cell_type": "code",
   "execution_count": 41,
   "metadata": {},
   "outputs": [],
   "source": [
    "pinkish_red = (247 / 255, 109 / 255, 109 / 255)\n",
    "green = (0 / 255, 133 / 255, 86 / 255)\n",
    "dark_blue = (36 / 255, 49 / 255, 94 / 255)\n",
    "light_blue = (168 / 255, 209 / 255, 231 / 255)\n",
    "blue = (55 / 255, 71 / 255, 133 / 255)\n",
    "yellow = (247 / 255, 233 / 255, 160 / 255)"
   ]
  },
  {
   "cell_type": "code",
   "execution_count": 42,
   "metadata": {},
   "outputs": [],
   "source": [
    "v_init_exp = 0.28\n",
    "std_exp = 0.05"
   ]
  },
  {
   "cell_type": "code",
   "execution_count": 43,
   "metadata": {},
   "outputs": [
    {
     "name": "stdout",
     "output_type": "stream",
     "text": [
      "['/home/berger/Data/UltrasensitivityCombined/Final_NatCom_Submission/SI/S14_LDDR_titration_SeqA/variance_lipids/titration_longer',\n",
      " '/home/berger/Data/UltrasensitivityCombined/Final_NatCom_Submission/SI/S14_LDDR_titration_SeqA/variance_lipids/variances_models.pdf',\n",
      " '/home/berger/Data/UltrasensitivityCombined/Final_NatCom_Submission/SI/S14_LDDR_titration_SeqA/variance_lipids/switch_titration_lipid_noise_longer_5000',\n",
      " '/home/berger/Data/UltrasensitivityCombined/Final_NatCom_Submission/SI/S14_LDDR_titration_SeqA/variance_lipids/switch_lipid_noise_5000',\n",
      " '/home/berger/Data/UltrasensitivityCombined/Final_NatCom_Submission/SI/S14_LDDR_titration_SeqA/variance_lipids/full_model_lipid_noise',\n",
      " '/home/berger/Data/UltrasensitivityCombined/Final_NatCom_Submission/SI/S14_LDDR_titration_SeqA/variance_lipids/variances_models_lipids.pdf']\n"
     ]
    }
   ],
   "source": [
    "data_frame = makeDataframe.make_dataframe(file_path)\n",
    "data_frame = makeDataframe.add_average_values_to_df(data_frame)\n",
    "data_frame = makeDataframe.add_theoretical_init_reg_concentrations_to_df(data_frame)"
   ]
  },
  {
   "cell_type": "markdown",
   "metadata": {},
   "source": [
    "# Calculate initiation volume theoretically"
   ]
  },
  {
   "cell_type": "code",
   "execution_count": 44,
   "metadata": {},
   "outputs": [],
   "source": [
    "def calculate_v_initi_no_overlap_switch_time_varying(df):\n",
    "    try:\n",
    "#         print(df.production_rate_dars1)\n",
    "        production_rate_dars1 = df.production_rate_dars1\n",
    "    except:\n",
    "        production_rate_dars1 = 0\n",
    "    return df.destruction_rate_datA / df.production_rate_lipids * df.frac_init * \\\n",
    "           (df.michaelis_const_prod + (1 - df.frac_init) * df.total_conc) / \\\n",
    "           ((1 - df.frac_init) * (df.michaelis_const_destr + df.frac_init * df.total_conc))-((production_rate_dars1+ df.production_rate_dars2)/df.production_rate_lipids)\n",
    "\n",
    "def calculate_v_initi_overlap_switch_time_varying(df):\n",
    "    try:\n",
    "#         print(df.production_rate_dars1)\n",
    "        production_rate_dars1 = df.production_rate_dars1\n",
    "    except:\n",
    "        production_rate_dars1 = 0\n",
    "    return (df.destruction_rate_datA + df.high_rate_datA + df.destruction_rate_rida) / df.production_rate_lipids * df.frac_init * \\\n",
    "           (df.michaelis_const_prod + (1 - df.frac_init) * df.total_conc) / \\\n",
    "           ((1 - df.frac_init) * (df.michaelis_const_destr + df.frac_init * df.total_conc))- \\\n",
    "           ((production_rate_dars1 + df.production_rate_dars2 + df.high_rate_dars2)/df.production_rate_lipids)\n",
    "\n",
    "data_frame[\"v_init_per_n_ori_th_no_time_varying\"] = data_frame.apply(lambda row: calculate_v_initi_no_overlap_switch_time_varying(row), axis=1)\n",
    "data_frame[\"v_init_per_n_ori_th_o_time_varying\"] = data_frame.apply(lambda row: calculate_v_initi_no_overlap_switch_time_varying(row), axis=1)"
   ]
  },
  {
   "cell_type": "code",
   "execution_count": 45,
   "metadata": {},
   "outputs": [],
   "source": [
    "def calculate_v_init_switch_synthesis(df):\n",
    "    if df.include_synthesis==0:\n",
    "        return df.destruction_rate_datA / df.production_rate_lipids * df.frac_init * \\\n",
    "               (df.michaelis_const_prod + (1 - df.frac_init) * df.total_conc) / \\\n",
    "               ((1 - df.frac_init) * (df.michaelis_const_destr + df.frac_init * df.total_conc))\n",
    "    else:\n",
    "        return (df.destruction_rate_datA/df.total_conc) * \\\n",
    "                df.frac_init / (df.michaelis_const_destr/df.total_conc+ df.frac_init) * \\\n",
    "                (df.michaelis_const_prod / df.total_conc + 1 - df.frac_init) / \\\n",
    "                ((1- df.frac_init) * \\\n",
    "                (df.production_rate_lipids/df.total_conc + df.rate_growth * (df.michaelis_const_prod / df.total_conc + 1 - df.frac_init)))\n",
    "    \n",
    "data_frame[\"v_init_per_n_ori_synthesis\"] = data_frame.apply(lambda row: calculate_v_init_switch_synthesis(row), axis=1)\n"
   ]
  },
  {
   "cell_type": "markdown",
   "metadata": {},
   "source": [
    "# Calculate CV"
   ]
  },
  {
   "cell_type": "code",
   "execution_count": 46,
   "metadata": {},
   "outputs": [
    {
     "name": "stdout",
     "output_type": "stream",
     "text": [
      "titration_longer\n",
      "switch_titration_lipid_noise_longer_5000\n",
      "switch_lipid_noise_5000\n",
      "full_model_lipid_noise\n"
     ]
    }
   ],
   "source": [
    "for simu_name in data_frame.simu_name.unique():\n",
    "    simu_df = data_frame[data_frame[\"simu_name\"] == simu_name]\n",
    "    print(simu_name)\n",
    "    data_frame.loc[data_frame['simu_name'] == simu_name, 'mean_v_init_per_n_ori'] = np.mean(simu_df[\"v_init_per_n_ori\"])\n",
    "    data_frame.loc[data_frame['simu_name'] == simu_name, 'stdd_v_init_per_n_ori'] = np.std(simu_df[\"v_init_per_n_ori\"])\n",
    "    data_frame.loc[data_frame['simu_name'] == simu_name, 'cv_v_init_per_n_ori'] = np.std(simu_df[\"v_init_per_n_ori\"])/np.mean(simu_df[\"v_init_per_n_ori\"])"
   ]
  },
  {
   "cell_type": "markdown",
   "metadata": {},
   "source": [
    "# Calculate variance at different growth rates"
   ]
  },
  {
   "cell_type": "code",
   "execution_count": 47,
   "metadata": {},
   "outputs": [],
   "source": [
    "def return_array_of_initiation_volumes(filepath_h5):\n",
    "    data_frame = pd.read_hdf(filepath_h5, key='dataset_init_events')\n",
    "    return data_frame['v_init_per_ori'], data_frame['t_init']\n",
    "\n",
    "def calculate_CV_v_init(row):\n",
    "    v_init_per_ori, t_init = return_array_of_initiation_volumes(row.path_dataset)\n",
    "    v_init_np = v_init_per_ori.to_numpy()\n",
    "    return np.std(v_init_np[10:])/np.mean(v_init_np[10:])"
   ]
  },
  {
   "cell_type": "code",
   "execution_count": 48,
   "metadata": {},
   "outputs": [],
   "source": [
    "data_frame[\"CV_v_init\"] = data_frame.apply(lambda row: calculate_CV_v_init(row), axis=1)"
   ]
  },
  {
   "cell_type": "markdown",
   "metadata": {},
   "source": [
    "# Make Legends"
   ]
  },
  {
   "cell_type": "code",
   "execution_count": 49,
   "metadata": {},
   "outputs": [],
   "source": [
    "import math\n",
    "\n",
    "def make_production_rate_datA_lipids_cv_legend(activation_rate_lipids, production_rate_lipids):\n",
    "    print(production_rate_lipids)\n",
    "    if math.isnan(production_rate_lipids):\n",
    "        lipid_rate = activation_rate_lipids\n",
    "        print('is nan')\n",
    "    else:\n",
    "        lipid_rate = production_rate_lipids\n",
    "    return r'$\\alpha_{{\\rm lipids}}={}$ /h'.format(np.round(lipid_rate,3))\n",
    "\n",
    "def make_production_rate_datA_cv_legend(destruction_rate_datA, cv):\n",
    "    return r'$\\beta_{{\\rm datA}}={}$ /h, CV= {}'.format(np.round(destruction_rate_datA,3),\n",
    "                                                        np.round(cv,3))\n",
    "\n",
    "def make_production_rate_datA_legend(destruction_rate_datA):\n",
    "    return r'$\\beta_{{\\rm datA}}={}$ min$^{{-1}}$'.format(int(destruction_rate_datA/60))\n",
    "\n",
    "def make_production_rate_datA_lipids_legend(destruction_rate_datA, production_rate_lipids):\n",
    "    return r'$\\beta_{{\\rm datA}}={}$ /h, \\linebreak  $\\alpha_{{\\rm lipids}}={}$ /h'.format(np.round(destruction_rate_datA,3), \n",
    "                                                                                       np.round(production_rate_lipids,3))\n",
    "\n",
    "def make_theoretical_v_init_legend(v_init_per_n_ori_th_no_time_varying):\n",
    "    return r'$v^\\ast_{{\\rm th}}={} \\, \\mu $m$^3$'.format(np.round(v_init_per_n_ori_th_no_time_varying,3))\n",
    "\n",
    "def make_legend_model(version_of_model, n_sites, block_production):\n",
    "    if version_of_model == 'titration':\n",
    "        if block_production == 0:\n",
    "            return 'titration'\n",
    "        else:\n",
    "            return 'titration+SeqA'\n",
    "    if n_sites==0:\n",
    "        return 'LDDR'\n",
    "    else:\n",
    "        if block_production == 0:\n",
    "            return 'LDDR+titration'\n",
    "        else:\n",
    "            return 'LDDR+titration+SeqA'\n",
    "\n",
    "def make_order(legend_models):\n",
    "    if legend_models == 'titration':\n",
    "        return 1\n",
    "    if legend_models == 'titration+SeqA':\n",
    "        return 2\n",
    "    if legend_models == 'LDDR':\n",
    "        return 3\n",
    "    if legend_models == 'LDDR+titration':\n",
    "        return 4\n",
    "    if legend_models == 'LDDR+titration+SeqA':\n",
    "        return 5\n",
    "\n",
    "data_frame.loc[:, 'legend_v_init_th'] = data_frame.apply(lambda row: make_theoretical_v_init_legend(row.v_init_per_n_ori_th_no_time_varying), axis = 1)\n",
    "\n",
    "data_frame.loc[:, 'legend_models'] = data_frame.apply(lambda row: make_legend_model(row.version_of_model, row.n_c_max_0, row.block_production), axis = 1)\n",
    "\n",
    "data_frame.loc[:, 'legend_order'] = data_frame.apply(lambda row: make_order(row.legend_models), axis = 1)\n"
   ]
  },
  {
   "cell_type": "markdown",
   "metadata": {},
   "source": [
    "# Determine minimal activator fraction"
   ]
  },
  {
   "cell_type": "code",
   "execution_count": 50,
   "metadata": {},
   "outputs": [],
   "source": [
    "def determine_min_frac(filepath_h5, total_conc):\n",
    "    data_frame_traces = pd.read_hdf(filepath_h5, key='dataset_time_traces')\n",
    "    fractions = data_frame_traces['active_conc'] / total_conc\n",
    "    return np.min(fractions[int(fractions.size/2):])\n",
    "\n",
    "def determine_max_frac(filepath_h5, total_conc):\n",
    "    data_frame_traces = pd.read_hdf(filepath_h5, key='dataset_time_traces')\n",
    "    fractions = data_frame_traces['active_conc'] / total_conc\n",
    "    return np.max(fractions[int(fractions.size/2):])\n",
    "\n",
    "data_frame.loc[:, 'min_frac'] = data_frame.apply(lambda row: determine_min_frac(row.path_dataset, row.total_conc), axis = 1)\n",
    "data_frame.loc[:, 'max_frac'] = data_frame.apply(lambda row: determine_max_frac(row.path_dataset, row.total_conc), axis = 1)\n",
    "data_frame['amplitude_frac'] = data_frame['max_frac']-data_frame['min_frac']\n",
    "data_frame['relative_change_frac']= data_frame['min_frac']/data_frame['max_frac']"
   ]
  },
  {
   "cell_type": "markdown",
   "metadata": {},
   "source": [
    "# Plot amplitude time varying"
   ]
  },
  {
   "cell_type": "code",
   "execution_count": 52,
   "metadata": {},
   "outputs": [
    {
     "data": {
      "image/png": "[encoded data removed]",
      "text/plain": [
       "<Figure size 504x360 with 1 Axes>"
      ]
     },
     "metadata": {},
     "output_type": "display_data"
    }
   ],
   "source": [
    "sns.set(style=\"ticks\")\n",
    "sns.set_context(\"poster\")\n",
    "\n",
    "fig, ax = plt.subplots(figsize=(7,5))\n",
    "sns.lineplot(\n",
    "    x='rate_growth', \n",
    "    y='CV_v_init',\n",
    "    data=data_frame.sort_values(by=[\"legend_order\"]),\n",
    "    hue='legend_models',\n",
    "#     dashes=[(4, 1), (4, 1), (4, 1), (4, 1)],\n",
    "    markers=True,\n",
    "    palette= [green, blue, pinkish_red, light_blue],\n",
    "    linewidth = 3.5,\n",
    "    ax=ax\n",
    ");\n",
    "ax.lines[0].set_linestyle(\"--\")\n",
    "ax.lines[1].set_linestyle(\"--\")\n",
    "ax.lines[2].set_linestyle(\"--\")\n",
    "ax.lines[3].set_linestyle(\"--\")\n",
    "# ax.lines[4].set_linestyle(\"--\")\n",
    "ax.margins(0)\n",
    "ax.set(xlabel=r'$\\lambda$ [h$^{-1}$]', ylabel=r'CV')\n",
    "# plt.legend(labels=legend\n",
    "ax.set(ylim=(0,0.36))\n",
    "ax.tick_params(direction='out', length=6, width=2, grid_alpha=0.5)\n",
    "handles, labels = ax.get_legend_handles_labels()\n",
    "ax.legend(handles=handles[1:], labels=labels[1:])\n",
    "plt.savefig(file_path + '/variances_models_'+source_noise+'.pdf', format='pdf', bbox_inches='tight')"
   ]
  },
  {
   "cell_type": "code",
   "execution_count": null,
   "metadata": {},
   "outputs": [],
   "source": []
  },
  {
   "cell_type": "code",
   "execution_count": null,
   "metadata": {},
   "outputs": [],
   "source": []
  },
  {
   "cell_type": "code",
   "execution_count": null,
   "metadata": {},
   "outputs": [],
   "source": []
  },
  {
   "cell_type": "code",
   "execution_count": null,
   "metadata": {},
   "outputs": [],
   "source": []
  },
  {
   "cell_type": "code",
   "execution_count": null,
   "metadata": {},
   "outputs": [],
   "source": []
  }
 ],
 "metadata": {
  "kernelspec": {
   "display_name": "Python 3",
   "language": "python",
   "name": "python3"
  },
  "language_info": {
   "codemirror_mode": {
    "name": "ipython",
    "version": 3
   },
   "file_extension": ".py",
   "mimetype": "text/x-python",
   "name": "python",
   "nbconvert_exporter": "python",
   "pygments_lexer": "ipython3",
   "version": "3.7.3"
  }
 },
 "nbformat": 4,
 "nbformat_minor": 2
}
