{
 "cells": [
  {
   "cell_type": "code",
   "execution_count": 7,
   "metadata": {},
   "outputs": [],
   "source": [
    "import numpy as np\n",
    "import pandas as pd\n",
    "import os\n",
    "from glob import glob\n",
    "from pprint import pprint\n",
    "import json\n",
    "import seaborn as sns\n",
    "import matplotlib.pyplot as plt\n",
    "from matplotlib.collections import LineCollection\n",
    "from matplotlib.colors import ListedColormap, BoundaryNorm\n",
    "import matplotlib.pyplot as plt\n",
    "\n",
    "import cellcycle.PlottingTools as plottingTools\n",
    "from cellcycle.ParameterSet import ParameterSet\n",
    "import cellcycle.DataStorage as dataStorage\n",
    "import cellcycle.DataAnalysis as dataAnalysis\n",
    "import cellcycle.MakeDataframe as makeDataframe"
   ]
  },
  {
   "cell_type": "code",
   "execution_count": 8,
   "metadata": {},
   "outputs": [],
   "source": [
    "file_path = '/home/berger/Documents/Arbeit/PhD/data/UltrasensitivityCombined/results/paper/Fig_1A'\n",
    "\n",
    "parameter_path = os.path.join(file_path, 'parameter_set.csv')"
   ]
  },
  {
   "cell_type": "markdown",
   "metadata": {},
   "source": [
    "# Make data frame from time traces"
   ]
  },
  {
   "cell_type": "code",
   "execution_count": 9,
   "metadata": {},
   "outputs": [
    {
     "name": "stdout",
     "output_type": "stream",
     "text": [
      "['/home/berger/Documents/Arbeit/PhD/data/UltrasensitivityCombined/results/paper/Fig_1A/fig1_higher.pdf',\n",
      " '/home/berger/Documents/Arbeit/PhD/data/UltrasensitivityCombined/results/paper/Fig_1A/fig1_longer.pdf',\n",
      " '/home/berger/Documents/Arbeit/PhD/data/UltrasensitivityCombined/results/paper/Fig_1A/general_growth_law_fig1']\n"
     ]
    },
    {
     "data": {
      "text/plain": [
       "1.2888153602145769"
      ]
     },
     "execution_count": 9,
     "metadata": {},
     "output_type": "execute_result"
    }
   ],
   "source": [
    "data_frame = makeDataframe.make_dataframe(file_path)\n",
    "time_traces_data_frame = pd.read_hdf(data_frame['path_dataset'].iloc[0], key='dataset_time_traces')\n",
    "\n",
    "v_init_data_frame = pd.read_hdf(data_frame['path_dataset'].iloc[0], key='dataset_init_events')\n",
    "v_init = v_init_data_frame.iloc[0]['v_init']\n",
    "v_init"
   ]
  },
  {
   "cell_type": "code",
   "execution_count": 10,
   "metadata": {},
   "outputs": [],
   "source": [
    "n_ori = np.array(time_traces_data_frame[\"n_ori\"])\n",
    "time = np.array(time_traces_data_frame[\"time\"])\n",
    "volume = np.array(time_traces_data_frame[\"volume\"])\n",
    "n_ori_density = n_ori / volume"
   ]
  },
  {
   "cell_type": "markdown",
   "metadata": {},
   "source": [
    "# Color definitions"
   ]
  },
  {
   "cell_type": "code",
   "execution_count": 5,
   "metadata": {},
   "outputs": [],
   "source": [
    "pinkish_red = (247 / 255, 109 / 255, 109 / 255)\n",
    "green = (0 / 255, 133 / 255, 86 / 255)\n",
    "dark_blue = (36 / 255, 49 / 255, 94 / 255)\n",
    "light_blue = (168 / 255, 209 / 255, 231 / 255)\n",
    "blue = (55 / 255, 71 / 255, 133 / 255)\n",
    "yellow = (247 / 255, 233 / 255, 160 / 255)"
   ]
  },
  {
   "cell_type": "markdown",
   "metadata": {},
   "source": [
    "# Plot three figures"
   ]
  },
  {
   "cell_type": "code",
   "execution_count": 6,
   "metadata": {},
   "outputs": [
    {
     "data": {
      "image/png": "[encoded data removed]",
      "text/plain": [
       "<Figure size 432x216 with 3 Axes>"
      ]
     },
     "metadata": {},
     "output_type": "display_data"
    }
   ],
   "source": [
    "label_list = [r'$V(t)$', r'$n_{ori}(t)$', r'$\\rho_{ori}(t)$']\n",
    "x_axes_list = [time, time, time]\n",
    "y_axes_list = [volume, n_ori, n_ori_density]\n",
    "color_list = [green, dark_blue, pinkish_red]\n",
    "fig, ax = plt.subplots(3, figsize=(6,3))\n",
    "plt.xlabel('time')\n",
    "for item in range(0, len(label_list)):\n",
    "    ax[item].set_ylabel(label_list[item])\n",
    "    ax[item].plot(x_axes_list[item], y_axes_list[item], color=color_list[item])\n",
    "    ax[item].set_ylim(ymin=0)\n",
    "    ax[item].tick_params(\n",
    "        axis='x',          # changes apply to the x-axis\n",
    "        which='both',      # both major and minor ticks are affected\n",
    "        bottom=False,      # ticks along the bottom edge are off\n",
    "        top=False,         # ticks along the top edge are off\n",
    "        labelbottom=False) # labels along the bottom edge are off\n",
    "    ax[item].spines[\"top\"].set_visible(False)\n",
    "    ax[item].spines[\"right\"].set_visible(False)\n",
    "    ax[item].margins(0)\n",
    "ax[0].set_yticks([v_init, 2*v_init])\n",
    "ax[0].set_yticklabels([ r'$v^\\ast$', r'$2 \\, v^\\ast$'])\n",
    "ax[0].tick_params(axis='y', colors=green)\n",
    "ax[0].axhline(y=v_init, color=green, linestyle='--')\n",
    "ax[0].axhline(y=2*v_init, color=green, linestyle='--')\n",
    "\n",
    "ax[1].set_yticks([2, 4])\n",
    "ax[1].set_yticklabels([ r'2', r'4'])\n",
    "ax[2].axhline(y=1/v_init, color=pinkish_red, linestyle='--')\n",
    "ax[2].set_yticks([1/v_init])\n",
    "ax[2].set_yticklabels([ r'$\\rho^\\ast$'])\n",
    "ax[2].tick_params(axis='y', colors=pinkish_red)\n",
    "plt.savefig(file_path + '/fig1_higher.pdf', format='pdf')"
   ]
  },
  {
   "cell_type": "code",
   "execution_count": null,
   "metadata": {},
   "outputs": [],
   "source": []
  },
  {
   "cell_type": "code",
   "execution_count": null,
   "metadata": {},
   "outputs": [],
   "source": []
  }
 ],
 "metadata": {
  "kernelspec": {
   "display_name": "Python 3",
   "language": "python",
   "name": "python3"
  },
  "language_info": {
   "codemirror_mode": {
    "name": "ipython",
    "version": 3
   },
   "file_extension": ".py",
   "mimetype": "text/x-python",
   "name": "python",
   "nbconvert_exporter": "python",
   "pygments_lexer": "ipython3",
   "version": "3.7.3"
  }
 },
 "nbformat": 4,
 "nbformat_minor": 2
}
